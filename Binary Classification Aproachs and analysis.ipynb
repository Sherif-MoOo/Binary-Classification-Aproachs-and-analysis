{
 "cells": [
  {
   "cell_type": "code",
   "execution_count": 1,
   "id": "69c46645",
   "metadata": {
    "_cell_guid": "b1076dfc-b9ad-4769-8c92-a6c4dae69d19",
    "_uuid": "8f2839f25d086af736a60e9eeb907d3b93b6e0e5",
    "execution": {
     "iopub.execute_input": "2021-11-20T00:35:32.190768Z",
     "iopub.status.busy": "2021-11-20T00:35:32.188818Z",
     "iopub.status.idle": "2021-11-20T00:35:37.211827Z",
     "shell.execute_reply": "2021-11-20T00:35:37.210626Z",
     "shell.execute_reply.started": "2021-11-20T00:17:28.645867Z"
    },
    "papermill": {
     "duration": 5.174068,
     "end_time": "2021-11-20T00:35:37.212145",
     "exception": false,
     "start_time": "2021-11-20T00:35:32.038077",
     "status": "completed"
    },
    "tags": []
   },
   "outputs": [
    {
     "name": "stdout",
     "output_type": "stream",
     "text": [
      "/kaggle/input/tabular-playground-series-nov-2021/sample_submission.csv\n",
      "/kaggle/input/tabular-playground-series-nov-2021/train.csv\n",
      "/kaggle/input/tabular-playground-series-nov-2021/test.csv\n"
     ]
    }
   ],
   "source": [
    "# This Python 3 environment comes with many helpful analytics libraries installed\n",
    "# It is defined by the kaggle/python Docker image: https://github.com/kaggle/docker-python\n",
    "# For example, here's several helpful packages to load\n",
    "\n",
    "import numpy as np # linear algebra\n",
    "import pandas as pd # data processing, CSV file I/O (e.g. pd.read_csv)\n",
    "\n",
    "# Input data files are available in the read-only \"../input/\" directory\n",
    "# For example, running this (by clicking run or pressing Shift+Enter) will list all files under the input directory\n",
    "\n",
    "import os\n",
    "for dirname, _, filenames in os.walk('/kaggle/input'):\n",
    "    for filename in filenames:\n",
    "        print(os.path.join(dirname, filename))\n",
    "\n",
    "# You can write up to 20GB to the current directory (/kaggle/working/) that gets preserved as output when you create a version using \"Save & Run All\" \n",
    "# You can also write temporary files to /kaggle/temp/, but they won't be saved outside of the current session\n",
    "\n",
    "import seaborn as sns\n",
    "import matplotlib.pyplot as plt\n",
    "from sklearn.model_selection import train_test_split\n",
    "import matplotlib.style as style\n",
    "import matplotlib.gridspec as gridspec\n",
    "from scipy import stats\n",
    "from sklearn.model_selection import train_test_split\n",
    "from xgboost import XGBClassifier\n",
    "from sklearn.metrics import accuracy_score\n",
    "from datetime import datetime\n",
    "from sklearn.model_selection import RandomizedSearchCV, GridSearchCV\n",
    "from sklearn.metrics import roc_auc_score\n",
    "from sklearn.model_selection import StratifiedKFold\n",
    "from sklearn.linear_model import LogisticRegression\n",
    "from cuml.neighbors import KNeighborsClassifier, NearestNeighbors\n",
    "from sklearn import metrics"
   ]
  },
  {
   "cell_type": "markdown",
   "id": "396a05a4",
   "metadata": {
    "papermill": {
     "duration": 0.086257,
     "end_time": "2021-11-20T00:35:37.384951",
     "exception": false,
     "start_time": "2021-11-20T00:35:37.298694",
     "status": "completed"
    },
    "tags": []
   },
   "source": [
    "# Importing competition data"
   ]
  },
  {
   "cell_type": "code",
   "execution_count": 2,
   "id": "6e0adafb",
   "metadata": {
    "execution": {
     "iopub.execute_input": "2021-11-20T00:35:37.607365Z",
     "iopub.status.busy": "2021-11-20T00:35:37.606652Z",
     "iopub.status.idle": "2021-11-20T00:36:06.846832Z",
     "shell.execute_reply": "2021-11-20T00:36:06.847906Z",
     "shell.execute_reply.started": "2021-11-20T00:17:32.352376Z"
    },
    "papermill": {
     "duration": 29.329704,
     "end_time": "2021-11-20T00:36:06.848190",
     "exception": false,
     "start_time": "2021-11-20T00:35:37.518486",
     "status": "completed"
    },
    "tags": []
   },
   "outputs": [
    {
     "data": {
      "text/html": [
       "<div>\n",
       "<style scoped>\n",
       "    .dataframe tbody tr th:only-of-type {\n",
       "        vertical-align: middle;\n",
       "    }\n",
       "\n",
       "    .dataframe tbody tr th {\n",
       "        vertical-align: top;\n",
       "    }\n",
       "\n",
       "    .dataframe thead th {\n",
       "        text-align: right;\n",
       "    }\n",
       "</style>\n",
       "<table border=\"1\" class=\"dataframe\">\n",
       "  <thead>\n",
       "    <tr style=\"text-align: right;\">\n",
       "      <th></th>\n",
       "      <th>id</th>\n",
       "      <th>f0</th>\n",
       "      <th>f1</th>\n",
       "      <th>f2</th>\n",
       "      <th>f3</th>\n",
       "      <th>f4</th>\n",
       "      <th>f5</th>\n",
       "      <th>f6</th>\n",
       "      <th>f7</th>\n",
       "      <th>f8</th>\n",
       "      <th>...</th>\n",
       "      <th>f91</th>\n",
       "      <th>f92</th>\n",
       "      <th>f93</th>\n",
       "      <th>f94</th>\n",
       "      <th>f95</th>\n",
       "      <th>f96</th>\n",
       "      <th>f97</th>\n",
       "      <th>f98</th>\n",
       "      <th>f99</th>\n",
       "      <th>target</th>\n",
       "    </tr>\n",
       "  </thead>\n",
       "  <tbody>\n",
       "    <tr>\n",
       "      <th>0</th>\n",
       "      <td>0</td>\n",
       "      <td>0.106643</td>\n",
       "      <td>3.594370</td>\n",
       "      <td>132.8040</td>\n",
       "      <td>3.184280</td>\n",
       "      <td>0.081971</td>\n",
       "      <td>1.18859</td>\n",
       "      <td>3.732380</td>\n",
       "      <td>2.266270</td>\n",
       "      <td>2.099590</td>\n",
       "      <td>...</td>\n",
       "      <td>1.098620</td>\n",
       "      <td>0.013331</td>\n",
       "      <td>-0.011715</td>\n",
       "      <td>0.052759</td>\n",
       "      <td>0.065400</td>\n",
       "      <td>4.211250</td>\n",
       "      <td>1.978770</td>\n",
       "      <td>0.085974</td>\n",
       "      <td>0.240496</td>\n",
       "      <td>0</td>\n",
       "    </tr>\n",
       "    <tr>\n",
       "      <th>1</th>\n",
       "      <td>1</td>\n",
       "      <td>0.125021</td>\n",
       "      <td>1.673360</td>\n",
       "      <td>76.5336</td>\n",
       "      <td>3.378250</td>\n",
       "      <td>0.099400</td>\n",
       "      <td>5.09366</td>\n",
       "      <td>1.275620</td>\n",
       "      <td>-0.471318</td>\n",
       "      <td>4.545940</td>\n",
       "      <td>...</td>\n",
       "      <td>3.460170</td>\n",
       "      <td>0.017054</td>\n",
       "      <td>0.124863</td>\n",
       "      <td>0.154064</td>\n",
       "      <td>0.606848</td>\n",
       "      <td>-0.267928</td>\n",
       "      <td>2.577860</td>\n",
       "      <td>-0.020877</td>\n",
       "      <td>0.024719</td>\n",
       "      <td>0</td>\n",
       "    </tr>\n",
       "    <tr>\n",
       "      <th>2</th>\n",
       "      <td>2</td>\n",
       "      <td>0.036330</td>\n",
       "      <td>1.497470</td>\n",
       "      <td>233.5460</td>\n",
       "      <td>2.194350</td>\n",
       "      <td>0.026914</td>\n",
       "      <td>3.12694</td>\n",
       "      <td>5.056870</td>\n",
       "      <td>3.849460</td>\n",
       "      <td>1.801870</td>\n",
       "      <td>...</td>\n",
       "      <td>4.883000</td>\n",
       "      <td>0.085222</td>\n",
       "      <td>0.032396</td>\n",
       "      <td>0.116092</td>\n",
       "      <td>-0.001688</td>\n",
       "      <td>-0.520069</td>\n",
       "      <td>2.141120</td>\n",
       "      <td>0.124464</td>\n",
       "      <td>0.148209</td>\n",
       "      <td>0</td>\n",
       "    </tr>\n",
       "    <tr>\n",
       "      <th>3</th>\n",
       "      <td>3</td>\n",
       "      <td>-0.014077</td>\n",
       "      <td>0.246000</td>\n",
       "      <td>779.9670</td>\n",
       "      <td>1.890640</td>\n",
       "      <td>0.006948</td>\n",
       "      <td>1.53112</td>\n",
       "      <td>2.698000</td>\n",
       "      <td>4.517330</td>\n",
       "      <td>4.503320</td>\n",
       "      <td>...</td>\n",
       "      <td>3.474390</td>\n",
       "      <td>-0.017103</td>\n",
       "      <td>-0.008100</td>\n",
       "      <td>0.062013</td>\n",
       "      <td>0.041193</td>\n",
       "      <td>0.511657</td>\n",
       "      <td>1.968600</td>\n",
       "      <td>0.040017</td>\n",
       "      <td>0.044873</td>\n",
       "      <td>0</td>\n",
       "    </tr>\n",
       "    <tr>\n",
       "      <th>4</th>\n",
       "      <td>4</td>\n",
       "      <td>-0.003259</td>\n",
       "      <td>3.715420</td>\n",
       "      <td>156.1280</td>\n",
       "      <td>2.147720</td>\n",
       "      <td>0.018284</td>\n",
       "      <td>2.09859</td>\n",
       "      <td>4.154920</td>\n",
       "      <td>-0.038236</td>\n",
       "      <td>3.371450</td>\n",
       "      <td>...</td>\n",
       "      <td>1.910590</td>\n",
       "      <td>-0.042943</td>\n",
       "      <td>0.105616</td>\n",
       "      <td>0.125072</td>\n",
       "      <td>0.037509</td>\n",
       "      <td>1.043790</td>\n",
       "      <td>1.074810</td>\n",
       "      <td>-0.012819</td>\n",
       "      <td>0.072798</td>\n",
       "      <td>1</td>\n",
       "    </tr>\n",
       "    <tr>\n",
       "      <th>...</th>\n",
       "      <td>...</td>\n",
       "      <td>...</td>\n",
       "      <td>...</td>\n",
       "      <td>...</td>\n",
       "      <td>...</td>\n",
       "      <td>...</td>\n",
       "      <td>...</td>\n",
       "      <td>...</td>\n",
       "      <td>...</td>\n",
       "      <td>...</td>\n",
       "      <td>...</td>\n",
       "      <td>...</td>\n",
       "      <td>...</td>\n",
       "      <td>...</td>\n",
       "      <td>...</td>\n",
       "      <td>...</td>\n",
       "      <td>...</td>\n",
       "      <td>...</td>\n",
       "      <td>...</td>\n",
       "      <td>...</td>\n",
       "      <td>...</td>\n",
       "    </tr>\n",
       "    <tr>\n",
       "      <th>599995</th>\n",
       "      <td>599995</td>\n",
       "      <td>0.043008</td>\n",
       "      <td>1.640550</td>\n",
       "      <td>1375.8900</td>\n",
       "      <td>1.087030</td>\n",
       "      <td>0.839580</td>\n",
       "      <td>1.69362</td>\n",
       "      <td>3.843520</td>\n",
       "      <td>1.108250</td>\n",
       "      <td>1.505390</td>\n",
       "      <td>...</td>\n",
       "      <td>1.552280</td>\n",
       "      <td>0.080317</td>\n",
       "      <td>0.017643</td>\n",
       "      <td>0.225133</td>\n",
       "      <td>0.073179</td>\n",
       "      <td>4.436510</td>\n",
       "      <td>1.739330</td>\n",
       "      <td>0.049038</td>\n",
       "      <td>0.065804</td>\n",
       "      <td>1</td>\n",
       "    </tr>\n",
       "    <tr>\n",
       "      <th>599996</th>\n",
       "      <td>599996</td>\n",
       "      <td>0.137048</td>\n",
       "      <td>4.826860</td>\n",
       "      <td>-99.6478</td>\n",
       "      <td>0.985289</td>\n",
       "      <td>0.037712</td>\n",
       "      <td>3.30370</td>\n",
       "      <td>2.471790</td>\n",
       "      <td>5.942130</td>\n",
       "      <td>0.875148</td>\n",
       "      <td>...</td>\n",
       "      <td>1.345210</td>\n",
       "      <td>0.092457</td>\n",
       "      <td>0.081926</td>\n",
       "      <td>0.234041</td>\n",
       "      <td>0.041383</td>\n",
       "      <td>3.873990</td>\n",
       "      <td>1.870100</td>\n",
       "      <td>0.162313</td>\n",
       "      <td>0.085662</td>\n",
       "      <td>0</td>\n",
       "    </tr>\n",
       "    <tr>\n",
       "      <th>599997</th>\n",
       "      <td>599997</td>\n",
       "      <td>1.316220</td>\n",
       "      <td>0.502062</td>\n",
       "      <td>66.2360</td>\n",
       "      <td>2.233020</td>\n",
       "      <td>0.060038</td>\n",
       "      <td>3.77371</td>\n",
       "      <td>2.655340</td>\n",
       "      <td>3.155890</td>\n",
       "      <td>1.055020</td>\n",
       "      <td>...</td>\n",
       "      <td>2.181150</td>\n",
       "      <td>0.032708</td>\n",
       "      <td>0.109668</td>\n",
       "      <td>0.027466</td>\n",
       "      <td>0.061931</td>\n",
       "      <td>-0.383329</td>\n",
       "      <td>0.922113</td>\n",
       "      <td>0.084864</td>\n",
       "      <td>0.052635</td>\n",
       "      <td>0</td>\n",
       "    </tr>\n",
       "    <tr>\n",
       "      <th>599998</th>\n",
       "      <td>599998</td>\n",
       "      <td>0.511918</td>\n",
       "      <td>3.827470</td>\n",
       "      <td>777.8720</td>\n",
       "      <td>0.285914</td>\n",
       "      <td>0.520157</td>\n",
       "      <td>2.76285</td>\n",
       "      <td>2.522200</td>\n",
       "      <td>1.561360</td>\n",
       "      <td>1.971140</td>\n",
       "      <td>...</td>\n",
       "      <td>0.366702</td>\n",
       "      <td>0.070943</td>\n",
       "      <td>0.071452</td>\n",
       "      <td>-0.038071</td>\n",
       "      <td>0.038829</td>\n",
       "      <td>-0.122888</td>\n",
       "      <td>3.107790</td>\n",
       "      <td>0.061333</td>\n",
       "      <td>0.004179</td>\n",
       "      <td>1</td>\n",
       "    </tr>\n",
       "    <tr>\n",
       "      <th>599999</th>\n",
       "      <td>599999</td>\n",
       "      <td>0.179347</td>\n",
       "      <td>3.457390</td>\n",
       "      <td>160.5980</td>\n",
       "      <td>3.297320</td>\n",
       "      <td>0.102784</td>\n",
       "      <td>1.89434</td>\n",
       "      <td>0.057866</td>\n",
       "      <td>2.073280</td>\n",
       "      <td>1.191480</td>\n",
       "      <td>...</td>\n",
       "      <td>2.282780</td>\n",
       "      <td>0.160674</td>\n",
       "      <td>0.029301</td>\n",
       "      <td>1.059810</td>\n",
       "      <td>0.007639</td>\n",
       "      <td>3.732990</td>\n",
       "      <td>1.965300</td>\n",
       "      <td>0.049075</td>\n",
       "      <td>0.044436</td>\n",
       "      <td>1</td>\n",
       "    </tr>\n",
       "  </tbody>\n",
       "</table>\n",
       "<p>600000 rows × 102 columns</p>\n",
       "</div>"
      ],
      "text/plain": [
       "            id        f0        f1         f2        f3        f4       f5  \\\n",
       "0            0  0.106643  3.594370   132.8040  3.184280  0.081971  1.18859   \n",
       "1            1  0.125021  1.673360    76.5336  3.378250  0.099400  5.09366   \n",
       "2            2  0.036330  1.497470   233.5460  2.194350  0.026914  3.12694   \n",
       "3            3 -0.014077  0.246000   779.9670  1.890640  0.006948  1.53112   \n",
       "4            4 -0.003259  3.715420   156.1280  2.147720  0.018284  2.09859   \n",
       "...        ...       ...       ...        ...       ...       ...      ...   \n",
       "599995  599995  0.043008  1.640550  1375.8900  1.087030  0.839580  1.69362   \n",
       "599996  599996  0.137048  4.826860   -99.6478  0.985289  0.037712  3.30370   \n",
       "599997  599997  1.316220  0.502062    66.2360  2.233020  0.060038  3.77371   \n",
       "599998  599998  0.511918  3.827470   777.8720  0.285914  0.520157  2.76285   \n",
       "599999  599999  0.179347  3.457390   160.5980  3.297320  0.102784  1.89434   \n",
       "\n",
       "              f6        f7        f8  ...       f91       f92       f93  \\\n",
       "0       3.732380  2.266270  2.099590  ...  1.098620  0.013331 -0.011715   \n",
       "1       1.275620 -0.471318  4.545940  ...  3.460170  0.017054  0.124863   \n",
       "2       5.056870  3.849460  1.801870  ...  4.883000  0.085222  0.032396   \n",
       "3       2.698000  4.517330  4.503320  ...  3.474390 -0.017103 -0.008100   \n",
       "4       4.154920 -0.038236  3.371450  ...  1.910590 -0.042943  0.105616   \n",
       "...          ...       ...       ...  ...       ...       ...       ...   \n",
       "599995  3.843520  1.108250  1.505390  ...  1.552280  0.080317  0.017643   \n",
       "599996  2.471790  5.942130  0.875148  ...  1.345210  0.092457  0.081926   \n",
       "599997  2.655340  3.155890  1.055020  ...  2.181150  0.032708  0.109668   \n",
       "599998  2.522200  1.561360  1.971140  ...  0.366702  0.070943  0.071452   \n",
       "599999  0.057866  2.073280  1.191480  ...  2.282780  0.160674  0.029301   \n",
       "\n",
       "             f94       f95       f96       f97       f98       f99  target  \n",
       "0       0.052759  0.065400  4.211250  1.978770  0.085974  0.240496       0  \n",
       "1       0.154064  0.606848 -0.267928  2.577860 -0.020877  0.024719       0  \n",
       "2       0.116092 -0.001688 -0.520069  2.141120  0.124464  0.148209       0  \n",
       "3       0.062013  0.041193  0.511657  1.968600  0.040017  0.044873       0  \n",
       "4       0.125072  0.037509  1.043790  1.074810 -0.012819  0.072798       1  \n",
       "...          ...       ...       ...       ...       ...       ...     ...  \n",
       "599995  0.225133  0.073179  4.436510  1.739330  0.049038  0.065804       1  \n",
       "599996  0.234041  0.041383  3.873990  1.870100  0.162313  0.085662       0  \n",
       "599997  0.027466  0.061931 -0.383329  0.922113  0.084864  0.052635       0  \n",
       "599998 -0.038071  0.038829 -0.122888  3.107790  0.061333  0.004179       1  \n",
       "599999  1.059810  0.007639  3.732990  1.965300  0.049075  0.044436       1  \n",
       "\n",
       "[600000 rows x 102 columns]"
      ]
     },
     "execution_count": 2,
     "metadata": {},
     "output_type": "execute_result"
    }
   ],
   "source": [
    "df_train = pd.read_csv(\"../input/tabular-playground-series-nov-2021/train.csv\")\n",
    "df_test = pd.read_csv(\"../input/tabular-playground-series-nov-2021/test.csv\")\n",
    "df_train"
   ]
  },
  {
   "cell_type": "code",
   "execution_count": 3,
   "id": "acffcb82",
   "metadata": {
    "execution": {
     "iopub.execute_input": "2021-11-20T00:36:07.056462Z",
     "iopub.status.busy": "2021-11-20T00:36:07.055305Z",
     "iopub.status.idle": "2021-11-20T00:36:10.325729Z",
     "shell.execute_reply": "2021-11-20T00:36:10.325191Z",
     "shell.execute_reply.started": "2021-11-20T00:17:59.405126Z"
    },
    "papermill": {
     "duration": 3.358178,
     "end_time": "2021-11-20T00:36:10.325867",
     "exception": false,
     "start_time": "2021-11-20T00:36:06.967689",
     "status": "completed"
    },
    "tags": []
   },
   "outputs": [
    {
     "data": {
      "text/plain": [
       "id        600000\n",
       "f0        516483\n",
       "f1        409963\n",
       "f2        485459\n",
       "f3        398271\n",
       "           ...  \n",
       "f96       407424\n",
       "f97       399620\n",
       "f98       505994\n",
       "f99       499969\n",
       "target         2\n",
       "Length: 102, dtype: int64"
      ]
     },
     "execution_count": 3,
     "metadata": {},
     "output_type": "execute_result"
    }
   ],
   "source": [
    "df_train.nunique()"
   ]
  },
  {
   "cell_type": "markdown",
   "id": "096040dd",
   "metadata": {
    "papermill": {
     "duration": 0.085588,
     "end_time": "2021-11-20T00:36:10.493062",
     "exception": false,
     "start_time": "2021-11-20T00:36:10.407474",
     "status": "completed"
    },
    "tags": []
   },
   "source": [
    "# Features dtype consuming a lot of memory so need to be reduced"
   ]
  },
  {
   "cell_type": "code",
   "execution_count": 4,
   "id": "92dc0914",
   "metadata": {
    "execution": {
     "iopub.execute_input": "2021-11-20T00:36:10.681275Z",
     "iopub.status.busy": "2021-11-20T00:36:10.680620Z",
     "iopub.status.idle": "2021-11-20T00:36:10.686447Z",
     "shell.execute_reply": "2021-11-20T00:36:10.687434Z",
     "shell.execute_reply.started": "2021-11-20T00:18:01.861319Z"
    },
    "papermill": {
     "duration": 0.112071,
     "end_time": "2021-11-20T00:36:10.687701",
     "exception": false,
     "start_time": "2021-11-20T00:36:10.575630",
     "status": "completed"
    },
    "tags": []
   },
   "outputs": [
    {
     "name": "stdout",
     "output_type": "stream",
     "text": [
      "<class 'pandas.core.frame.DataFrame'>\n",
      "RangeIndex: 600000 entries, 0 to 599999\n",
      "Columns: 102 entries, id to target\n",
      "dtypes: float64(100), int64(2)\n",
      "memory usage: 466.9 MB\n"
     ]
    }
   ],
   "source": [
    "df_train.info()"
   ]
  },
  {
   "cell_type": "code",
   "execution_count": 5,
   "id": "c4523c49",
   "metadata": {
    "_kg_hide-input": true,
    "execution": {
     "iopub.execute_input": "2021-11-20T00:36:10.868122Z",
     "iopub.status.busy": "2021-11-20T00:36:10.866750Z",
     "iopub.status.idle": "2021-11-20T00:36:28.609019Z",
     "shell.execute_reply": "2021-11-20T00:36:28.610406Z",
     "shell.execute_reply.started": "2021-11-20T00:18:01.883088Z"
    },
    "papermill": {
     "duration": 17.843873,
     "end_time": "2021-11-20T00:36:28.610671",
     "exception": false,
     "start_time": "2021-11-20T00:36:10.766798",
     "status": "completed"
    },
    "tags": []
   },
   "outputs": [
    {
     "name": "stdout",
     "output_type": "stream",
     "text": [
      "Mem. usage decreased to 231.74 Mb (50.4% reduction)\n",
      "Mem. usage decreased to 208.05 Mb (50.0% reduction)\n"
     ]
    }
   ],
   "source": [
    "#reduce memory\n",
    "def reduce_mem_usage(df, verbose=True):\n",
    "    numerics = ['int16', 'int32', 'int64', 'float16', 'float32', 'float64']\n",
    "    start_mem = df.memory_usage().sum() / 1024**2    \n",
    "    for col in df.columns:\n",
    "        col_type = df[col].dtypes\n",
    "        if col_type in numerics:\n",
    "            c_min = df[col].min()\n",
    "            c_max = df[col].max()\n",
    "            if str(col_type)[:3] == 'int':\n",
    "                if c_min > np.iinfo(np.int8).min and c_max < np.iinfo(np.int8).max:\n",
    "                    df[col] = df[col].astype(np.int8)\n",
    "                elif c_min > np.iinfo(np.int16).min and c_max < np.iinfo(np.int16).max:\n",
    "                    df[col] = df[col].astype(np.int16)\n",
    "                elif c_min > np.iinfo(np.int32).min and c_max < np.iinfo(np.int32).max:\n",
    "                    df[col] = df[col].astype(np.int32)\n",
    "                elif c_min > np.iinfo(np.int64).min and c_max < np.iinfo(np.int64).max:\n",
    "                    df[col] = df[col].astype(np.int64)  \n",
    "            else:\n",
    "                if c_min > np.finfo(np.float32).min and c_max < np.finfo(np.float32).max:\n",
    "                    df[col] = df[col].astype(np.float32)\n",
    "                else:\n",
    "                    df[col] = df[col].astype(np.float64)    \n",
    "    end_mem = df.memory_usage().sum() / 1024**2\n",
    "    if verbose: print('Mem. usage decreased to {:5.2f} Mb ({:.1f}% reduction)'.format(end_mem, 100 * (start_mem - end_mem) / start_mem))\n",
    "    return df\n",
    "df_train = reduce_mem_usage(df_train)\n",
    "df_test = reduce_mem_usage(df_test)"
   ]
  },
  {
   "cell_type": "markdown",
   "id": "875ef10c",
   "metadata": {
    "papermill": {
     "duration": 0.121111,
     "end_time": "2021-11-20T00:36:28.874159",
     "exception": false,
     "start_time": "2021-11-20T00:36:28.753048",
     "status": "completed"
    },
    "tags": []
   },
   "source": [
    "> # EDA"
   ]
  },
  {
   "cell_type": "code",
   "execution_count": 6,
   "id": "e0db0b95",
   "metadata": {
    "execution": {
     "iopub.execute_input": "2021-11-20T00:36:29.043577Z",
     "iopub.status.busy": "2021-11-20T00:36:29.042394Z",
     "iopub.status.idle": "2021-11-20T00:36:29.175689Z",
     "shell.execute_reply": "2021-11-20T00:36:29.175155Z",
     "shell.execute_reply.started": "2021-11-20T00:18:15.618056Z"
    },
    "papermill": {
     "duration": 0.219785,
     "end_time": "2021-11-20T00:36:29.175834",
     "exception": false,
     "start_time": "2021-11-20T00:36:28.956049",
     "status": "completed"
    },
    "tags": []
   },
   "outputs": [
    {
     "data": {
      "text/plain": [
       "id        0\n",
       "f0        0\n",
       "f1        0\n",
       "f2        0\n",
       "f3        0\n",
       "         ..\n",
       "f96       0\n",
       "f97       0\n",
       "f98       0\n",
       "f99       0\n",
       "target    0\n",
       "Length: 102, dtype: int64"
      ]
     },
     "execution_count": 6,
     "metadata": {},
     "output_type": "execute_result"
    }
   ],
   "source": [
    "df_train.isnull().sum()"
   ]
  },
  {
   "cell_type": "code",
   "execution_count": 7,
   "id": "af8487bc",
   "metadata": {
    "execution": {
     "iopub.execute_input": "2021-11-20T00:36:29.348564Z",
     "iopub.status.busy": "2021-11-20T00:36:29.347562Z",
     "iopub.status.idle": "2021-11-20T00:36:41.197584Z",
     "shell.execute_reply": "2021-11-20T00:36:41.197093Z",
     "shell.execute_reply.started": "2021-11-20T00:18:15.729910Z"
    },
    "papermill": {
     "duration": 11.939321,
     "end_time": "2021-11-20T00:36:41.197753",
     "exception": false,
     "start_time": "2021-11-20T00:36:29.258432",
     "status": "completed"
    },
    "tags": []
   },
   "outputs": [
    {
     "data": {
      "text/html": [
       "<div>\n",
       "<style scoped>\n",
       "    .dataframe tbody tr th:only-of-type {\n",
       "        vertical-align: middle;\n",
       "    }\n",
       "\n",
       "    .dataframe tbody tr th {\n",
       "        vertical-align: top;\n",
       "    }\n",
       "\n",
       "    .dataframe thead th {\n",
       "        text-align: right;\n",
       "    }\n",
       "</style>\n",
       "<table border=\"1\" class=\"dataframe\">\n",
       "  <thead>\n",
       "    <tr style=\"text-align: right;\">\n",
       "      <th></th>\n",
       "      <th>id</th>\n",
       "      <th>f0</th>\n",
       "      <th>f1</th>\n",
       "      <th>f2</th>\n",
       "      <th>f3</th>\n",
       "      <th>f4</th>\n",
       "      <th>f5</th>\n",
       "      <th>f6</th>\n",
       "      <th>f7</th>\n",
       "      <th>f8</th>\n",
       "      <th>...</th>\n",
       "      <th>f91</th>\n",
       "      <th>f92</th>\n",
       "      <th>f93</th>\n",
       "      <th>f94</th>\n",
       "      <th>f95</th>\n",
       "      <th>f96</th>\n",
       "      <th>f97</th>\n",
       "      <th>f98</th>\n",
       "      <th>f99</th>\n",
       "      <th>target</th>\n",
       "    </tr>\n",
       "  </thead>\n",
       "  <tbody>\n",
       "  </tbody>\n",
       "</table>\n",
       "<p>0 rows × 102 columns</p>\n",
       "</div>"
      ],
      "text/plain": [
       "Empty DataFrame\n",
       "Columns: [id, f0, f1, f2, f3, f4, f5, f6, f7, f8, f9, f10, f11, f12, f13, f14, f15, f16, f17, f18, f19, f20, f21, f22, f23, f24, f25, f26, f27, f28, f29, f30, f31, f32, f33, f34, f35, f36, f37, f38, f39, f40, f41, f42, f43, f44, f45, f46, f47, f48, f49, f50, f51, f52, f53, f54, f55, f56, f57, f58, f59, f60, f61, f62, f63, f64, f65, f66, f67, f68, f69, f70, f71, f72, f73, f74, f75, f76, f77, f78, f79, f80, f81, f82, f83, f84, f85, f86, f87, f88, f89, f90, f91, f92, f93, f94, f95, f96, f97, f98, ...]\n",
       "Index: []\n",
       "\n",
       "[0 rows x 102 columns]"
      ]
     },
     "execution_count": 7,
     "metadata": {},
     "output_type": "execute_result"
    }
   ],
   "source": [
    "check = pd.DataFrame(df_train,columns=df_train.columns)\n",
    "duplicate = check[check.duplicated(keep='last')]  \n",
    "duplicate"
   ]
  },
  {
   "cell_type": "code",
   "execution_count": 8,
   "id": "f072413d",
   "metadata": {
    "execution": {
     "iopub.execute_input": "2021-11-20T00:36:41.369831Z",
     "iopub.status.busy": "2021-11-20T00:36:41.368845Z",
     "iopub.status.idle": "2021-11-20T00:36:43.645851Z",
     "shell.execute_reply": "2021-11-20T00:36:43.644950Z",
     "shell.execute_reply.started": "2021-11-20T00:18:20.431135Z"
    },
    "papermill": {
     "duration": 2.367546,
     "end_time": "2021-11-20T00:36:43.646078",
     "exception": false,
     "start_time": "2021-11-20T00:36:41.278532",
     "status": "completed"
    },
    "tags": []
   },
   "outputs": [
    {
     "name": "stdout",
     "output_type": "stream",
     "text": [
      " \n",
      "id is cont\n",
      " \n",
      "f0 is cont\n",
      " \n",
      "f1 is cont\n",
      " \n",
      "f2 is cont\n",
      " \n",
      "f3 is cont\n",
      " \n",
      "f4 is cont\n",
      " \n",
      "f5 is cont\n",
      " \n",
      "f6 is cont\n",
      " \n",
      "f7 is cont\n",
      " \n",
      "f8 is cont\n",
      " \n",
      "f9 is cont\n",
      " \n",
      "f10 is cont\n",
      " \n",
      "f11 is cont\n",
      " \n",
      "f12 is cont\n",
      " \n",
      "f13 is cont\n",
      " \n",
      "f14 is cont\n",
      " \n",
      "f15 is cont\n",
      " \n",
      "f16 is cont\n",
      " \n",
      "f17 is cont\n",
      " \n",
      "f18 is cont\n",
      " \n",
      "f19 is cont\n",
      " \n",
      "f20 is cont\n",
      " \n",
      "f21 is cont\n",
      " \n",
      "f22 is cont\n",
      " \n",
      "f23 is cont\n",
      " \n",
      "f24 is cont\n",
      " \n",
      "f25 is cont\n",
      " \n",
      "f26 is cont\n",
      " \n",
      "f27 is cont\n",
      " \n",
      "f28 is cont\n",
      " \n",
      "f29 is cont\n",
      " \n",
      "f30 is cont\n",
      " \n",
      "f31 is cont\n",
      " \n",
      "f32 is cont\n",
      " \n",
      "f33 is cont\n",
      " \n",
      "f34 is cont\n",
      " \n",
      "f35 is cont\n",
      " \n",
      "f36 is cont\n",
      " \n",
      "f37 is cont\n",
      " \n",
      "f38 is cont\n",
      " \n",
      "f39 is cont\n",
      " \n",
      "f40 is cont\n",
      " \n",
      "f41 is cont\n",
      " \n",
      "f42 is cont\n",
      " \n",
      "f43 is cont\n",
      " \n",
      "f44 is cont\n",
      " \n",
      "f45 is cont\n",
      " \n",
      "f46 is cont\n",
      " \n",
      "f47 is cont\n",
      " \n",
      "f48 is cont\n",
      " \n",
      "f49 is cont\n",
      " \n",
      "f50 is cont\n",
      " \n",
      "f51 is cont\n",
      " \n",
      "f52 is cont\n",
      " \n",
      "f53 is cont\n",
      " \n",
      "f54 is cont\n",
      " \n",
      "f55 is cont\n",
      " \n",
      "f56 is cont\n",
      " \n",
      "f57 is cont\n",
      " \n",
      "f58 is cont\n",
      " \n",
      "f59 is cont\n",
      " \n",
      "f60 is cont\n",
      " \n",
      "f61 is cont\n",
      " \n",
      "f62 is cont\n",
      " \n",
      "f63 is cont\n",
      " \n",
      "f64 is cont\n",
      " \n",
      "f65 is cont\n",
      " \n",
      "f66 is cont\n",
      " \n",
      "f67 is cont\n",
      " \n",
      "f68 is cont\n",
      " \n",
      "f69 is cont\n",
      " \n",
      "f70 is cont\n",
      " \n",
      "f71 is cont\n",
      " \n",
      "f72 is cont\n",
      " \n",
      "f73 is cont\n",
      " \n",
      "f74 is cont\n",
      " \n",
      "f75 is cont\n",
      " \n",
      "f76 is cont\n",
      " \n",
      "f77 is cont\n",
      " \n",
      "f78 is cont\n",
      " \n",
      "f79 is cont\n",
      " \n",
      "f80 is cont\n",
      " \n",
      "f81 is cont\n",
      " \n",
      "f82 is cont\n",
      " \n",
      "f83 is cont\n",
      " \n",
      "f84 is cont\n",
      " \n",
      "f85 is cont\n",
      " \n",
      "f86 is cont\n",
      " \n",
      "f87 is cont\n",
      " \n",
      "f88 is cont\n",
      " \n",
      "f89 is cont\n",
      " \n",
      "f90 is cont\n",
      " \n",
      "f91 is cont\n",
      " \n",
      "f92 is cont\n",
      " \n",
      "f93 is cont\n",
      " \n",
      "f94 is cont\n",
      " \n",
      "f95 is cont\n",
      " \n",
      "f96 is cont\n",
      " \n",
      "f97 is cont\n",
      " \n",
      "f98 is cont\n",
      " \n",
      "f99 is cont\n",
      " \n",
      "target:2\n",
      "[0 1]\n"
     ]
    }
   ],
   "source": [
    "def Unique_features(df):\n",
    "    Columns = df.columns\n",
    "    for c in Columns:\n",
    "        Uni = df[c].unique()\n",
    "        if len(Uni) <= round(df.shape[0]*0.5):\n",
    "            print(' ')\n",
    "            print (c +':' +str(len(df[c].unique())))\n",
    "            print (Uni)\n",
    "        else:\n",
    "            print(' ')\n",
    "            print(str(c) + ' is cont')\n",
    "Unique_features(df_train)  "
   ]
  },
  {
   "cell_type": "code",
   "execution_count": 9,
   "id": "0bb7432b",
   "metadata": {
    "execution": {
     "iopub.execute_input": "2021-11-20T00:36:43.831200Z",
     "iopub.status.busy": "2021-11-20T00:36:43.829570Z",
     "iopub.status.idle": "2021-11-20T00:36:45.623137Z",
     "shell.execute_reply": "2021-11-20T00:36:45.622582Z",
     "shell.execute_reply.started": "2021-11-20T00:18:22.174792Z"
    },
    "papermill": {
     "duration": 1.889438,
     "end_time": "2021-11-20T00:36:45.623302",
     "exception": false,
     "start_time": "2021-11-20T00:36:43.733864",
     "status": "completed"
    },
    "tags": []
   },
   "outputs": [
    {
     "data": {
      "image/png": "[encoded data removed]",
      "text/plain": [
       "<Figure size 432x288 with 1 Axes>"
      ]
     },
     "metadata": {
      "needs_background": "light"
     },
     "output_type": "display_data"
    }
   ],
   "source": [
    "def bar_chart(df,feature):\n",
    "    #Preparing parameters for plot\n",
    "    type_counts = df[feature].value_counts()\n",
    "    type_order = type_counts.index\n",
    "    base_color = sns.color_palette()[0]\n",
    "    n = df_copy[feature].value_counts().sum()\n",
    "    #Plot\n",
    "    sns.countplot(data=df, x= feature, color=base_color, order=type_order);\n",
    "\n",
    "    type_counts = df[feature].value_counts()\n",
    "    \n",
    "    #Labeling\n",
    "    locs, labels = plt.xticks(rotation=90) \n",
    "    for loc, label in zip(locs, labels):\n",
    "        count = type_counts[label.get_text()]\n",
    "        pct_string = '{:0.1f}%'.format(100*count/n)\n",
    "        plt.text(loc, count+2, pct_string, ha = 'center', color = 'black')\n",
    "df_copy = df_train.copy()\n",
    "df_copy['target'] = df_train['target'].astype(bool).astype(str)\n",
    "bar_chart(df_copy,'target')   "
   ]
  },
  {
   "cell_type": "code",
   "execution_count": 10,
   "id": "b1fbaf19",
   "metadata": {
    "execution": {
     "iopub.execute_input": "2021-11-20T00:36:45.807108Z",
     "iopub.status.busy": "2021-11-20T00:36:45.805571Z",
     "iopub.status.idle": "2021-11-20T00:36:47.916141Z",
     "shell.execute_reply": "2021-11-20T00:36:47.916818Z",
     "shell.execute_reply.started": "2021-11-20T00:18:23.739920Z"
    },
    "papermill": {
     "duration": 2.207422,
     "end_time": "2021-11-20T00:36:47.917041",
     "exception": false,
     "start_time": "2021-11-20T00:36:45.709619",
     "status": "completed"
    },
    "tags": []
   },
   "outputs": [
    {
     "data": {
      "text/html": [
       "<div>\n",
       "<style scoped>\n",
       "    .dataframe tbody tr th:only-of-type {\n",
       "        vertical-align: middle;\n",
       "    }\n",
       "\n",
       "    .dataframe tbody tr th {\n",
       "        vertical-align: top;\n",
       "    }\n",
       "\n",
       "    .dataframe thead th {\n",
       "        text-align: right;\n",
       "    }\n",
       "</style>\n",
       "<table border=\"1\" class=\"dataframe\">\n",
       "  <thead>\n",
       "    <tr style=\"text-align: right;\">\n",
       "      <th></th>\n",
       "      <th>id</th>\n",
       "      <th>f0</th>\n",
       "      <th>f1</th>\n",
       "      <th>f2</th>\n",
       "      <th>f3</th>\n",
       "      <th>f4</th>\n",
       "      <th>f5</th>\n",
       "      <th>f6</th>\n",
       "      <th>f7</th>\n",
       "      <th>f8</th>\n",
       "      <th>...</th>\n",
       "      <th>f91</th>\n",
       "      <th>f92</th>\n",
       "      <th>f93</th>\n",
       "      <th>f94</th>\n",
       "      <th>f95</th>\n",
       "      <th>f96</th>\n",
       "      <th>f97</th>\n",
       "      <th>f98</th>\n",
       "      <th>f99</th>\n",
       "      <th>target</th>\n",
       "    </tr>\n",
       "  </thead>\n",
       "  <tbody>\n",
       "    <tr>\n",
       "      <th>count</th>\n",
       "      <td>600000.000000</td>\n",
       "      <td>600000.000000</td>\n",
       "      <td>600000.000000</td>\n",
       "      <td>600000.000000</td>\n",
       "      <td>600000.000000</td>\n",
       "      <td>600000.000000</td>\n",
       "      <td>600000.000000</td>\n",
       "      <td>600000.000000</td>\n",
       "      <td>600000.000000</td>\n",
       "      <td>600000.000000</td>\n",
       "      <td>...</td>\n",
       "      <td>600000.000000</td>\n",
       "      <td>600000.000000</td>\n",
       "      <td>600000.000000</td>\n",
       "      <td>600000.000000</td>\n",
       "      <td>600000.000000</td>\n",
       "      <td>600000.000000</td>\n",
       "      <td>600000.000000</td>\n",
       "      <td>600000.000000</td>\n",
       "      <td>600000.000000</td>\n",
       "      <td>600000.000000</td>\n",
       "    </tr>\n",
       "    <tr>\n",
       "      <th>mean</th>\n",
       "      <td>299999.500000</td>\n",
       "      <td>0.306512</td>\n",
       "      <td>2.497594</td>\n",
       "      <td>306.640411</td>\n",
       "      <td>2.647901</td>\n",
       "      <td>0.177850</td>\n",
       "      <td>2.556831</td>\n",
       "      <td>2.699653</td>\n",
       "      <td>2.571597</td>\n",
       "      <td>2.538332</td>\n",
       "      <td>...</td>\n",
       "      <td>2.444480</td>\n",
       "      <td>0.155260</td>\n",
       "      <td>0.059406</td>\n",
       "      <td>0.144932</td>\n",
       "      <td>0.106420</td>\n",
       "      <td>2.547832</td>\n",
       "      <td>2.590189</td>\n",
       "      <td>0.158881</td>\n",
       "      <td>0.123050</td>\n",
       "      <td>0.506010</td>\n",
       "    </tr>\n",
       "    <tr>\n",
       "      <th>std</th>\n",
       "      <td>173205.225094</td>\n",
       "      <td>0.522419</td>\n",
       "      <td>1.553887</td>\n",
       "      <td>551.701843</td>\n",
       "      <td>1.544408</td>\n",
       "      <td>0.417466</td>\n",
       "      <td>1.562393</td>\n",
       "      <td>1.563862</td>\n",
       "      <td>1.549217</td>\n",
       "      <td>1.532848</td>\n",
       "      <td>...</td>\n",
       "      <td>1.542386</td>\n",
       "      <td>0.548227</td>\n",
       "      <td>0.119386</td>\n",
       "      <td>0.461895</td>\n",
       "      <td>0.209071</td>\n",
       "      <td>1.558289</td>\n",
       "      <td>1.524971</td>\n",
       "      <td>0.436124</td>\n",
       "      <td>0.264834</td>\n",
       "      <td>0.499964</td>\n",
       "    </tr>\n",
       "    <tr>\n",
       "      <th>min</th>\n",
       "      <td>0.000000</td>\n",
       "      <td>-3.797450</td>\n",
       "      <td>-1.223960</td>\n",
       "      <td>-1842.530029</td>\n",
       "      <td>-1.368560</td>\n",
       "      <td>-3.206210</td>\n",
       "      <td>-1.169770</td>\n",
       "      <td>-1.059310</td>\n",
       "      <td>-1.281970</td>\n",
       "      <td>-1.242020</td>\n",
       "      <td>...</td>\n",
       "      <td>-1.217700</td>\n",
       "      <td>-9.761770</td>\n",
       "      <td>-4.666240</td>\n",
       "      <td>-3.101500</td>\n",
       "      <td>-1.276540</td>\n",
       "      <td>-1.584740</td>\n",
       "      <td>-1.254730</td>\n",
       "      <td>-3.993500</td>\n",
       "      <td>-2.783380</td>\n",
       "      <td>0.000000</td>\n",
       "    </tr>\n",
       "    <tr>\n",
       "      <th>25%</th>\n",
       "      <td>149999.750000</td>\n",
       "      <td>0.026222</td>\n",
       "      <td>1.186237</td>\n",
       "      <td>43.573400</td>\n",
       "      <td>1.442027</td>\n",
       "      <td>0.019709</td>\n",
       "      <td>1.261037</td>\n",
       "      <td>1.385820</td>\n",
       "      <td>1.333848</td>\n",
       "      <td>1.292163</td>\n",
       "      <td>...</td>\n",
       "      <td>1.214177</td>\n",
       "      <td>0.018904</td>\n",
       "      <td>0.024483</td>\n",
       "      <td>0.017055</td>\n",
       "      <td>0.025461</td>\n",
       "      <td>1.247887</td>\n",
       "      <td>1.348078</td>\n",
       "      <td>0.013536</td>\n",
       "      <td>0.018105</td>\n",
       "      <td>0.000000</td>\n",
       "    </tr>\n",
       "    <tr>\n",
       "      <th>50%</th>\n",
       "      <td>299999.500000</td>\n",
       "      <td>0.097788</td>\n",
       "      <td>2.516500</td>\n",
       "      <td>133.626007</td>\n",
       "      <td>2.634130</td>\n",
       "      <td>0.061586</td>\n",
       "      <td>2.590425</td>\n",
       "      <td>2.801255</td>\n",
       "      <td>2.557985</td>\n",
       "      <td>2.475880</td>\n",
       "      <td>...</td>\n",
       "      <td>2.386845</td>\n",
       "      <td>0.068906</td>\n",
       "      <td>0.056649</td>\n",
       "      <td>0.063439</td>\n",
       "      <td>0.062151</td>\n",
       "      <td>2.601940</td>\n",
       "      <td>2.682090</td>\n",
       "      <td>0.058058</td>\n",
       "      <td>0.058471</td>\n",
       "      <td>1.000000</td>\n",
       "    </tr>\n",
       "    <tr>\n",
       "      <th>75%</th>\n",
       "      <td>449999.250000</td>\n",
       "      <td>0.397184</td>\n",
       "      <td>3.787630</td>\n",
       "      <td>302.262238</td>\n",
       "      <td>3.907640</td>\n",
       "      <td>0.112712</td>\n",
       "      <td>3.813662</td>\n",
       "      <td>3.996913</td>\n",
       "      <td>3.823450</td>\n",
       "      <td>3.804360</td>\n",
       "      <td>...</td>\n",
       "      <td>3.693873</td>\n",
       "      <td>0.125165</td>\n",
       "      <td>0.088162</td>\n",
       "      <td>0.113114</td>\n",
       "      <td>0.102016</td>\n",
       "      <td>3.820665</td>\n",
       "      <td>3.839520</td>\n",
       "      <td>0.110718</td>\n",
       "      <td>0.104872</td>\n",
       "      <td>1.000000</td>\n",
       "    </tr>\n",
       "    <tr>\n",
       "      <th>max</th>\n",
       "      <td>599999.000000</td>\n",
       "      <td>8.781500</td>\n",
       "      <td>6.226720</td>\n",
       "      <td>6119.279785</td>\n",
       "      <td>6.521150</td>\n",
       "      <td>8.265470</td>\n",
       "      <td>6.515070</td>\n",
       "      <td>6.586780</td>\n",
       "      <td>6.258770</td>\n",
       "      <td>6.389670</td>\n",
       "      <td>...</td>\n",
       "      <td>6.573890</td>\n",
       "      <td>18.412800</td>\n",
       "      <td>10.211800</td>\n",
       "      <td>8.623270</td>\n",
       "      <td>3.657220</td>\n",
       "      <td>6.254360</td>\n",
       "      <td>6.145300</td>\n",
       "      <td>10.767000</td>\n",
       "      <td>5.988110</td>\n",
       "      <td>1.000000</td>\n",
       "    </tr>\n",
       "  </tbody>\n",
       "</table>\n",
       "<p>8 rows × 102 columns</p>\n",
       "</div>"
      ],
      "text/plain": [
       "                  id             f0             f1             f2  \\\n",
       "count  600000.000000  600000.000000  600000.000000  600000.000000   \n",
       "mean   299999.500000       0.306512       2.497594     306.640411   \n",
       "std    173205.225094       0.522419       1.553887     551.701843   \n",
       "min         0.000000      -3.797450      -1.223960   -1842.530029   \n",
       "25%    149999.750000       0.026222       1.186237      43.573400   \n",
       "50%    299999.500000       0.097788       2.516500     133.626007   \n",
       "75%    449999.250000       0.397184       3.787630     302.262238   \n",
       "max    599999.000000       8.781500       6.226720    6119.279785   \n",
       "\n",
       "                  f3             f4             f5             f6  \\\n",
       "count  600000.000000  600000.000000  600000.000000  600000.000000   \n",
       "mean        2.647901       0.177850       2.556831       2.699653   \n",
       "std         1.544408       0.417466       1.562393       1.563862   \n",
       "min        -1.368560      -3.206210      -1.169770      -1.059310   \n",
       "25%         1.442027       0.019709       1.261037       1.385820   \n",
       "50%         2.634130       0.061586       2.590425       2.801255   \n",
       "75%         3.907640       0.112712       3.813662       3.996913   \n",
       "max         6.521150       8.265470       6.515070       6.586780   \n",
       "\n",
       "                  f7             f8  ...            f91            f92  \\\n",
       "count  600000.000000  600000.000000  ...  600000.000000  600000.000000   \n",
       "mean        2.571597       2.538332  ...       2.444480       0.155260   \n",
       "std         1.549217       1.532848  ...       1.542386       0.548227   \n",
       "min        -1.281970      -1.242020  ...      -1.217700      -9.761770   \n",
       "25%         1.333848       1.292163  ...       1.214177       0.018904   \n",
       "50%         2.557985       2.475880  ...       2.386845       0.068906   \n",
       "75%         3.823450       3.804360  ...       3.693873       0.125165   \n",
       "max         6.258770       6.389670  ...       6.573890      18.412800   \n",
       "\n",
       "                 f93            f94            f95            f96  \\\n",
       "count  600000.000000  600000.000000  600000.000000  600000.000000   \n",
       "mean        0.059406       0.144932       0.106420       2.547832   \n",
       "std         0.119386       0.461895       0.209071       1.558289   \n",
       "min        -4.666240      -3.101500      -1.276540      -1.584740   \n",
       "25%         0.024483       0.017055       0.025461       1.247887   \n",
       "50%         0.056649       0.063439       0.062151       2.601940   \n",
       "75%         0.088162       0.113114       0.102016       3.820665   \n",
       "max        10.211800       8.623270       3.657220       6.254360   \n",
       "\n",
       "                 f97            f98            f99         target  \n",
       "count  600000.000000  600000.000000  600000.000000  600000.000000  \n",
       "mean        2.590189       0.158881       0.123050       0.506010  \n",
       "std         1.524971       0.436124       0.264834       0.499964  \n",
       "min        -1.254730      -3.993500      -2.783380       0.000000  \n",
       "25%         1.348078       0.013536       0.018105       0.000000  \n",
       "50%         2.682090       0.058058       0.058471       1.000000  \n",
       "75%         3.839520       0.110718       0.104872       1.000000  \n",
       "max         6.145300      10.767000       5.988110       1.000000  \n",
       "\n",
       "[8 rows x 102 columns]"
      ]
     },
     "execution_count": 10,
     "metadata": {},
     "output_type": "execute_result"
    }
   ],
   "source": [
    "df_train.describe()  "
   ]
  },
  {
   "cell_type": "code",
   "execution_count": 11,
   "id": "d434d788",
   "metadata": {
    "execution": {
     "iopub.execute_input": "2021-11-20T00:36:48.111202Z",
     "iopub.status.busy": "2021-11-20T00:36:48.109374Z",
     "iopub.status.idle": "2021-11-20T00:36:48.899547Z",
     "shell.execute_reply": "2021-11-20T00:36:48.898664Z",
     "shell.execute_reply.started": "2021-11-20T00:18:25.753565Z"
    },
    "papermill": {
     "duration": 0.890067,
     "end_time": "2021-11-20T00:36:48.899708",
     "exception": false,
     "start_time": "2021-11-20T00:36:48.009641",
     "status": "completed"
    },
    "tags": []
   },
   "outputs": [],
   "source": [
    "X, X_hold_out, y, y_hold_out = train_test_split(df_train.drop(['id','target'], axis=1), df_train['target'], random_state=0, test_size = 0.0297,stratify=df_train['target'])"
   ]
  },
  {
   "cell_type": "code",
   "execution_count": 12,
   "id": "b5aff961",
   "metadata": {
    "execution": {
     "iopub.execute_input": "2021-11-20T00:36:49.094317Z",
     "iopub.status.busy": "2021-11-20T00:36:49.092758Z",
     "iopub.status.idle": "2021-11-20T00:36:50.838721Z",
     "shell.execute_reply": "2021-11-20T00:36:50.839987Z",
     "shell.execute_reply.started": "2021-11-20T00:18:26.450466Z"
    },
    "papermill": {
     "duration": 1.84966,
     "end_time": "2021-11-20T00:36:50.840229",
     "exception": false,
     "start_time": "2021-11-20T00:36:48.990569",
     "status": "completed"
    },
    "tags": []
   },
   "outputs": [],
   "source": [
    "#feature scaling to obtain 0 mean and 1 varianc \n",
    "def feature_scaling(X):\n",
    "    X_copy = X.copy()\n",
    "    mean = np.sum(X,0)/X.shape[0]\n",
    "    X-=mean\n",
    "    p = [2] * X.shape[1]\n",
    "    X = X.pow( p, axis = 'columns')\n",
    "    standard_deviation = np.sqrt(np.sum(X,0)/X.shape[0])\n",
    "    X_copy = (X_copy-mean)/standard_deviation\n",
    "    return (X_copy,mean , standard_deviation)\n",
    "#X , mean , std  = feature_scaling(X)\n",
    "X , mean , std  = feature_scaling(X)"
   ]
  },
  {
   "cell_type": "code",
   "execution_count": 13,
   "id": "7ed19011",
   "metadata": {
    "execution": {
     "iopub.execute_input": "2021-11-20T00:36:51.100660Z",
     "iopub.status.busy": "2021-11-20T00:36:51.099180Z",
     "iopub.status.idle": "2021-11-20T00:36:51.657050Z",
     "shell.execute_reply": "2021-11-20T00:36:51.657663Z",
     "shell.execute_reply.started": "2021-11-20T00:18:27.672773Z"
    },
    "papermill": {
     "duration": 0.67343,
     "end_time": "2021-11-20T00:36:51.657860",
     "exception": false,
     "start_time": "2021-11-20T00:36:50.984430",
     "status": "completed"
    },
    "tags": []
   },
   "outputs": [],
   "source": [
    "X_hold_out = (X_hold_out - mean)/std\n",
    "ID = df_test['id']\n",
    "df_test.drop(columns = ['id'] , axis = 1 , inplace = True)\n",
    "df_test = (df_test-mean)/std"
   ]
  },
  {
   "cell_type": "markdown",
   "id": "9077ed55",
   "metadata": {
    "papermill": {
     "duration": 0.088465,
     "end_time": "2021-11-20T00:36:51.836940",
     "exception": false,
     "start_time": "2021-11-20T00:36:51.748475",
     "status": "completed"
    },
    "tags": []
   },
   "source": [
    "# Modeling"
   ]
  },
  {
   "cell_type": "code",
   "execution_count": 14,
   "id": "acdc35d4",
   "metadata": {
    "execution": {
     "iopub.execute_input": "2021-11-20T00:36:52.024322Z",
     "iopub.status.busy": "2021-11-20T00:36:52.023084Z",
     "iopub.status.idle": "2021-11-20T00:36:52.803227Z",
     "shell.execute_reply": "2021-11-20T00:36:52.802528Z",
     "shell.execute_reply.started": "2021-11-20T00:18:28.106545Z"
    },
    "papermill": {
     "duration": 0.877086,
     "end_time": "2021-11-20T00:36:52.803401",
     "exception": false,
     "start_time": "2021-11-20T00:36:51.926315",
     "status": "completed"
    },
    "tags": []
   },
   "outputs": [],
   "source": [
    "X_train, X_valid, y_train, y_valid = train_test_split(X, y, random_state=0, test_size = 0.0297,stratify=y)"
   ]
  },
  {
   "cell_type": "code",
   "execution_count": 15,
   "id": "120f6d82",
   "metadata": {
    "execution": {
     "iopub.execute_input": "2021-11-20T00:36:52.993988Z",
     "iopub.status.busy": "2021-11-20T00:36:52.990868Z",
     "iopub.status.idle": "2021-11-20T00:36:59.358176Z",
     "shell.execute_reply": "2021-11-20T00:36:59.359179Z",
     "shell.execute_reply.started": "2021-11-20T00:18:28.950644Z"
    },
    "papermill": {
     "duration": 6.466696,
     "end_time": "2021-11-20T00:36:59.359516",
     "exception": false,
     "start_time": "2021-11-20T00:36:52.892820",
     "status": "completed"
    },
    "tags": []
   },
   "outputs": [
    {
     "name": "stdout",
     "output_type": "stream",
     "text": [
      "model accuracy on predicting valid is: 70.14631889422243%\n",
      "model accuracy on predicting train is: 71.21877041330244%\n"
     ]
    }
   ],
   "source": [
    "modelx = XGBClassifier(base_score=0.5, booster='gbtree' ,colsample_bylevel=1,\n",
    "              colsample_bynode=1, colsample_bytree=1, eval_metric='mlogloss',\n",
    "              gamma=0, gpu_id=-1, importance_type='gain',\n",
    "              interaction_constraints='', learning_rate= 0.75365952,\n",
    "              max_delta_step=0, max_depth= 2 , min_child_weight=0,\n",
    "              monotone_constraints='()', n_estimators= 300 , n_jobs=-1,\n",
    "              num_parallel_tree=1, random_state=42,\n",
    "              reg_alpha= 0.1, reg_lambda= 0.5, scale_pos_weight=None, subsample=1,\n",
    "              tree_method='gpu_hist', use_label_encoder=False,\n",
    "              validate_parameters=10, verbosity=None)\n",
    "modelx.fit(X_train, y_train)\n",
    "y_pred = modelx.predict(X_valid)\n",
    "accuracy = accuracy_score(y_valid, y_pred)*100\n",
    "print ('model accuracy on predicting valid is: '+str(accuracy)+'%')\n",
    "y_pred = modelx.predict(X_train)\n",
    "accuracy = accuracy_score(y_train, y_pred)*100\n",
    "print ('model accuracy on predicting train is: '+str(accuracy)+'%')\n",
    "#model.fit(X, y)"
   ]
  },
  {
   "cell_type": "markdown",
   "id": "d3e38067",
   "metadata": {
    "papermill": {
     "duration": 0.089801,
     "end_time": "2021-11-20T00:36:59.539985",
     "exception": false,
     "start_time": "2021-11-20T00:36:59.450184",
     "status": "completed"
    },
    "tags": []
   },
   "source": [
    "> # XGB AUC Score"
   ]
  },
  {
   "cell_type": "code",
   "execution_count": 16,
   "id": "5f042ca4",
   "metadata": {
    "execution": {
     "iopub.execute_input": "2021-11-20T00:36:59.728429Z",
     "iopub.status.busy": "2021-11-20T00:36:59.727456Z",
     "iopub.status.idle": "2021-11-20T00:36:59.730993Z",
     "shell.execute_reply": "2021-11-20T00:36:59.731501Z",
     "shell.execute_reply.started": "2021-11-20T00:18:34.807382Z"
    },
    "papermill": {
     "duration": 0.101435,
     "end_time": "2021-11-20T00:36:59.731685",
     "exception": false,
     "start_time": "2021-11-20T00:36:59.630250",
     "status": "completed"
    },
    "tags": []
   },
   "outputs": [
    {
     "data": {
      "text/plain": [
       "'y_XGB_prob1 = modelx.predict_proba(X_valid)\\ny_XGB_prob_hold = modelx.predict_proba(X_hold_out)'"
      ]
     },
     "execution_count": 16,
     "metadata": {},
     "output_type": "execute_result"
    }
   ],
   "source": [
    "'''y_XGB_prob1 = modelx.predict_proba(X_valid)\n",
    "y_XGB_prob_hold = modelx.predict_proba(X_hold_out)'''"
   ]
  },
  {
   "cell_type": "code",
   "execution_count": 17,
   "id": "d40bc5ef",
   "metadata": {
    "execution": {
     "iopub.execute_input": "2021-11-20T00:36:59.916397Z",
     "iopub.status.busy": "2021-11-20T00:36:59.915696Z",
     "iopub.status.idle": "2021-11-20T00:36:59.921706Z",
     "shell.execute_reply": "2021-11-20T00:36:59.922406Z",
     "shell.execute_reply.started": "2021-11-20T00:18:34.816691Z"
    },
    "papermill": {
     "duration": 0.102403,
     "end_time": "2021-11-20T00:36:59.922695",
     "exception": false,
     "start_time": "2021-11-20T00:36:59.820292",
     "status": "completed"
    },
    "tags": []
   },
   "outputs": [
    {
     "data": {
      "text/plain": [
       "\"auc = roc_auc_score(y_valid, y_XGB_prob1[:,1])\\nprint('AUC valid: %.3f' % auc)\\nauc = roc_auc_score(y_hold_out, y_XGB_prob_hold[:,1])\\nprint('AUC test: %.3f' % auc)\""
      ]
     },
     "execution_count": 17,
     "metadata": {},
     "output_type": "execute_result"
    }
   ],
   "source": [
    "from sklearn.metrics import roc_auc_score\n",
    "'''auc = roc_auc_score(y_valid, y_XGB_prob1[:,1])\n",
    "print('AUC valid: %.3f' % auc)\n",
    "auc = roc_auc_score(y_hold_out, y_XGB_prob_hold[:,1])\n",
    "print('AUC test: %.3f' % auc)'''"
   ]
  },
  {
   "cell_type": "code",
   "execution_count": 18,
   "id": "f8159545",
   "metadata": {
    "execution": {
     "iopub.execute_input": "2021-11-20T00:37:00.119857Z",
     "iopub.status.busy": "2021-11-20T00:37:00.116859Z",
     "iopub.status.idle": "2021-11-20T00:37:04.805067Z",
     "shell.execute_reply": "2021-11-20T00:37:04.805708Z",
     "shell.execute_reply.started": "2021-11-20T00:18:34.830877Z"
    },
    "papermill": {
     "duration": 4.792298,
     "end_time": "2021-11-20T00:37:04.805977",
     "exception": false,
     "start_time": "2021-11-20T00:37:00.013679",
     "status": "completed"
    },
    "tags": []
   },
   "outputs": [],
   "source": [
    "#X_hold_out = (X_hold_out-mean)/std\n",
    "y_XGB_prob = modelx.predict_proba(X)\n",
    "y_XGB_prob_hold = modelx.predict_proba(X_hold_out)\n",
    "y_XGB_prob_test = modelx.predict_proba(df_test)"
   ]
  },
  {
   "cell_type": "markdown",
   "id": "a79e72cf",
   "metadata": {
    "papermill": {
     "duration": 0.090449,
     "end_time": "2021-11-20T00:37:04.985911",
     "exception": false,
     "start_time": "2021-11-20T00:37:04.895462",
     "status": "completed"
    },
    "tags": []
   },
   "source": [
    "> # Logistic Regression"
   ]
  },
  {
   "cell_type": "code",
   "execution_count": 19,
   "id": "49c4afa2",
   "metadata": {
    "execution": {
     "iopub.execute_input": "2021-11-20T00:37:05.174729Z",
     "iopub.status.busy": "2021-11-20T00:37:05.173791Z",
     "iopub.status.idle": "2021-11-20T00:37:05.177601Z",
     "shell.execute_reply": "2021-11-20T00:37:05.178204Z",
     "shell.execute_reply.started": "2021-11-20T00:18:38.365950Z"
    },
    "papermill": {
     "duration": 0.100911,
     "end_time": "2021-11-20T00:37:05.178408",
     "exception": false,
     "start_time": "2021-11-20T00:37:05.077497",
     "status": "completed"
    },
    "tags": []
   },
   "outputs": [
    {
     "data": {
      "text/plain": [
       "'from sklearn.metrics import classification_report, confusion_matrix\\nfrom sklearn.model_selection import GridSearchCV\\nsns.set(style=\"white\")\\n\\n# Setup the hyperparameter grid\\nc_space = np.logspace(-5, 8, 15)\\nparam_grid = {\\'C\\': c_space }\\n\\n# Instantiate a logistic regression classifier: logreg\\nlogreg = LogisticRegression(fit_intercept=True , n_jobs = -1 )\\n\\n# Instantiate the GridSearchCV object: logreg_cv\\nlogreg_cv = GridSearchCV(logreg, param_grid, cv=5)\\n\\n# Fit it to the data\\nlogreg_cv.fit(X,y)\\n\\n# Print the tuned parameters and score\\nprint(\"Tuned Logistic Regression Parameters: {}\".format(logreg_cv.best_params_)) \\nprint(\"Best score is {}\".format(logreg_cv.best_score_*100)+\\'%\\')'"
      ]
     },
     "execution_count": 19,
     "metadata": {},
     "output_type": "execute_result"
    }
   ],
   "source": [
    "'''from sklearn.metrics import classification_report, confusion_matrix\n",
    "from sklearn.model_selection import GridSearchCV\n",
    "sns.set(style=\"white\")\n",
    "\n",
    "# Setup the hyperparameter grid\n",
    "c_space = np.logspace(-5, 8, 15)\n",
    "param_grid = {'C': c_space }\n",
    "\n",
    "# Instantiate a logistic regression classifier: logreg\n",
    "logreg = LogisticRegression(fit_intercept=True , n_jobs = -1 )\n",
    "\n",
    "# Instantiate the GridSearchCV object: logreg_cv\n",
    "logreg_cv = GridSearchCV(logreg, param_grid, cv=5)\n",
    "\n",
    "# Fit it to the data\n",
    "logreg_cv.fit(X,y)\n",
    "\n",
    "# Print the tuned parameters and score\n",
    "print(\"Tuned Logistic Regression Parameters: {}\".format(logreg_cv.best_params_)) \n",
    "print(\"Best score is {}\".format(logreg_cv.best_score_*100)+'%')'''"
   ]
  },
  {
   "cell_type": "code",
   "execution_count": 20,
   "id": "1024014a",
   "metadata": {
    "execution": {
     "iopub.execute_input": "2021-11-20T00:37:05.366025Z",
     "iopub.status.busy": "2021-11-20T00:37:05.364796Z",
     "iopub.status.idle": "2021-11-20T00:37:05.370279Z",
     "shell.execute_reply": "2021-11-20T00:37:05.369679Z",
     "shell.execute_reply.started": "2021-11-20T00:18:38.374518Z"
    },
    "papermill": {
     "duration": 0.101305,
     "end_time": "2021-11-20T00:37:05.370417",
     "exception": false,
     "start_time": "2021-11-20T00:37:05.269112",
     "status": "completed"
    },
    "tags": []
   },
   "outputs": [
    {
     "data": {
      "text/plain": [
       "\"y_pred = logreg_cv.predict(X_valid)\\naccuracy = accuracy_score(y_valid, y_pred)*100\\nprint ('model accuracy on predicting train is: '+str(accuracy)+'%')\""
      ]
     },
     "execution_count": 20,
     "metadata": {},
     "output_type": "execute_result"
    }
   ],
   "source": [
    "'''y_pred = logreg_cv.predict(X_valid)\n",
    "accuracy = accuracy_score(y_valid, y_pred)*100\n",
    "print ('model accuracy on predicting train is: '+str(accuracy)+'%')'''"
   ]
  },
  {
   "attachments": {
    "82bc0b53-4eff-4a69-98bc-339355f4dd17.png": {
     "image/png": "[encoded data removed]"
    }
   },
   "cell_type": "markdown",
   "id": "239c74ae",
   "metadata": {
    "papermill": {
     "duration": 0.092204,
     "end_time": "2021-11-20T00:37:05.554665",
     "exception": false,
     "start_time": "2021-11-20T00:37:05.462461",
     "status": "completed"
    },
    "tags": []
   },
   "source": [
    "![image.png](attachment:82bc0b53-4eff-4a69-98bc-339355f4dd17.png)!"
   ]
  },
  {
   "cell_type": "code",
   "execution_count": 21,
   "id": "871348ad",
   "metadata": {
    "execution": {
     "iopub.execute_input": "2021-11-20T00:37:05.748191Z",
     "iopub.status.busy": "2021-11-20T00:37:05.747291Z",
     "iopub.status.idle": "2021-11-20T00:37:19.142015Z",
     "shell.execute_reply": "2021-11-20T00:37:19.143623Z",
     "shell.execute_reply.started": "2021-11-20T00:18:38.387357Z"
    },
    "papermill": {
     "duration": 13.497882,
     "end_time": "2021-11-20T00:37:19.143988",
     "exception": false,
     "start_time": "2021-11-20T00:37:05.646106",
     "status": "completed"
    },
    "tags": []
   },
   "outputs": [
    {
     "name": "stdout",
     "output_type": "stream",
     "text": [
      "model accuracy on predicting train is: 73.95176681510613%\n"
     ]
    }
   ],
   "source": [
    "logreg = LogisticRegression(fit_intercept=True , n_jobs = -1 , C = 8.483428982440725e-05)\n",
    "logreg.fit(X_train,y_train)\n",
    "y_pred = logreg.predict(X_valid)\n",
    "accuracy = accuracy_score(y_valid, y_pred)*100\n",
    "print ('model accuracy on predicting train is: '+str(accuracy)+'%')"
   ]
  },
  {
   "cell_type": "markdown",
   "id": "4158a4c4",
   "metadata": {
    "papermill": {
     "duration": 0.093059,
     "end_time": "2021-11-20T00:37:19.382192",
     "exception": false,
     "start_time": "2021-11-20T00:37:19.289133",
     "status": "completed"
    },
    "tags": []
   },
   "source": [
    "# Logistic regression AUC Score"
   ]
  },
  {
   "cell_type": "code",
   "execution_count": 22,
   "id": "ead6ebfe",
   "metadata": {
    "execution": {
     "iopub.execute_input": "2021-11-20T00:37:19.577757Z",
     "iopub.status.busy": "2021-11-20T00:37:19.576785Z",
     "iopub.status.idle": "2021-11-20T00:37:19.580720Z",
     "shell.execute_reply": "2021-11-20T00:37:19.581328Z",
     "shell.execute_reply.started": "2021-11-20T00:18:48.391574Z"
    },
    "papermill": {
     "duration": 0.106929,
     "end_time": "2021-11-20T00:37:19.581493",
     "exception": false,
     "start_time": "2021-11-20T00:37:19.474564",
     "status": "completed"
    },
    "tags": []
   },
   "outputs": [
    {
     "data": {
      "text/plain": [
       "\"y_pred1 = logreg.predict_proba(X_valid)\\nauc = roc_auc_score(y_valid, y_pred1[:,1])\\nprint('AUC valid: %.3f' % auc)\\ny_pred = logreg.predict_proba(X_hold_out)\\nauc = roc_auc_score(y_hold_out, y_pred[:,1])\\nprint('AUC test: %.3f' % auc)\""
      ]
     },
     "execution_count": 22,
     "metadata": {},
     "output_type": "execute_result"
    }
   ],
   "source": [
    "'''y_pred1 = logreg.predict_proba(X_valid)\n",
    "auc = roc_auc_score(y_valid, y_pred1[:,1])\n",
    "print('AUC valid: %.3f' % auc)\n",
    "y_pred = logreg.predict_proba(X_hold_out)\n",
    "auc = roc_auc_score(y_hold_out, y_pred[:,1])\n",
    "print('AUC test: %.3f' % auc)'''"
   ]
  },
  {
   "cell_type": "code",
   "execution_count": 23,
   "id": "d6701e15",
   "metadata": {
    "execution": {
     "iopub.execute_input": "2021-11-20T00:37:19.778055Z",
     "iopub.status.busy": "2021-11-20T00:37:19.776584Z",
     "iopub.status.idle": "2021-11-20T00:37:20.050020Z",
     "shell.execute_reply": "2021-11-20T00:37:20.050896Z",
     "shell.execute_reply.started": "2021-11-20T00:18:48.408932Z"
    },
    "papermill": {
     "duration": 0.375217,
     "end_time": "2021-11-20T00:37:20.051200",
     "exception": false,
     "start_time": "2021-11-20T00:37:19.675983",
     "status": "completed"
    },
    "tags": []
   },
   "outputs": [],
   "source": [
    "y_logreg_prob = logreg.predict_proba(X)\n",
    "y_logreg_prob_hold = logreg.predict_proba(X_hold_out)\n",
    "y_logreg_prob_test = logreg.predict_proba(df_test)"
   ]
  },
  {
   "cell_type": "markdown",
   "id": "095a46f5",
   "metadata": {
    "papermill": {
     "duration": 0.093096,
     "end_time": "2021-11-20T00:37:20.277912",
     "exception": false,
     "start_time": "2021-11-20T00:37:20.184816",
     "status": "completed"
    },
    "tags": []
   },
   "source": [
    "> # KNN"
   ]
  },
  {
   "cell_type": "code",
   "execution_count": 24,
   "id": "b52360be",
   "metadata": {
    "execution": {
     "iopub.execute_input": "2021-11-20T00:37:20.467899Z",
     "iopub.status.busy": "2021-11-20T00:37:20.466829Z",
     "iopub.status.idle": "2021-11-20T00:37:20.470461Z",
     "shell.execute_reply": "2021-11-20T00:37:20.470975Z",
     "shell.execute_reply.started": "2021-11-20T00:18:48.661341Z"
    },
    "papermill": {
     "duration": 0.101313,
     "end_time": "2021-11-20T00:37:20.471149",
     "exception": false,
     "start_time": "2021-11-20T00:37:20.369836",
     "status": "completed"
    },
    "tags": []
   },
   "outputs": [
    {
     "data": {
      "text/plain": [
       "\"from cuml.neighbors import KNeighborsClassifier, NearestNeighbors\\naccs = []\\nfor k in range(10,410):\\n    knn = KNeighborsClassifier(n_neighbors=k)\\n    knn.fit(X_train, y_train)\\n    # Better to use knn.predict() but cuML v0.11.0 has bug\\n    # y_hat = knn.predict(X_test)\\n    y_hat_p = knn.predict_proba(X_valid)\\n    acc = (pd.DataFrame(y_hat_p,index=y_hat_p[:,0]).values.argmax(axis=1)==y_valid.to_numpy() ).sum()/y_valid.shape[0]\\n    #print(k,acc)\\n    print(k,', ',end='')\\n    accs.append(acc)\""
      ]
     },
     "execution_count": 24,
     "metadata": {},
     "output_type": "execute_result"
    }
   ],
   "source": [
    "'''from cuml.neighbors import KNeighborsClassifier, NearestNeighbors\n",
    "accs = []\n",
    "for k in range(10,410):\n",
    "    knn = KNeighborsClassifier(n_neighbors=k)\n",
    "    knn.fit(X_train, y_train)\n",
    "    # Better to use knn.predict() but cuML v0.11.0 has bug\n",
    "    # y_hat = knn.predict(X_test)\n",
    "    y_hat_p = knn.predict_proba(X_valid)\n",
    "    acc = (pd.DataFrame(y_hat_p,index=y_hat_p[:,0]).values.argmax(axis=1)==y_valid.to_numpy() ).sum()/y_valid.shape[0]\n",
    "    #print(k,acc)\n",
    "    print(k,', ',end='')\n",
    "    accs.append(acc)'''"
   ]
  },
  {
   "cell_type": "code",
   "execution_count": 25,
   "id": "90c7f415",
   "metadata": {
    "execution": {
     "iopub.execute_input": "2021-11-20T00:37:20.661511Z",
     "iopub.status.busy": "2021-11-20T00:37:20.660523Z",
     "iopub.status.idle": "2021-11-20T00:37:20.663898Z",
     "shell.execute_reply": "2021-11-20T00:37:20.664428Z",
     "shell.execute_reply.started": "2021-11-20T00:18:48.675437Z"
    },
    "papermill": {
     "duration": 0.101783,
     "end_time": "2021-11-20T00:37:20.664577",
     "exception": false,
     "start_time": "2021-11-20T00:37:20.562794",
     "status": "completed"
    },
    "tags": []
   },
   "outputs": [
    {
     "data": {
      "text/plain": [
       "\"plt.figure(figsize=(15,5))\\nplt.plot(range(10,410),accs)\\nplt.title('MNIST kNN k value versus validation acc')\\nplt.show()\""
      ]
     },
     "execution_count": 25,
     "metadata": {},
     "output_type": "execute_result"
    }
   ],
   "source": [
    "'''plt.figure(figsize=(15,5))\n",
    "plt.plot(range(10,410),accs)\n",
    "plt.title('MNIST kNN k value versus validation acc')\n",
    "plt.show()'''\n"
   ]
  },
  {
   "attachments": {
    "ffb5ee5d-0ff3-41ab-8bd4-fc59a6ebe4e0.png": {
     "image/png": "[encoded data removed]"
    }
   },
   "cell_type": "markdown",
   "id": "6bafbee6",
   "metadata": {
    "papermill": {
     "duration": 0.088601,
     "end_time": "2021-11-20T00:37:20.845803",
     "exception": false,
     "start_time": "2021-11-20T00:37:20.757202",
     "status": "completed"
    },
    "tags": []
   },
   "source": [
    "![image.png](attachment:ffb5ee5d-0ff3-41ab-8bd4-fc59a6ebe4e0.png)!"
   ]
  },
  {
   "cell_type": "code",
   "execution_count": 26,
   "id": "e68695b1",
   "metadata": {
    "execution": {
     "iopub.execute_input": "2021-11-20T00:37:24.732906Z",
     "iopub.status.busy": "2021-11-20T00:37:24.731558Z",
     "iopub.status.idle": "2021-11-20T00:37:50.815752Z",
     "shell.execute_reply": "2021-11-20T00:37:50.815114Z",
     "shell.execute_reply.started": "2021-11-20T00:18:48.684971Z"
    },
    "papermill": {
     "duration": 29.880618,
     "end_time": "2021-11-20T00:37:50.816027",
     "exception": false,
     "start_time": "2021-11-20T00:37:20.935409",
     "status": "completed"
    },
    "tags": []
   },
   "outputs": [],
   "source": [
    "knn = KNeighborsClassifier(n_neighbors= 406)\n",
    "knn.fit(X_train, y_train)\n",
    "y_hat_p = knn.predict(X_train)"
   ]
  },
  {
   "cell_type": "markdown",
   "id": "46847f2d",
   "metadata": {
    "papermill": {
     "duration": 0.091291,
     "end_time": "2021-11-20T00:37:51.000214",
     "exception": false,
     "start_time": "2021-11-20T00:37:50.908923",
     "status": "completed"
    },
    "tags": []
   },
   "source": [
    "> # KNN AUC SCORE"
   ]
  },
  {
   "cell_type": "code",
   "execution_count": 27,
   "id": "586296b8",
   "metadata": {
    "execution": {
     "iopub.execute_input": "2021-11-20T00:37:51.209074Z",
     "iopub.status.busy": "2021-11-20T00:37:51.208041Z",
     "iopub.status.idle": "2021-11-20T00:37:51.212192Z",
     "shell.execute_reply": "2021-11-20T00:37:51.212711Z",
     "shell.execute_reply.started": "2021-11-20T00:19:16.776846Z"
    },
    "papermill": {
     "duration": 0.108076,
     "end_time": "2021-11-20T00:37:51.212862",
     "exception": false,
     "start_time": "2021-11-20T00:37:51.104786",
     "status": "completed"
    },
    "tags": []
   },
   "outputs": [
    {
     "data": {
      "text/plain": [
       "\"y_pred2 = knn.predict_proba(X_valid)\\nauc = roc_auc_score(y_valid, y_pred2[:,1])\\nprint('AUC valid: %.3f' % auc)\\ny_pred = knn.predict_proba(X_hold_out)\\nauc = roc_auc_score(y_hold_out, y_pred[:,1])\\nprint('AUC test: %.3f' % auc)\""
      ]
     },
     "execution_count": 27,
     "metadata": {},
     "output_type": "execute_result"
    }
   ],
   "source": [
    "'''y_pred2 = knn.predict_proba(X_valid)\n",
    "auc = roc_auc_score(y_valid, y_pred2[:,1])\n",
    "print('AUC valid: %.3f' % auc)\n",
    "y_pred = knn.predict_proba(X_hold_out)\n",
    "auc = roc_auc_score(y_hold_out, y_pred[:,1])\n",
    "print('AUC test: %.3f' % auc)'''"
   ]
  },
  {
   "cell_type": "code",
   "execution_count": 28,
   "id": "358d1c02",
   "metadata": {
    "execution": {
     "iopub.execute_input": "2021-11-20T00:37:51.414185Z",
     "iopub.status.busy": "2021-11-20T00:37:51.412866Z",
     "iopub.status.idle": "2021-11-20T00:38:34.669602Z",
     "shell.execute_reply": "2021-11-20T00:38:34.669034Z",
     "shell.execute_reply.started": "2021-11-20T00:19:16.797852Z"
    },
    "papermill": {
     "duration": 43.364309,
     "end_time": "2021-11-20T00:38:34.669798",
     "exception": false,
     "start_time": "2021-11-20T00:37:51.305489",
     "status": "completed"
    },
    "tags": []
   },
   "outputs": [],
   "source": [
    "y_knn_prob = knn.predict_proba(X)\n",
    "y_knn_prob_hold = knn.predict_proba(X_hold_out)\n",
    "y_knn_prob_test = knn.predict_proba(df_test)"
   ]
  },
  {
   "cell_type": "markdown",
   "id": "ddfb4bd8",
   "metadata": {
    "papermill": {
     "duration": 0.091882,
     "end_time": "2021-11-20T00:38:34.856935",
     "exception": false,
     "start_time": "2021-11-20T00:38:34.765053",
     "status": "completed"
    },
    "tags": []
   },
   "source": [
    "> # Gaussian Naive Bayes "
   ]
  },
  {
   "cell_type": "code",
   "execution_count": 29,
   "id": "494ead69",
   "metadata": {
    "execution": {
     "iopub.execute_input": "2021-11-20T00:38:35.046658Z",
     "iopub.status.busy": "2021-11-20T00:38:35.045653Z",
     "iopub.status.idle": "2021-11-20T00:38:36.330259Z",
     "shell.execute_reply": "2021-11-20T00:38:36.331166Z",
     "shell.execute_reply.started": "2021-11-20T00:20:00.388898Z"
    },
    "papermill": {
     "duration": 1.382839,
     "end_time": "2021-11-20T00:38:36.331482",
     "exception": false,
     "start_time": "2021-11-20T00:38:34.948643",
     "status": "completed"
    },
    "tags": []
   },
   "outputs": [
    {
     "name": "stdout",
     "output_type": "stream",
     "text": [
      "model accuracy on predicting train is: 59.55121161297785%\n"
     ]
    }
   ],
   "source": [
    "from sklearn.naive_bayes import GaussianNB\n",
    "gnb = GaussianNB()\n",
    "y_pred = gnb.fit(X_train, y_train).predict(X_valid)\n",
    "accuracy = accuracy_score(y_valid, y_pred)*100\n",
    "print ('model accuracy on predicting train is: '+str(accuracy)+'%')"
   ]
  },
  {
   "cell_type": "markdown",
   "id": "581206d4",
   "metadata": {
    "papermill": {
     "duration": 0.096068,
     "end_time": "2021-11-20T00:38:36.522461",
     "exception": false,
     "start_time": "2021-11-20T00:38:36.426393",
     "status": "completed"
    },
    "tags": []
   },
   "source": [
    "> # Gaussian Naive Bayes AUC Score"
   ]
  },
  {
   "cell_type": "code",
   "execution_count": 30,
   "id": "b7b84340",
   "metadata": {
    "execution": {
     "iopub.execute_input": "2021-11-20T00:38:36.719213Z",
     "iopub.status.busy": "2021-11-20T00:38:36.718235Z",
     "iopub.status.idle": "2021-11-20T00:38:36.722138Z",
     "shell.execute_reply": "2021-11-20T00:38:36.722685Z",
     "shell.execute_reply.started": "2021-11-20T00:20:01.468311Z"
    },
    "papermill": {
     "duration": 0.105259,
     "end_time": "2021-11-20T00:38:36.722886",
     "exception": false,
     "start_time": "2021-11-20T00:38:36.617627",
     "status": "completed"
    },
    "tags": []
   },
   "outputs": [
    {
     "data": {
      "text/plain": [
       "\"y_pred3 = gnb.predict_proba(X_valid)\\nauc = roc_auc_score(y_valid, y_pred3[:,1])\\nprint('AUC valid: %.3f' % auc)\\ny_pred = gnb.predict_proba(X_hold_out)\\nauc = roc_auc_score(y_hold_out, y_pred[:,1])\\nprint('AUC test: %.3f' % auc)\""
      ]
     },
     "execution_count": 30,
     "metadata": {},
     "output_type": "execute_result"
    }
   ],
   "source": [
    "'''y_pred3 = gnb.predict_proba(X_valid)\n",
    "auc = roc_auc_score(y_valid, y_pred3[:,1])\n",
    "print('AUC valid: %.3f' % auc)\n",
    "y_pred = gnb.predict_proba(X_hold_out)\n",
    "auc = roc_auc_score(y_hold_out, y_pred[:,1])\n",
    "print('AUC test: %.3f' % auc)'''"
   ]
  },
  {
   "cell_type": "code",
   "execution_count": 31,
   "id": "27e1c32f",
   "metadata": {
    "execution": {
     "iopub.execute_input": "2021-11-20T00:38:36.921559Z",
     "iopub.status.busy": "2021-11-20T00:38:36.919996Z",
     "iopub.status.idle": "2021-11-20T00:38:40.846409Z",
     "shell.execute_reply": "2021-11-20T00:38:40.845361Z",
     "shell.execute_reply.started": "2021-11-20T00:20:01.476532Z"
    },
    "papermill": {
     "duration": 4.030527,
     "end_time": "2021-11-20T00:38:40.846556",
     "exception": false,
     "start_time": "2021-11-20T00:38:36.816029",
     "status": "completed"
    },
    "tags": []
   },
   "outputs": [],
   "source": [
    "y_gnb_prob = gnb.predict_proba(X)\n",
    "y_gnb_prob_hold = gnb.predict_proba(X_hold_out)\n",
    "y_gnb_prob_test = gnb.predict_proba(df_test)"
   ]
  },
  {
   "cell_type": "code",
   "execution_count": 32,
   "id": "a49a01d6",
   "metadata": {
    "execution": {
     "iopub.execute_input": "2021-11-20T00:38:41.125656Z",
     "iopub.status.busy": "2021-11-20T00:38:41.124464Z",
     "iopub.status.idle": "2021-11-20T00:38:41.127127Z",
     "shell.execute_reply": "2021-11-20T00:38:41.127630Z",
     "shell.execute_reply.started": "2021-11-20T00:20:03.148069Z"
    },
    "papermill": {
     "duration": 0.182506,
     "end_time": "2021-11-20T00:38:41.127821",
     "exception": false,
     "start_time": "2021-11-20T00:38:40.945315",
     "status": "completed"
    },
    "tags": []
   },
   "outputs": [],
   "source": [
    "col1 = pd.DataFrame(y_XGB_prob,index=X.index)\n",
    "col1.columns = ['XGBT', 'XGBF']\n",
    "col2 = pd.DataFrame(y_logreg_prob,index=X.index)\n",
    "col2.columns = ['logregT', 'logregF']\n",
    "col3 = pd.DataFrame(y_knn_prob,index=X.index)\n",
    "col3.columns = ['KNNT', 'KNNF']\n",
    "col4 = pd.DataFrame(y_gnb_prob,index=X.index)\n",
    "col4.columns = ['GNBT', 'GNBF']"
   ]
  },
  {
   "cell_type": "code",
   "execution_count": 33,
   "id": "1daf94ac",
   "metadata": {
    "execution": {
     "iopub.execute_input": "2021-11-20T00:38:41.324515Z",
     "iopub.status.busy": "2021-11-20T00:38:41.323300Z",
     "iopub.status.idle": "2021-11-20T00:38:41.517990Z",
     "shell.execute_reply": "2021-11-20T00:38:41.516683Z",
     "shell.execute_reply.started": "2021-11-20T00:20:03.157464Z"
    },
    "papermill": {
     "duration": 0.294568,
     "end_time": "2021-11-20T00:38:41.518146",
     "exception": false,
     "start_time": "2021-11-20T00:38:41.223578",
     "status": "completed"
    },
    "tags": []
   },
   "outputs": [],
   "source": [
    "X = pd.concat([X,col1,col2,col3,col4], axis=1)"
   ]
  },
  {
   "cell_type": "code",
   "execution_count": 34,
   "id": "55e0e253",
   "metadata": {
    "execution": {
     "iopub.execute_input": "2021-11-20T00:38:41.720614Z",
     "iopub.status.busy": "2021-11-20T00:38:41.719486Z",
     "iopub.status.idle": "2021-11-20T00:38:42.928259Z",
     "shell.execute_reply": "2021-11-20T00:38:42.927645Z",
     "shell.execute_reply.started": "2021-11-20T00:20:03.346703Z"
    },
    "papermill": {
     "duration": 1.313937,
     "end_time": "2021-11-20T00:38:42.928433",
     "exception": false,
     "start_time": "2021-11-20T00:38:41.614496",
     "status": "completed"
    },
    "tags": []
   },
   "outputs": [],
   "source": [
    "X_train, X_valid, y_train, y_valid = train_test_split(X, y, random_state=0, test_size = 0.0297,stratify=y)"
   ]
  },
  {
   "cell_type": "code",
   "execution_count": 35,
   "id": "70e769a8",
   "metadata": {
    "execution": {
     "iopub.execute_input": "2021-11-20T00:38:43.123833Z",
     "iopub.status.busy": "2021-11-20T00:38:43.123173Z",
     "iopub.status.idle": "2021-11-20T00:38:51.583853Z",
     "shell.execute_reply": "2021-11-20T00:38:51.585224Z",
     "shell.execute_reply.started": "2021-11-20T00:20:04.435770Z"
    },
    "papermill": {
     "duration": 8.563252,
     "end_time": "2021-11-20T00:38:51.585533",
     "exception": false,
     "start_time": "2021-11-20T00:38:43.022281",
     "status": "completed"
    },
    "tags": []
   },
   "outputs": [
    {
     "name": "stderr",
     "output_type": "stream",
     "text": [
      "2021-11-20 00:38:48.940305: I tensorflow/stream_executor/cuda/cuda_gpu_executor.cc:937] successful NUMA node read from SysFS had negative value (-1), but there must be at least one NUMA node, so returning NUMA node zero\n",
      "2021-11-20 00:38:48.942440: I tensorflow/stream_executor/cuda/cuda_gpu_executor.cc:937] successful NUMA node read from SysFS had negative value (-1), but there must be at least one NUMA node, so returning NUMA node zero\n",
      "2021-11-20 00:38:48.943420: I tensorflow/stream_executor/cuda/cuda_gpu_executor.cc:937] successful NUMA node read from SysFS had negative value (-1), but there must be at least one NUMA node, so returning NUMA node zero\n",
      "2021-11-20 00:38:48.944582: I tensorflow/core/platform/cpu_feature_guard.cc:142] This TensorFlow binary is optimized with oneAPI Deep Neural Network Library (oneDNN) to use the following CPU instructions in performance-critical operations:  AVX2 FMA\n",
      "To enable them in other operations, rebuild TensorFlow with the appropriate compiler flags.\n",
      "2021-11-20 00:38:48.945891: I tensorflow/stream_executor/cuda/cuda_gpu_executor.cc:937] successful NUMA node read from SysFS had negative value (-1), but there must be at least one NUMA node, so returning NUMA node zero\n",
      "2021-11-20 00:38:48.946929: I tensorflow/stream_executor/cuda/cuda_gpu_executor.cc:937] successful NUMA node read from SysFS had negative value (-1), but there must be at least one NUMA node, so returning NUMA node zero\n",
      "2021-11-20 00:38:48.947865: I tensorflow/stream_executor/cuda/cuda_gpu_executor.cc:937] successful NUMA node read from SysFS had negative value (-1), but there must be at least one NUMA node, so returning NUMA node zero\n",
      "2021-11-20 00:38:51.032333: I tensorflow/stream_executor/cuda/cuda_gpu_executor.cc:937] successful NUMA node read from SysFS had negative value (-1), but there must be at least one NUMA node, so returning NUMA node zero\n",
      "2021-11-20 00:38:51.033451: I tensorflow/stream_executor/cuda/cuda_gpu_executor.cc:937] successful NUMA node read from SysFS had negative value (-1), but there must be at least one NUMA node, so returning NUMA node zero\n",
      "2021-11-20 00:38:51.034439: I tensorflow/stream_executor/cuda/cuda_gpu_executor.cc:937] successful NUMA node read from SysFS had negative value (-1), but there must be at least one NUMA node, so returning NUMA node zero\n",
      "2021-11-20 00:38:51.035300: I tensorflow/core/common_runtime/gpu/gpu_device.cc:1510] Created device /job:localhost/replica:0/task:0/device:GPU:0 with 14217 MB memory:  -> device: 0, name: Tesla P100-PCIE-16GB, pci bus id: 0000:00:04.0, compute capability: 6.0\n"
     ]
    }
   ],
   "source": [
    "import tensorflow as tf\n",
    "from tensorflow import keras\n",
    "from tensorflow.keras import layers, callbacks\n",
    "\n",
    "# we still need to clear a graph though\n",
    "\n",
    "tf.keras.backend.clear_session()\n",
    "model = keras.Sequential([\n",
    "    layers.Dense(100, activation='swish', input_shape=[X.shape[1]]),\n",
    "    layers.Dropout(0.3),\n",
    "    layers.Dense(64, activation='swish'),\n",
    "    layers.Dropout(0.3),\n",
    "    layers.Dense(32, activation='swish'),\n",
    "    layers.Dropout(0.3),\n",
    "    # For a binary classification function use sigmoid\n",
    "    layers.Dense(1, activation='sigmoid')])"
   ]
  },
  {
   "cell_type": "code",
   "execution_count": 36,
   "id": "7236c9c1",
   "metadata": {
    "execution": {
     "iopub.execute_input": "2021-11-20T00:38:51.870286Z",
     "iopub.status.busy": "2021-11-20T00:38:51.869353Z",
     "iopub.status.idle": "2021-11-20T00:38:51.880999Z",
     "shell.execute_reply": "2021-11-20T00:38:51.880077Z",
     "shell.execute_reply.started": "2021-11-20T00:20:11.200159Z"
    },
    "papermill": {
     "duration": 0.129274,
     "end_time": "2021-11-20T00:38:51.881250",
     "exception": false,
     "start_time": "2021-11-20T00:38:51.751976",
     "status": "completed"
    },
    "tags": []
   },
   "outputs": [
    {
     "name": "stdout",
     "output_type": "stream",
     "text": [
      "Model: \"sequential\"\n",
      "_________________________________________________________________\n",
      "Layer (type)                 Output Shape              Param #   \n",
      "=================================================================\n",
      "dense (Dense)                (None, 100)               10900     \n",
      "_________________________________________________________________\n",
      "dropout (Dropout)            (None, 100)               0         \n",
      "_________________________________________________________________\n",
      "dense_1 (Dense)              (None, 64)                6464      \n",
      "_________________________________________________________________\n",
      "dropout_1 (Dropout)          (None, 64)                0         \n",
      "_________________________________________________________________\n",
      "dense_2 (Dense)              (None, 32)                2080      \n",
      "_________________________________________________________________\n",
      "dropout_2 (Dropout)          (None, 32)                0         \n",
      "_________________________________________________________________\n",
      "dense_3 (Dense)              (None, 1)                 33        \n",
      "=================================================================\n",
      "Total params: 19,477\n",
      "Trainable params: 19,477\n",
      "Non-trainable params: 0\n",
      "_________________________________________________________________\n"
     ]
    }
   ],
   "source": [
    "model.summary()"
   ]
  },
  {
   "cell_type": "code",
   "execution_count": 37,
   "id": "80077430",
   "metadata": {
    "execution": {
     "iopub.execute_input": "2021-11-20T00:38:52.085710Z",
     "iopub.status.busy": "2021-11-20T00:38:52.084623Z",
     "iopub.status.idle": "2021-11-20T00:38:52.092956Z",
     "shell.execute_reply": "2021-11-20T00:38:52.092410Z",
     "shell.execute_reply.started": "2021-11-20T00:20:11.212189Z"
    },
    "papermill": {
     "duration": 0.115914,
     "end_time": "2021-11-20T00:38:52.093103",
     "exception": false,
     "start_time": "2021-11-20T00:38:51.977189",
     "status": "completed"
    },
    "tags": []
   },
   "outputs": [],
   "source": [
    "model.compile(\n",
    "    optimizer='adam',\n",
    "    loss='binary_crossentropy',\n",
    "    metrics=['AUC'])"
   ]
  },
  {
   "cell_type": "code",
   "execution_count": 38,
   "id": "d4a8e5d4",
   "metadata": {
    "execution": {
     "iopub.execute_input": "2021-11-20T00:38:52.289538Z",
     "iopub.status.busy": "2021-11-20T00:38:52.288564Z",
     "iopub.status.idle": "2021-11-20T00:39:26.011409Z",
     "shell.execute_reply": "2021-11-20T00:39:26.012041Z",
     "shell.execute_reply.started": "2021-11-20T00:20:11.226079Z"
    },
    "papermill": {
     "duration": 33.824274,
     "end_time": "2021-11-20T00:39:26.012288",
     "exception": false,
     "start_time": "2021-11-20T00:38:52.188014",
     "status": "completed"
    },
    "tags": []
   },
   "outputs": [
    {
     "name": "stderr",
     "output_type": "stream",
     "text": [
      "2021-11-20 00:38:52.915359: W tensorflow/core/framework/cpu_allocator_impl.cc:80] Allocation of 488064096 exceeds 10% of free system memory.\n",
      "2021-11-20 00:38:53.399285: W tensorflow/core/framework/cpu_allocator_impl.cc:80] Allocation of 488064096 exceeds 10% of free system memory.\n",
      "2021-11-20 00:38:53.800551: I tensorflow/compiler/mlir/mlir_graph_optimization_pass.cc:185] None of the MLIR Optimization Passes are enabled (registered 2)\n"
     ]
    },
    {
     "data": {
      "text/plain": [
       "<keras.callbacks.History at 0x7fafda386a90>"
      ]
     },
     "execution_count": 38,
     "metadata": {},
     "output_type": "execute_result"
    }
   ],
   "source": [
    "model.fit(\n",
    "    X_train, \n",
    "    y_train,\n",
    "    batch_size=1024, \n",
    "    epochs=10,\n",
    "    validation_data=(X_valid, y_valid)\n",
    "    ,\n",
    "    verbose=0\n",
    ")"
   ]
  },
  {
   "cell_type": "code",
   "execution_count": 39,
   "id": "a04950f9",
   "metadata": {
    "execution": {
     "iopub.execute_input": "2021-11-20T00:39:26.249536Z",
     "iopub.status.busy": "2021-11-20T00:39:26.248306Z",
     "iopub.status.idle": "2021-11-20T00:39:27.772787Z",
     "shell.execute_reply": "2021-11-20T00:39:27.773449Z",
     "shell.execute_reply.started": "2021-11-20T00:20:29.205427Z"
    },
    "papermill": {
     "duration": 1.647871,
     "end_time": "2021-11-20T00:39:27.773670",
     "exception": false,
     "start_time": "2021-11-20T00:39:26.125799",
     "status": "completed"
    },
    "tags": []
   },
   "outputs": [
    {
     "name": "stdout",
     "output_type": "stream",
     "text": [
      "model accuracy on predicting train is: 74.46648545486092%\n"
     ]
    }
   ],
   "source": [
    "y_pred = model.predict(X_valid)\n",
    "for el in range(len(y_pred)):\n",
    "    if y_pred[el] >= 0.5:\n",
    "        y_pred[el] = 1 \n",
    "    else:\n",
    "        y_pred[el] = 0\n",
    "y_pred = y_pred.astype(int)\n",
    "accuracy = accuracy_score(y_valid, y_pred)*100\n",
    "print ('model accuracy on predicting train is: '+str(accuracy)+'%')"
   ]
  },
  {
   "cell_type": "code",
   "execution_count": 40,
   "id": "c9d3c6c2",
   "metadata": {
    "execution": {
     "iopub.execute_input": "2021-11-20T00:39:27.981501Z",
     "iopub.status.busy": "2021-11-20T00:39:27.980407Z",
     "iopub.status.idle": "2021-11-20T00:39:27.983096Z",
     "shell.execute_reply": "2021-11-20T00:39:27.983729Z",
     "shell.execute_reply.started": "2021-11-20T00:20:29.207325Z"
    },
    "papermill": {
     "duration": 0.109812,
     "end_time": "2021-11-20T00:39:27.983944",
     "exception": false,
     "start_time": "2021-11-20T00:39:27.874132",
     "status": "completed"
    },
    "tags": []
   },
   "outputs": [],
   "source": [
    "col1 = pd.DataFrame(y_XGB_prob_hold,index=X_hold_out.index)\n",
    "col1.columns = ['XGBT', 'XGBF']\n",
    "col2 = pd.DataFrame(y_logreg_prob_hold,index=X_hold_out.index)\n",
    "col2.columns = ['logregT', 'logregF']\n",
    "col3 = pd.DataFrame(y_knn_prob_hold,index=X_hold_out.index)\n",
    "col3.columns = ['KNNT', 'KNNF']\n",
    "col4 = pd.DataFrame(y_gnb_prob_hold,index=X_hold_out.index)\n",
    "col4.columns = ['GNBT', 'GNBF']"
   ]
  },
  {
   "cell_type": "code",
   "execution_count": 41,
   "id": "89d0364a",
   "metadata": {
    "execution": {
     "iopub.execute_input": "2021-11-20T00:39:28.189741Z",
     "iopub.status.busy": "2021-11-20T00:39:28.188286Z",
     "iopub.status.idle": "2021-11-20T00:39:28.193654Z",
     "shell.execute_reply": "2021-11-20T00:39:28.194252Z",
     "shell.execute_reply.started": "2021-11-20T00:20:29.209089Z"
    },
    "papermill": {
     "duration": 0.112972,
     "end_time": "2021-11-20T00:39:28.194440",
     "exception": false,
     "start_time": "2021-11-20T00:39:28.081468",
     "status": "completed"
    },
    "tags": []
   },
   "outputs": [],
   "source": [
    "X_hold_out = pd.concat([X_hold_out,col1,col2,col3,col4], axis=1)"
   ]
  },
  {
   "cell_type": "code",
   "execution_count": 42,
   "id": "e886c24f",
   "metadata": {
    "execution": {
     "iopub.execute_input": "2021-11-20T00:39:28.399430Z",
     "iopub.status.busy": "2021-11-20T00:39:28.398269Z",
     "iopub.status.idle": "2021-11-20T00:39:28.402447Z",
     "shell.execute_reply": "2021-11-20T00:39:28.403041Z",
     "shell.execute_reply.started": "2021-11-20T00:20:29.210875Z"
    },
    "papermill": {
     "duration": 0.109077,
     "end_time": "2021-11-20T00:39:28.403202",
     "exception": false,
     "start_time": "2021-11-20T00:39:28.294125",
     "status": "completed"
    },
    "tags": []
   },
   "outputs": [
    {
     "data": {
      "text/plain": [
       "\"y_pred = model.predict(X_valid)\\nauc = roc_auc_score(y_valid, y_pred)\\nprint('AUC valid: %.3f' % auc)\\ny_pred = model.predict(X_hold_out)\\nauc = roc_auc_score(y_hold_out, y_pred)\\nprint('AUC test: %.3f' % auc)\""
      ]
     },
     "execution_count": 42,
     "metadata": {},
     "output_type": "execute_result"
    }
   ],
   "source": [
    "'''y_pred = model.predict(X_valid)\n",
    "auc = roc_auc_score(y_valid, y_pred)\n",
    "print('AUC valid: %.3f' % auc)\n",
    "y_pred = model.predict(X_hold_out)\n",
    "auc = roc_auc_score(y_hold_out, y_pred)\n",
    "print('AUC test: %.3f' % auc)'''"
   ]
  },
  {
   "cell_type": "code",
   "execution_count": 43,
   "id": "422f1622",
   "metadata": {
    "execution": {
     "iopub.execute_input": "2021-11-20T00:39:28.609452Z",
     "iopub.status.busy": "2021-11-20T00:39:28.608350Z",
     "iopub.status.idle": "2021-11-20T00:39:52.482586Z",
     "shell.execute_reply": "2021-11-20T00:39:52.482049Z",
     "shell.execute_reply.started": "2021-11-20T00:20:29.212612Z"
    },
    "papermill": {
     "duration": 23.979951,
     "end_time": "2021-11-20T00:39:52.482741",
     "exception": false,
     "start_time": "2021-11-20T00:39:28.502790",
     "status": "completed"
    },
    "tags": []
   },
   "outputs": [
    {
     "name": "stderr",
     "output_type": "stream",
     "text": [
      "2021-11-20 00:39:29.157151: W tensorflow/core/framework/cpu_allocator_impl.cc:80] Allocation of 503003520 exceeds 10% of free system memory.\n",
      "2021-11-20 00:39:29.632018: W tensorflow/core/framework/cpu_allocator_impl.cc:80] Allocation of 503003520 exceeds 10% of free system memory.\n"
     ]
    }
   ],
   "source": [
    "y_pred = model.predict(X)"
   ]
  },
  {
   "cell_type": "code",
   "execution_count": 44,
   "id": "1e0631b9",
   "metadata": {
    "execution": {
     "iopub.execute_input": "2021-11-20T00:39:52.687695Z",
     "iopub.status.busy": "2021-11-20T00:39:52.686783Z",
     "iopub.status.idle": "2021-11-20T00:39:52.691234Z",
     "shell.execute_reply": "2021-11-20T00:39:52.690623Z",
     "shell.execute_reply.started": "2021-11-20T00:20:29.214787Z"
    },
    "papermill": {
     "duration": 0.109577,
     "end_time": "2021-11-20T00:39:52.691388",
     "exception": false,
     "start_time": "2021-11-20T00:39:52.581811",
     "status": "completed"
    },
    "tags": []
   },
   "outputs": [],
   "source": [
    "col1 = pd.DataFrame(y_pred,index=X.index)\n",
    "col1.columns = ['DeepT']\n",
    "col2 = pd.DataFrame(1-y_pred,index=X.index)\n",
    "col2.columns = ['DeepF']"
   ]
  },
  {
   "cell_type": "code",
   "execution_count": 45,
   "id": "9c389b30",
   "metadata": {
    "execution": {
     "iopub.execute_input": "2021-11-20T00:39:52.897600Z",
     "iopub.status.busy": "2021-11-20T00:39:52.896231Z",
     "iopub.status.idle": "2021-11-20T00:39:53.092666Z",
     "shell.execute_reply": "2021-11-20T00:39:53.092089Z",
     "shell.execute_reply.started": "2021-11-20T00:20:29.216549Z"
    },
    "papermill": {
     "duration": 0.302189,
     "end_time": "2021-11-20T00:39:53.092827",
     "exception": false,
     "start_time": "2021-11-20T00:39:52.790638",
     "status": "completed"
    },
    "tags": []
   },
   "outputs": [],
   "source": [
    "X = pd.concat([X,col1,col2], axis=1)"
   ]
  },
  {
   "cell_type": "code",
   "execution_count": 46,
   "id": "782775c1",
   "metadata": {
    "execution": {
     "iopub.execute_input": "2021-11-20T00:39:53.296549Z",
     "iopub.status.busy": "2021-11-20T00:39:53.295599Z",
     "iopub.status.idle": "2021-11-20T00:39:54.068762Z",
     "shell.execute_reply": "2021-11-20T00:39:54.069566Z",
     "shell.execute_reply.started": "2021-11-20T00:20:29.218315Z"
    },
    "papermill": {
     "duration": 0.877895,
     "end_time": "2021-11-20T00:39:54.069760",
     "exception": false,
     "start_time": "2021-11-20T00:39:53.191865",
     "status": "completed"
    },
    "tags": []
   },
   "outputs": [],
   "source": [
    "y_pred = model.predict(X_hold_out)"
   ]
  },
  {
   "cell_type": "code",
   "execution_count": 47,
   "id": "95b4823b",
   "metadata": {
    "execution": {
     "iopub.execute_input": "2021-11-20T00:39:54.275310Z",
     "iopub.status.busy": "2021-11-20T00:39:54.274422Z",
     "iopub.status.idle": "2021-11-20T00:39:54.278332Z",
     "shell.execute_reply": "2021-11-20T00:39:54.277673Z",
     "shell.execute_reply.started": "2021-11-20T00:20:29.220064Z"
    },
    "papermill": {
     "duration": 0.110434,
     "end_time": "2021-11-20T00:39:54.278499",
     "exception": false,
     "start_time": "2021-11-20T00:39:54.168065",
     "status": "completed"
    },
    "tags": []
   },
   "outputs": [],
   "source": [
    "col1 = pd.DataFrame(y_pred,index=X_hold_out.index)\n",
    "col1.columns = ['DeepT']\n",
    "col2 = pd.DataFrame(1-y_pred,index=X_hold_out.index)\n",
    "col2.columns = ['DeepF']"
   ]
  },
  {
   "cell_type": "code",
   "execution_count": 48,
   "id": "3386e008",
   "metadata": {
    "execution": {
     "iopub.execute_input": "2021-11-20T00:39:54.488902Z",
     "iopub.status.busy": "2021-11-20T00:39:54.485059Z",
     "iopub.status.idle": "2021-11-20T00:39:54.492651Z",
     "shell.execute_reply": "2021-11-20T00:39:54.493171Z",
     "shell.execute_reply.started": "2021-11-20T00:20:29.221827Z"
    },
    "papermill": {
     "duration": 0.114993,
     "end_time": "2021-11-20T00:39:54.493363",
     "exception": false,
     "start_time": "2021-11-20T00:39:54.378370",
     "status": "completed"
    },
    "tags": []
   },
   "outputs": [],
   "source": [
    "X_hold_out = pd.concat([X_hold_out,col1,col2], axis=1)"
   ]
  },
  {
   "cell_type": "code",
   "execution_count": 49,
   "id": "7d308365",
   "metadata": {
    "execution": {
     "iopub.execute_input": "2021-11-20T00:39:54.702238Z",
     "iopub.status.busy": "2021-11-20T00:39:54.701134Z",
     "iopub.status.idle": "2021-11-20T00:39:55.940807Z",
     "shell.execute_reply": "2021-11-20T00:39:55.943260Z",
     "shell.execute_reply.started": "2021-11-20T00:20:29.223572Z"
    },
    "papermill": {
     "duration": 1.350215,
     "end_time": "2021-11-20T00:39:55.943623",
     "exception": false,
     "start_time": "2021-11-20T00:39:54.593408",
     "status": "completed"
    },
    "tags": []
   },
   "outputs": [],
   "source": [
    "X_train, X_valid, y_train, y_valid = train_test_split(X, y, random_state=0, test_size = 0.0297,stratify=y)"
   ]
  },
  {
   "cell_type": "code",
   "execution_count": 50,
   "id": "fe2d368e",
   "metadata": {
    "execution": {
     "iopub.execute_input": "2021-11-20T00:39:56.318019Z",
     "iopub.status.busy": "2021-11-20T00:39:56.316484Z",
     "iopub.status.idle": "2021-11-20T00:40:10.482994Z",
     "shell.execute_reply": "2021-11-20T00:40:10.482351Z",
     "shell.execute_reply.started": "2021-11-20T00:20:29.225334Z"
    },
    "papermill": {
     "duration": 14.350682,
     "end_time": "2021-11-20T00:40:10.483255",
     "exception": false,
     "start_time": "2021-11-20T00:39:56.132573",
     "status": "completed"
    },
    "tags": []
   },
   "outputs": [
    {
     "name": "stderr",
     "output_type": "stream",
     "text": [
      "/opt/conda/lib/python3.7/site-packages/xgboost/sklearn.py:1224: UserWarning: The use of label encoder in XGBClassifier is deprecated and will be removed in a future release. To remove this warning, do the following: 1) Pass option use_label_encoder=False when constructing XGBClassifier object; and 2) Encode your labels (y) as integers starting with 0, i.e. 0, 1, 2, ..., [num_class - 1].\n",
      "  warnings.warn(label_encoder_deprecation_msg, UserWarning)\n"
     ]
    },
    {
     "name": "stdout",
     "output_type": "stream",
     "text": [
      "model accuracy on predicting valid is: 74.41443525533515%\n",
      "model accuracy on predicting train is: 74.60226699404662%\n",
      "AUC valid: 0.758\n",
      "AUC test: 0.762\n"
     ]
    }
   ],
   "source": [
    "accuracy = 0\n",
    "while accuracy == 0 :\n",
    "    try:\n",
    "        modelxx = XGBClassifier(base_score=0.5, booster='gbtree' ,colsample_bylevel=1,\n",
    "                      colsample_bynode=1, colsample_bytree=1, eval_metric='mlogloss',\n",
    "                      gamma=0, gpu_id=-1, importance_type='gain',\n",
    "                      interaction_constraints='', learning_rate= 0.75365952,\n",
    "                      max_delta_step=0, max_depth= 2 ,\n",
    "                      monotone_constraints='()', n_estimators= 300 , n_jobs=3,\n",
    "                      num_parallel_tree=1,\n",
    "                      reg_alpha= 0.1, reg_lambda= 0.5, \n",
    "                      tree_method='gpu_hist', \n",
    "                     )\n",
    "\n",
    "    \n",
    "    \n",
    "        modelxx.fit(X_train, y_train)\n",
    "        y_pred = modelxx.predict(X_valid)\n",
    "        accuracy = accuracy_score(y_valid, y_pred)*100\n",
    "        print ('model accuracy on predicting valid is: '+str(accuracy)+'%')\n",
    "        y_pred = modelxx.predict(X_train)\n",
    "        accuracy = accuracy_score(y_train, y_pred)*100\n",
    "        print ('model accuracy on predicting train is: '+str(accuracy)+'%')\n",
    "    except:\n",
    "        pass \n",
    "y_XGB_prob1 = modelxx.predict_proba(X_valid)\n",
    "y_XGB_prob_hold = modelxx.predict_proba(X_hold_out)  \n",
    "auc = roc_auc_score(y_valid, y_XGB_prob1[:,1])\n",
    "print('AUC valid: %.3f' % auc)\n",
    "auc = roc_auc_score(y_hold_out, y_XGB_prob_hold[:,1])\n",
    "print('AUC test: %.3f' % auc)\n",
    "#model.fit(X, y)"
   ]
  },
  {
   "cell_type": "code",
   "execution_count": 51,
   "id": "cfbe474c",
   "metadata": {
    "execution": {
     "iopub.execute_input": "2021-11-20T00:40:10.699858Z",
     "iopub.status.busy": "2021-11-20T00:40:10.694216Z",
     "iopub.status.idle": "2021-11-20T00:40:10.702749Z",
     "shell.execute_reply": "2021-11-20T00:40:10.703316Z",
     "shell.execute_reply.started": "2021-11-20T00:20:29.227080Z"
    },
    "papermill": {
     "duration": 0.113725,
     "end_time": "2021-11-20T00:40:10.703494",
     "exception": false,
     "start_time": "2021-11-20T00:40:10.589769",
     "status": "completed"
    },
    "tags": []
   },
   "outputs": [],
   "source": [
    "col1 = pd.DataFrame(y_XGB_prob_test,index=df_test.index)\n",
    "col1.columns = ['XGBT', 'XGBF']\n",
    "col2 = pd.DataFrame(y_logreg_prob_test,index=df_test.index)\n",
    "col2.columns = ['logregT', 'logregF']\n",
    "col3 = pd.DataFrame(y_knn_prob_test,index=df_test.index)\n",
    "col3.columns = ['KNNT', 'KNNF']\n",
    "col4 = pd.DataFrame(y_gnb_prob_test,index=df_test.index)\n",
    "col4.columns = ['GNBT', 'GNBF']"
   ]
  },
  {
   "cell_type": "code",
   "execution_count": 52,
   "id": "be5f38c2",
   "metadata": {
    "execution": {
     "iopub.execute_input": "2021-11-20T00:40:10.914072Z",
     "iopub.status.busy": "2021-11-20T00:40:10.912623Z",
     "iopub.status.idle": "2021-11-20T00:40:11.106419Z",
     "shell.execute_reply": "2021-11-20T00:40:11.105502Z",
     "shell.execute_reply.started": "2021-11-20T00:20:29.228838Z"
    },
    "papermill": {
     "duration": 0.302443,
     "end_time": "2021-11-20T00:40:11.106647",
     "exception": false,
     "start_time": "2021-11-20T00:40:10.804204",
     "status": "completed"
    },
    "tags": []
   },
   "outputs": [],
   "source": [
    "df_test = pd.concat([df_test,col1,col2,col3,col4], axis=1)"
   ]
  },
  {
   "cell_type": "code",
   "execution_count": 53,
   "id": "2d0a1e2d",
   "metadata": {
    "execution": {
     "iopub.execute_input": "2021-11-20T00:40:11.327008Z",
     "iopub.status.busy": "2021-11-20T00:40:11.325828Z",
     "iopub.status.idle": "2021-11-20T00:40:53.987683Z",
     "shell.execute_reply": "2021-11-20T00:40:53.988681Z",
     "shell.execute_reply.started": "2021-11-20T00:20:29.230603Z"
    },
    "papermill": {
     "duration": 42.770132,
     "end_time": "2021-11-20T00:40:53.988912",
     "exception": false,
     "start_time": "2021-11-20T00:40:11.218780",
     "status": "completed"
    },
    "tags": []
   },
   "outputs": [
    {
     "name": "stderr",
     "output_type": "stream",
     "text": [
      "2021-11-20 00:40:12.160483: W tensorflow/core/framework/cpu_allocator_impl.cc:80] Allocation of 466560000 exceeds 10% of free system memory.\n"
     ]
    }
   ],
   "source": [
    "y_pred = model.predict(df_test)"
   ]
  },
  {
   "cell_type": "code",
   "execution_count": 54,
   "id": "cc5951e3",
   "metadata": {
    "execution": {
     "iopub.execute_input": "2021-11-20T00:40:54.200712Z",
     "iopub.status.busy": "2021-11-20T00:40:54.199597Z",
     "iopub.status.idle": "2021-11-20T00:40:54.203172Z",
     "shell.execute_reply": "2021-11-20T00:40:54.202551Z",
     "shell.execute_reply.started": "2021-11-20T00:20:29.232359Z"
    },
    "papermill": {
     "duration": 0.111773,
     "end_time": "2021-11-20T00:40:54.203326",
     "exception": false,
     "start_time": "2021-11-20T00:40:54.091553",
     "status": "completed"
    },
    "tags": []
   },
   "outputs": [],
   "source": [
    "col1 = pd.DataFrame(y_pred,index=df_test.index)\n",
    "col1.columns = ['DeepT']\n",
    "col2 = pd.DataFrame(1-y_pred,index=df_test.index)\n",
    "col2.columns = ['DeepF']"
   ]
  },
  {
   "cell_type": "code",
   "execution_count": 55,
   "id": "7f911ad1",
   "metadata": {
    "execution": {
     "iopub.execute_input": "2021-11-20T00:40:54.410924Z",
     "iopub.status.busy": "2021-11-20T00:40:54.409304Z",
     "iopub.status.idle": "2021-11-20T00:40:54.582984Z",
     "shell.execute_reply": "2021-11-20T00:40:54.582219Z",
     "shell.execute_reply.started": "2021-11-20T00:20:29.234075Z"
    },
    "papermill": {
     "duration": 0.280273,
     "end_time": "2021-11-20T00:40:54.583132",
     "exception": false,
     "start_time": "2021-11-20T00:40:54.302859",
     "status": "completed"
    },
    "tags": []
   },
   "outputs": [],
   "source": [
    "df_test = pd.concat([df_test,col1,col2], axis=1)"
   ]
  },
  {
   "cell_type": "code",
   "execution_count": 56,
   "id": "4edd2600",
   "metadata": {
    "execution": {
     "iopub.execute_input": "2021-11-20T00:40:54.802037Z",
     "iopub.status.busy": "2021-11-20T00:40:54.800470Z",
     "iopub.status.idle": "2021-11-20T00:41:33.919123Z",
     "shell.execute_reply": "2021-11-20T00:41:33.920010Z",
     "shell.execute_reply.started": "2021-11-20T00:20:29.235844Z"
    },
    "papermill": {
     "duration": 39.235343,
     "end_time": "2021-11-20T00:41:33.920256",
     "exception": false,
     "start_time": "2021-11-20T00:40:54.684913",
     "status": "completed"
    },
    "tags": []
   },
   "outputs": [
    {
     "name": "stdout",
     "output_type": "stream",
     "text": [
      "model accuracy on predicting train is: 74.43178532184373%\n"
     ]
    }
   ],
   "source": [
    "logreg = LogisticRegression(fit_intercept=True , n_jobs = -1 , C = 8.483428982440725e-05)\n",
    "logreg.fit(X_train,y_train)\n",
    "y_pred = logreg.predict(X_valid)\n",
    "accuracy = accuracy_score(y_valid, y_pred)*100\n",
    "print ('model accuracy on predicting train is: '+str(accuracy)+'%')"
   ]
  },
  {
   "cell_type": "code",
   "execution_count": 57,
   "id": "de6dee36",
   "metadata": {
    "execution": {
     "iopub.execute_input": "2021-11-20T00:41:34.140343Z",
     "iopub.status.busy": "2021-11-20T00:41:34.138835Z",
     "iopub.status.idle": "2021-11-20T00:41:34.191032Z",
     "shell.execute_reply": "2021-11-20T00:41:34.189804Z",
     "shell.execute_reply.started": "2021-11-20T00:20:29.237690Z"
    },
    "papermill": {
     "duration": 0.166533,
     "end_time": "2021-11-20T00:41:34.191327",
     "exception": false,
     "start_time": "2021-11-20T00:41:34.024794",
     "status": "completed"
    },
    "tags": []
   },
   "outputs": [
    {
     "name": "stdout",
     "output_type": "stream",
     "text": [
      "AUC valid: 0.748\n",
      "AUC test: 0.753\n"
     ]
    }
   ],
   "source": [
    "y_pred1 = logreg.predict_proba(X_valid)\n",
    "auc = roc_auc_score(y_valid, y_pred1[:,1])\n",
    "print('AUC valid: %.3f' % auc)\n",
    "y_pred = logreg.predict_proba(X_hold_out)\n",
    "auc = roc_auc_score(y_hold_out, y_pred[:,1])\n",
    "print('AUC test: %.3f' % auc)"
   ]
  },
  {
   "cell_type": "code",
   "execution_count": 58,
   "id": "10b6aaa0",
   "metadata": {
    "execution": {
     "iopub.execute_input": "2021-11-20T00:41:34.453855Z",
     "iopub.status.busy": "2021-11-20T00:41:34.452513Z",
     "iopub.status.idle": "2021-11-20T00:41:36.380100Z",
     "shell.execute_reply": "2021-11-20T00:41:36.378287Z",
     "shell.execute_reply.started": "2021-11-20T00:20:29.239439Z"
    },
    "papermill": {
     "duration": 2.038975,
     "end_time": "2021-11-20T00:41:36.380358",
     "exception": false,
     "start_time": "2021-11-20T00:41:34.341383",
     "status": "completed"
    },
    "tags": []
   },
   "outputs": [
    {
     "name": "stdout",
     "output_type": "stream",
     "text": [
      "model accuracy on predicting train is: 70.95598866462322%\n"
     ]
    }
   ],
   "source": [
    "gnb = GaussianNB()\n",
    "y_pred = gnb.fit(X_train, y_train).predict(X_valid)\n",
    "accuracy = accuracy_score(y_valid, y_pred)*100\n",
    "print ('model accuracy on predicting train is: '+str(accuracy)+'%')"
   ]
  },
  {
   "cell_type": "code",
   "execution_count": 59,
   "id": "ac038ee6",
   "metadata": {
    "execution": {
     "iopub.execute_input": "2021-11-20T00:41:36.755125Z",
     "iopub.status.busy": "2021-11-20T00:41:36.754135Z",
     "iopub.status.idle": "2021-11-20T00:41:36.839415Z",
     "shell.execute_reply": "2021-11-20T00:41:36.840024Z",
     "shell.execute_reply.started": "2021-11-20T00:20:29.241153Z"
    },
    "papermill": {
     "duration": 0.268632,
     "end_time": "2021-11-20T00:41:36.840198",
     "exception": false,
     "start_time": "2021-11-20T00:41:36.571566",
     "status": "completed"
    },
    "tags": []
   },
   "outputs": [
    {
     "name": "stdout",
     "output_type": "stream",
     "text": [
      "AUC valid: 0.724\n",
      "AUC test: 0.723\n"
     ]
    }
   ],
   "source": [
    "y_pred3 = gnb.predict_proba(X_valid)\n",
    "auc = roc_auc_score(y_valid, y_pred3[:,1])\n",
    "print('AUC valid: %.3f' % auc)\n",
    "y_pred = gnb.predict_proba(X_hold_out)\n",
    "auc = roc_auc_score(y_hold_out, y_pred[:,1])\n",
    "print('AUC test: %.3f' % auc)"
   ]
  },
  {
   "cell_type": "code",
   "execution_count": 60,
   "id": "4fbdda8c",
   "metadata": {
    "execution": {
     "iopub.execute_input": "2021-11-20T00:41:37.052956Z",
     "iopub.status.busy": "2021-11-20T00:41:37.051434Z",
     "iopub.status.idle": "2021-11-20T00:41:45.958475Z",
     "shell.execute_reply": "2021-11-20T00:41:45.959227Z",
     "shell.execute_reply.started": "2021-11-20T00:20:29.242873Z"
    },
    "papermill": {
     "duration": 9.01613,
     "end_time": "2021-11-20T00:41:45.959419",
     "exception": false,
     "start_time": "2021-11-20T00:41:36.943289",
     "status": "completed"
    },
    "tags": []
   },
   "outputs": [],
   "source": [
    "y_XGB_prob = modelxx.predict_proba(X)\n",
    "y_XGB_prob_hold = modelxx.predict_proba(X_hold_out)\n",
    "y_XGB_prob_test = modelxx.predict_proba(df_test)\n",
    "y_logreg_prob = logreg.predict_proba(X)\n",
    "y_logreg_prob_hold = logreg.predict_proba(X_hold_out)\n",
    "y_logreg_prob_test = logreg.predict_proba(df_test)\n",
    "y_gnb_prob = gnb.predict_proba(X)\n",
    "y_gnb_prob_hold = gnb.predict_proba(X_hold_out)\n",
    "y_gnb_prob_test = gnb.predict_proba(df_test)"
   ]
  },
  {
   "cell_type": "code",
   "execution_count": 61,
   "id": "6a0785a3",
   "metadata": {
    "execution": {
     "iopub.execute_input": "2021-11-20T00:41:46.178394Z",
     "iopub.status.busy": "2021-11-20T00:41:46.177261Z",
     "iopub.status.idle": "2021-11-20T00:41:46.179725Z",
     "shell.execute_reply": "2021-11-20T00:41:46.180229Z",
     "shell.execute_reply.started": "2021-11-20T00:20:29.244602Z"
    },
    "papermill": {
     "duration": 0.116936,
     "end_time": "2021-11-20T00:41:46.180428",
     "exception": false,
     "start_time": "2021-11-20T00:41:46.063492",
     "status": "completed"
    },
    "tags": []
   },
   "outputs": [],
   "source": [
    "col1 = pd.DataFrame(y_XGB_prob,index=X.index)\n",
    "col1.columns = ['XGBT', 'XGBF']\n",
    "col2 = pd.DataFrame(y_logreg_prob,index=X.index)\n",
    "col2.columns = ['logregT', 'logregF']\n",
    "col3 = pd.DataFrame(y_gnb_prob,index=X.index)\n",
    "col3.columns = ['GNBT', 'GNBF']"
   ]
  },
  {
   "cell_type": "code",
   "execution_count": 62,
   "id": "9340d315",
   "metadata": {
    "execution": {
     "iopub.execute_input": "2021-11-20T00:41:46.395466Z",
     "iopub.status.busy": "2021-11-20T00:41:46.394237Z",
     "iopub.status.idle": "2021-11-20T00:41:46.586562Z",
     "shell.execute_reply": "2021-11-20T00:41:46.587206Z",
     "shell.execute_reply.started": "2021-11-20T00:20:29.246355Z"
    },
    "papermill": {
     "duration": 0.303379,
     "end_time": "2021-11-20T00:41:46.587462",
     "exception": false,
     "start_time": "2021-11-20T00:41:46.284083",
     "status": "completed"
    },
    "tags": []
   },
   "outputs": [],
   "source": [
    "X = pd.concat([X,col1,col2,col3], axis=1)"
   ]
  },
  {
   "cell_type": "code",
   "execution_count": 63,
   "id": "d9722d8d",
   "metadata": {
    "execution": {
     "iopub.execute_input": "2021-11-20T00:41:46.803802Z",
     "iopub.status.busy": "2021-11-20T00:41:46.802712Z",
     "iopub.status.idle": "2021-11-20T00:41:48.319393Z",
     "shell.execute_reply": "2021-11-20T00:41:48.318604Z",
     "shell.execute_reply.started": "2021-11-20T00:20:29.248098Z"
    },
    "papermill": {
     "duration": 1.630032,
     "end_time": "2021-11-20T00:41:48.319577",
     "exception": false,
     "start_time": "2021-11-20T00:41:46.689545",
     "status": "completed"
    },
    "tags": []
   },
   "outputs": [],
   "source": [
    "X_train, X_valid, y_train, y_valid = train_test_split(X, y, random_state=0, test_size = 0.0297,stratify=y)"
   ]
  },
  {
   "cell_type": "code",
   "execution_count": 64,
   "id": "ce7abff6",
   "metadata": {
    "execution": {
     "iopub.execute_input": "2021-11-20T00:41:48.558568Z",
     "iopub.status.busy": "2021-11-20T00:41:48.557329Z",
     "iopub.status.idle": "2021-11-20T00:41:48.647384Z",
     "shell.execute_reply": "2021-11-20T00:41:48.646626Z",
     "shell.execute_reply.started": "2021-11-20T00:20:29.249867Z"
    },
    "papermill": {
     "duration": 0.210694,
     "end_time": "2021-11-20T00:41:48.647565",
     "exception": false,
     "start_time": "2021-11-20T00:41:48.436871",
     "status": "completed"
    },
    "tags": []
   },
   "outputs": [],
   "source": [
    "tf.keras.backend.clear_session()\n",
    "model = keras.Sequential([\n",
    "    layers.Dense(100, activation='swish', input_shape=[X.shape[1]]),\n",
    "    layers.Dropout(0.3),\n",
    "    layers.Dense(64, activation='swish'),\n",
    "    layers.Dropout(0.3),\n",
    "    layers.Dense(32, activation='swish'),\n",
    "    layers.Dropout(0.3),\n",
    "    # For a binary classification function use sigmoid\n",
    "    layers.Dense(1, activation='sigmoid')])"
   ]
  },
  {
   "cell_type": "code",
   "execution_count": 65,
   "id": "72aad445",
   "metadata": {
    "execution": {
     "iopub.execute_input": "2021-11-20T00:41:48.893227Z",
     "iopub.status.busy": "2021-11-20T00:41:48.892023Z",
     "iopub.status.idle": "2021-11-20T00:41:48.896585Z",
     "shell.execute_reply": "2021-11-20T00:41:48.897486Z",
     "shell.execute_reply.started": "2021-11-20T00:20:29.251583Z"
    },
    "papermill": {
     "duration": 0.135492,
     "end_time": "2021-11-20T00:41:48.897729",
     "exception": false,
     "start_time": "2021-11-20T00:41:48.762237",
     "status": "completed"
    },
    "tags": []
   },
   "outputs": [
    {
     "name": "stdout",
     "output_type": "stream",
     "text": [
      "Model: \"sequential\"\n",
      "_________________________________________________________________\n",
      "Layer (type)                 Output Shape              Param #   \n",
      "=================================================================\n",
      "dense (Dense)                (None, 100)               11700     \n",
      "_________________________________________________________________\n",
      "dropout (Dropout)            (None, 100)               0         \n",
      "_________________________________________________________________\n",
      "dense_1 (Dense)              (None, 64)                6464      \n",
      "_________________________________________________________________\n",
      "dropout_1 (Dropout)          (None, 64)                0         \n",
      "_________________________________________________________________\n",
      "dense_2 (Dense)              (None, 32)                2080      \n",
      "_________________________________________________________________\n",
      "dropout_2 (Dropout)          (None, 32)                0         \n",
      "_________________________________________________________________\n",
      "dense_3 (Dense)              (None, 1)                 33        \n",
      "=================================================================\n",
      "Total params: 20,277\n",
      "Trainable params: 20,277\n",
      "Non-trainable params: 0\n",
      "_________________________________________________________________\n"
     ]
    }
   ],
   "source": [
    "model.summary()"
   ]
  },
  {
   "cell_type": "code",
   "execution_count": 66,
   "id": "8e0cb994",
   "metadata": {
    "execution": {
     "iopub.execute_input": "2021-11-20T00:41:49.143877Z",
     "iopub.status.busy": "2021-11-20T00:41:49.141592Z",
     "iopub.status.idle": "2021-11-20T00:41:49.149181Z",
     "shell.execute_reply": "2021-11-20T00:41:49.148596Z",
     "shell.execute_reply.started": "2021-11-20T00:20:29.253335Z"
    },
    "papermill": {
     "duration": 0.132865,
     "end_time": "2021-11-20T00:41:49.149327",
     "exception": false,
     "start_time": "2021-11-20T00:41:49.016462",
     "status": "completed"
    },
    "tags": []
   },
   "outputs": [],
   "source": [
    "model.compile(\n",
    "    optimizer='adam',\n",
    "    loss='binary_crossentropy',\n",
    "    metrics=['AUC'])"
   ]
  },
  {
   "cell_type": "code",
   "execution_count": 67,
   "id": "f8835e63",
   "metadata": {
    "execution": {
     "iopub.execute_input": "2021-11-20T00:41:49.388933Z",
     "iopub.status.busy": "2021-11-20T00:41:49.387735Z",
     "iopub.status.idle": "2021-11-20T00:42:22.991065Z",
     "shell.execute_reply": "2021-11-20T00:42:22.991604Z",
     "shell.execute_reply.started": "2021-11-20T00:20:29.255087Z"
    },
    "papermill": {
     "duration": 33.726084,
     "end_time": "2021-11-20T00:42:22.991771",
     "exception": false,
     "start_time": "2021-11-20T00:41:49.265687",
     "status": "completed"
    },
    "tags": []
   },
   "outputs": [
    {
     "data": {
      "text/plain": [
       "<keras.callbacks.History at 0x7fafd5c10fd0>"
      ]
     },
     "execution_count": 67,
     "metadata": {},
     "output_type": "execute_result"
    }
   ],
   "source": [
    "model.fit(\n",
    "    X_train, \n",
    "    y_train,\n",
    "    batch_size=1024, \n",
    "    epochs=10,\n",
    "    validation_data=(X_valid, y_valid)\n",
    "    ,\n",
    "    verbose=0\n",
    ")"
   ]
  },
  {
   "cell_type": "code",
   "execution_count": 68,
   "id": "835634cb",
   "metadata": {
    "execution": {
     "iopub.execute_input": "2021-11-20T00:42:23.203360Z",
     "iopub.status.busy": "2021-11-20T00:42:23.202306Z",
     "iopub.status.idle": "2021-11-20T00:42:24.026470Z",
     "shell.execute_reply": "2021-11-20T00:42:24.027328Z",
     "shell.execute_reply.started": "2021-11-20T00:20:29.256833Z"
    },
    "papermill": {
     "duration": 0.934375,
     "end_time": "2021-11-20T00:42:24.027568",
     "exception": false,
     "start_time": "2021-11-20T00:42:23.093193",
     "status": "completed"
    },
    "tags": []
   },
   "outputs": [
    {
     "name": "stdout",
     "output_type": "stream",
     "text": [
      "model accuracy on predicting train is: 74.3450349893008%\n"
     ]
    }
   ],
   "source": [
    "y_pred = model.predict(X_valid)\n",
    "for el in range(len(y_pred)):\n",
    "    if y_pred[el] >= 0.5:\n",
    "        y_pred[el] = 1 \n",
    "    else:\n",
    "        y_pred[el] = 0\n",
    "y_pred = y_pred.astype(int)\n",
    "accuracy = accuracy_score(y_valid, y_pred)*100\n",
    "print ('model accuracy on predicting train is: '+str(accuracy)+'%')"
   ]
  },
  {
   "cell_type": "code",
   "execution_count": 69,
   "id": "3dcae452",
   "metadata": {
    "execution": {
     "iopub.execute_input": "2021-11-20T00:42:24.234951Z",
     "iopub.status.busy": "2021-11-20T00:42:24.233868Z",
     "iopub.status.idle": "2021-11-20T00:42:24.241951Z",
     "shell.execute_reply": "2021-11-20T00:42:24.241379Z",
     "shell.execute_reply.started": "2021-11-20T00:20:29.258564Z"
    },
    "papermill": {
     "duration": 0.112074,
     "end_time": "2021-11-20T00:42:24.242126",
     "exception": false,
     "start_time": "2021-11-20T00:42:24.130052",
     "status": "completed"
    },
    "tags": []
   },
   "outputs": [],
   "source": [
    "col1 = pd.DataFrame(y_XGB_prob_hold,index=X_hold_out.index)\n",
    "col1.columns = ['XGBT', 'XGBF']\n",
    "col2 = pd.DataFrame(y_logreg_prob_hold,index=X_hold_out.index)\n",
    "col2.columns = ['logregT', 'logregF']\n",
    "col3 = pd.DataFrame(y_gnb_prob_hold,index=X_hold_out.index)\n",
    "col3.columns = ['GNBT', 'GNBF']"
   ]
  },
  {
   "cell_type": "code",
   "execution_count": 70,
   "id": "d727238b",
   "metadata": {
    "execution": {
     "iopub.execute_input": "2021-11-20T00:42:24.462217Z",
     "iopub.status.busy": "2021-11-20T00:42:24.461092Z",
     "iopub.status.idle": "2021-11-20T00:42:24.465138Z",
     "shell.execute_reply": "2021-11-20T00:42:24.465622Z",
     "shell.execute_reply.started": "2021-11-20T00:20:29.260315Z"
    },
    "papermill": {
     "duration": 0.120204,
     "end_time": "2021-11-20T00:42:24.465805",
     "exception": false,
     "start_time": "2021-11-20T00:42:24.345601",
     "status": "completed"
    },
    "tags": []
   },
   "outputs": [],
   "source": [
    "X_hold_out = pd.concat([X_hold_out,col1,col2,col3], axis=1)"
   ]
  },
  {
   "cell_type": "code",
   "execution_count": 71,
   "id": "9b139eee",
   "metadata": {
    "execution": {
     "iopub.execute_input": "2021-11-20T00:42:24.675431Z",
     "iopub.status.busy": "2021-11-20T00:42:24.674265Z",
     "iopub.status.idle": "2021-11-20T00:42:24.678156Z",
     "shell.execute_reply": "2021-11-20T00:42:24.677446Z",
     "shell.execute_reply.started": "2021-11-20T00:20:29.262048Z"
    },
    "papermill": {
     "duration": 0.11078,
     "end_time": "2021-11-20T00:42:24.678339",
     "exception": false,
     "start_time": "2021-11-20T00:42:24.567559",
     "status": "completed"
    },
    "tags": []
   },
   "outputs": [],
   "source": [
    "col1 = pd.DataFrame(y_XGB_prob_test,index=df_test.index)\n",
    "col1.columns = ['XGBT', 'XGBF']\n",
    "col2 = pd.DataFrame(y_logreg_prob_test,index=df_test.index)\n",
    "col2.columns = ['logregT', 'logregF']\n",
    "col3 = pd.DataFrame(y_gnb_prob_test,index=df_test.index)\n",
    "col3.columns = ['GNBT', 'GNBF']"
   ]
  },
  {
   "cell_type": "code",
   "execution_count": 72,
   "id": "8fd40f3b",
   "metadata": {
    "execution": {
     "iopub.execute_input": "2021-11-20T00:42:24.891425Z",
     "iopub.status.busy": "2021-11-20T00:42:24.890195Z",
     "iopub.status.idle": "2021-11-20T00:42:25.070610Z",
     "shell.execute_reply": "2021-11-20T00:42:25.069878Z"
    },
    "papermill": {
     "duration": 0.287155,
     "end_time": "2021-11-20T00:42:25.070754",
     "exception": false,
     "start_time": "2021-11-20T00:42:24.783599",
     "status": "completed"
    },
    "tags": []
   },
   "outputs": [],
   "source": [
    "df_test = pd.concat([df_test,col1,col2,col3], axis=1)"
   ]
  },
  {
   "cell_type": "code",
   "execution_count": 73,
   "id": "119f652a",
   "metadata": {
    "execution": {
     "iopub.execute_input": "2021-11-20T00:42:25.275003Z",
     "iopub.status.busy": "2021-11-20T00:42:25.274020Z",
     "iopub.status.idle": "2021-11-20T00:42:27.991036Z",
     "shell.execute_reply": "2021-11-20T00:42:27.991528Z",
     "shell.execute_reply.started": "2021-11-20T00:20:29.263815Z"
    },
    "papermill": {
     "duration": 2.822653,
     "end_time": "2021-11-20T00:42:27.991702",
     "exception": false,
     "start_time": "2021-11-20T00:42:25.169049",
     "status": "completed"
    },
    "tags": []
   },
   "outputs": [
    {
     "name": "stdout",
     "output_type": "stream",
     "text": [
      "AUC valid: 0.756\n",
      "AUC test: 0.759\n"
     ]
    }
   ],
   "source": [
    "y_pred = model.predict(X_valid)\n",
    "auc = roc_auc_score(y_valid, y_pred)\n",
    "print('AUC valid: %.3f' % auc)\n",
    "y_pred = model.predict(X_hold_out)\n",
    "auc = roc_auc_score(y_hold_out, y_pred)\n",
    "print('AUC test: %.3f' % auc)"
   ]
  },
  {
   "cell_type": "code",
   "execution_count": 74,
   "id": "618a0585",
   "metadata": {
    "execution": {
     "iopub.execute_input": "2021-11-20T00:42:28.207878Z",
     "iopub.status.busy": "2021-11-20T00:42:28.204633Z",
     "iopub.status.idle": "2021-11-20T00:42:57.284220Z",
     "shell.execute_reply": "2021-11-20T00:42:57.283481Z",
     "shell.execute_reply.started": "2021-11-20T00:20:29.265554Z"
    },
    "papermill": {
     "duration": 29.189684,
     "end_time": "2021-11-20T00:42:57.284413",
     "exception": false,
     "start_time": "2021-11-20T00:42:28.094729",
     "status": "completed"
    },
    "tags": []
   },
   "outputs": [],
   "source": [
    "y_pred = model.predict(df_test)\n"
   ]
  },
  {
   "cell_type": "code",
   "execution_count": 75,
   "id": "decee1e2",
   "metadata": {
    "execution": {
     "iopub.execute_input": "2021-11-20T00:42:57.498194Z",
     "iopub.status.busy": "2021-11-20T00:42:57.497254Z",
     "iopub.status.idle": "2021-11-20T00:42:57.500975Z",
     "shell.execute_reply": "2021-11-20T00:42:57.501508Z",
     "shell.execute_reply.started": "2021-11-20T00:20:29.267304Z"
    },
    "papermill": {
     "duration": 0.113554,
     "end_time": "2021-11-20T00:42:57.501666",
     "exception": false,
     "start_time": "2021-11-20T00:42:57.388112",
     "status": "completed"
    },
    "tags": []
   },
   "outputs": [
    {
     "data": {
      "text/plain": [
       "\"y_pred = model.predict(X_hold_out)\\nfor el in range(len(y_pred)):\\n    if y_pred[el] >= 0.5:\\n        y_pred[el] = 1 \\n    else:\\n        y_pred[el] = 0\\ny_pred = y_pred.astype(int)\\naccuracy = accuracy_score(y_hold_out, y_pred)*100\\nprint ('model accuracy on predicting train is: '+str(accuracy)+'%')\""
      ]
     },
     "execution_count": 75,
     "metadata": {},
     "output_type": "execute_result"
    }
   ],
   "source": [
    "'''y_pred = model.predict(X_hold_out)\n",
    "for el in range(len(y_pred)):\n",
    "    if y_pred[el] >= 0.5:\n",
    "        y_pred[el] = 1 \n",
    "    else:\n",
    "        y_pred[el] = 0\n",
    "y_pred = y_pred.astype(int)\n",
    "accuracy = accuracy_score(y_hold_out, y_pred)*100\n",
    "print ('model accuracy on predicting train is: '+str(accuracy)+'%')'''"
   ]
  },
  {
   "cell_type": "code",
   "execution_count": 76,
   "id": "10b9d4e8",
   "metadata": {
    "execution": {
     "iopub.execute_input": "2021-11-20T00:42:57.713631Z",
     "iopub.status.busy": "2021-11-20T00:42:57.712408Z",
     "iopub.status.idle": "2021-11-20T00:42:57.715908Z",
     "shell.execute_reply": "2021-11-20T00:42:57.715287Z",
     "shell.execute_reply.started": "2021-11-20T00:20:29.269113Z"
    },
    "papermill": {
     "duration": 0.110296,
     "end_time": "2021-11-20T00:42:57.716056",
     "exception": false,
     "start_time": "2021-11-20T00:42:57.605760",
     "status": "completed"
    },
    "tags": []
   },
   "outputs": [],
   "source": [
    "#y_pred = (y_pred_ref + y_gnb_prob_test[:,1] + y_knn_prob_test[:,1] + y_XGB_prob_test[:,1] + y_logreg_prob_test[:,1])/5"
   ]
  },
  {
   "cell_type": "code",
   "execution_count": 77,
   "id": "3ac98709",
   "metadata": {
    "execution": {
     "iopub.execute_input": "2021-11-20T00:42:57.936555Z",
     "iopub.status.busy": "2021-11-20T00:42:57.935783Z",
     "iopub.status.idle": "2021-11-20T00:42:59.901316Z",
     "shell.execute_reply": "2021-11-20T00:42:59.900689Z",
     "shell.execute_reply.started": "2021-11-20T00:20:29.270866Z"
    },
    "papermill": {
     "duration": 2.078978,
     "end_time": "2021-11-20T00:42:59.901531",
     "exception": false,
     "start_time": "2021-11-20T00:42:57.822553",
     "status": "completed"
    },
    "tags": []
   },
   "outputs": [
    {
     "data": {
      "text/html": [
       "<div>\n",
       "<style scoped>\n",
       "    .dataframe tbody tr th:only-of-type {\n",
       "        vertical-align: middle;\n",
       "    }\n",
       "\n",
       "    .dataframe tbody tr th {\n",
       "        vertical-align: top;\n",
       "    }\n",
       "\n",
       "    .dataframe thead th {\n",
       "        text-align: right;\n",
       "    }\n",
       "</style>\n",
       "<table border=\"1\" class=\"dataframe\">\n",
       "  <thead>\n",
       "    <tr style=\"text-align: right;\">\n",
       "      <th></th>\n",
       "      <th>id</th>\n",
       "      <th>target</th>\n",
       "    </tr>\n",
       "  </thead>\n",
       "  <tbody>\n",
       "    <tr>\n",
       "      <th>0</th>\n",
       "      <td>600000</td>\n",
       "      <td>0.783925</td>\n",
       "    </tr>\n",
       "    <tr>\n",
       "      <th>1</th>\n",
       "      <td>600001</td>\n",
       "      <td>0.556811</td>\n",
       "    </tr>\n",
       "    <tr>\n",
       "      <th>2</th>\n",
       "      <td>600002</td>\n",
       "      <td>0.714864</td>\n",
       "    </tr>\n",
       "    <tr>\n",
       "      <th>3</th>\n",
       "      <td>600003</td>\n",
       "      <td>0.294590</td>\n",
       "    </tr>\n",
       "    <tr>\n",
       "      <th>4</th>\n",
       "      <td>600004</td>\n",
       "      <td>0.724922</td>\n",
       "    </tr>\n",
       "  </tbody>\n",
       "</table>\n",
       "</div>"
      ],
      "text/plain": [
       "       id    target\n",
       "0  600000  0.783925\n",
       "1  600001  0.556811\n",
       "2  600002  0.714864\n",
       "3  600003  0.294590\n",
       "4  600004  0.724922"
      ]
     },
     "execution_count": 77,
     "metadata": {},
     "output_type": "execute_result"
    }
   ],
   "source": [
    "sub_df = pd.read_csv(\"../input/tabular-playground-series-nov-2021/sample_submission.csv\")\n",
    "sub_df['target'] = y_pred\n",
    "sub_df.to_csv(\"submission.csv\", index=False)\n",
    "sub_df.head()"
   ]
  },
  {
   "cell_type": "code",
   "execution_count": null,
   "id": "c7be614e",
   "metadata": {
    "papermill": {
     "duration": 0.10477,
     "end_time": "2021-11-20T00:43:00.111672",
     "exception": false,
     "start_time": "2021-11-20T00:43:00.006902",
     "status": "completed"
    },
    "tags": []
   },
   "outputs": [],
   "source": []
  }
 ],
 "metadata": {
  "kernelspec": {
   "display_name": "Python 3",
   "language": "python",
   "name": "python3"
  },
  "language_info": {
   "codemirror_mode": {
    "name": "ipython",
    "version": 3
   },
   "file_extension": ".py",
   "mimetype": "text/x-python",
   "name": "python",
   "nbconvert_exporter": "python",
   "pygments_lexer": "ipython3",
   "version": "3.7.10"
  },
  "papermill": {
   "default_parameters": {},
   "duration": 461.301874,
   "end_time": "2021-11-20T00:43:04.008973",
   "environment_variables": {},
   "exception": null,
   "input_path": "__notebook__.ipynb",
   "output_path": "__notebook__.ipynb",
   "parameters": {},
   "start_time": "2021-11-20T00:35:22.707099",
   "version": "2.3.3"
  }
 },
 "nbformat": 4,
 "nbformat_minor": 5
}
