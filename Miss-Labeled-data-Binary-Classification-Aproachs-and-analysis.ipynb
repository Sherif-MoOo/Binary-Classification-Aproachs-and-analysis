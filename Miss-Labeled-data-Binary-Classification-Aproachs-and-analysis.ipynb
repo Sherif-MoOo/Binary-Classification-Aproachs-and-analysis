{
 "cells": [
  {
   "cell_type": "code",
   "execution_count": 1,
   "id": "c1c21651",
   "metadata": {
    "_cell_guid": "b1076dfc-b9ad-4769-8c92-a6c4dae69d19",
    "_uuid": "8f2839f25d086af736a60e9eeb907d3b93b6e0e5",
    "execution": {
     "iopub.execute_input": "2021-11-23T04:39:17.446248Z",
     "iopub.status.busy": "2021-11-23T04:39:17.444631Z",
     "iopub.status.idle": "2021-11-23T04:39:21.504192Z",
     "shell.execute_reply": "2021-11-23T04:39:21.504668Z",
     "shell.execute_reply.started": "2021-11-23T04:27:13.749441Z"
    },
    "papermill": {
     "duration": 4.105916,
     "end_time": "2021-11-23T04:39:21.504997",
     "exception": false,
     "start_time": "2021-11-23T04:39:17.399081",
     "status": "completed"
    },
    "tags": []
   },
   "outputs": [
    {
     "name": "stdout",
     "output_type": "stream",
     "text": [
      "/kaggle/input/november21/Pure.csv\n",
      "/kaggle/input/tabular-playground-series-nov-2021/sample_submission.csv\n",
      "/kaggle/input/tabular-playground-series-nov-2021/train.csv\n",
      "/kaggle/input/tabular-playground-series-nov-2021/test.csv\n"
     ]
    }
   ],
   "source": [
    "# This Python 3 environment comes with many helpful analytics libraries installed\n",
    "# It is defined by the kaggle/python Docker image: https://github.com/kaggle/docker-python\n",
    "# For example, here's several helpful packages to load\n",
    "\n",
    "import numpy as np # linear algebra\n",
    "import pandas as pd # data processing, CSV file I/O (e.g. pd.read_csv)\n",
    "\n",
    "# Input data files are available in the read-only \"../input/\" directory\n",
    "# For example, running this (by clicking run or pressing Shift+Enter) will list all files under the input directory\n",
    "\n",
    "import os\n",
    "for dirname, _, filenames in os.walk('/kaggle/input'):\n",
    "    for filename in filenames:\n",
    "        print(os.path.join(dirname, filename))\n",
    "\n",
    "# You can write up to 20GB to the current directory (/kaggle/working/) that gets preserved as output when you create a version using \"Save & Run All\" \n",
    "# You can also write temporary files to /kaggle/temp/, but they won't be saved outside of the current session\n",
    "\n",
    "import seaborn as sns\n",
    "import matplotlib.pyplot as plt\n",
    "from sklearn.model_selection import train_test_split\n",
    "import matplotlib.style as style\n",
    "import matplotlib.gridspec as gridspec\n",
    "from scipy import stats\n",
    "from xgboost import XGBClassifier\n",
    "from sklearn.metrics import roc_curve,RocCurveDisplay,ConfusionMatrixDisplay,confusion_matrix,roc_auc_score,accuracy_score\n",
    "from datetime import datetime\n",
    "from sklearn.model_selection import RandomizedSearchCV, GridSearchCV\n",
    "from sklearn.model_selection import StratifiedKFold\n",
    "from sklearn.linear_model import LogisticRegression\n",
    "from cuml.neighbors import KNeighborsClassifier, NearestNeighbors\n",
    "from sklearn import metrics"
   ]
  },
  {
   "cell_type": "code",
   "execution_count": 2,
   "id": "776bac14",
   "metadata": {
    "execution": {
     "iopub.execute_input": "2021-11-23T04:39:21.596286Z",
     "iopub.status.busy": "2021-11-23T04:39:21.595604Z",
     "iopub.status.idle": "2021-11-23T04:40:02.062647Z",
     "shell.execute_reply": "2021-11-23T04:40:02.061729Z",
     "shell.execute_reply.started": "2021-11-23T04:27:17.687215Z"
    },
    "papermill": {
     "duration": 40.512271,
     "end_time": "2021-11-23T04:40:02.062797",
     "exception": false,
     "start_time": "2021-11-23T04:39:21.550526",
     "status": "completed"
    },
    "tags": []
   },
   "outputs": [],
   "source": [
    "df_train = pd.read_csv('../input/november21/Pure.csv')\n",
    "df_MissL = pd.read_csv('../input/tabular-playground-series-nov-2021/train.csv')\n",
    "df_test = pd.read_csv(\"../input/tabular-playground-series-nov-2021/test.csv\")"
   ]
  },
  {
   "cell_type": "markdown",
   "id": "bcc8ef98",
   "metadata": {
    "papermill": {
     "duration": 0.040242,
     "end_time": "2021-11-23T04:40:02.144608",
     "exception": false,
     "start_time": "2021-11-23T04:40:02.104366",
     "status": "completed"
    },
    "tags": []
   },
   "source": [
    "# EDA"
   ]
  },
  {
   "cell_type": "markdown",
   "id": "25e09119",
   "metadata": {
    "papermill": {
     "duration": 0.040536,
     "end_time": "2021-11-23T04:40:02.226155",
     "exception": false,
     "start_time": "2021-11-23T04:40:02.185619",
     "status": "completed"
    },
    "tags": []
   },
   "source": [
    "> # It's better to reduce memory"
   ]
  },
  {
   "cell_type": "code",
   "execution_count": 3,
   "id": "12526026",
   "metadata": {
    "execution": {
     "iopub.execute_input": "2021-11-23T04:40:02.329593Z",
     "iopub.status.busy": "2021-11-23T04:40:02.328631Z",
     "iopub.status.idle": "2021-11-23T04:40:02.335418Z",
     "shell.execute_reply": "2021-11-23T04:40:02.334741Z",
     "shell.execute_reply.started": "2021-11-23T04:27:58.842039Z"
    },
    "papermill": {
     "duration": 0.069051,
     "end_time": "2021-11-23T04:40:02.335575",
     "exception": false,
     "start_time": "2021-11-23T04:40:02.266524",
     "status": "completed"
    },
    "tags": []
   },
   "outputs": [
    {
     "name": "stdout",
     "output_type": "stream",
     "text": [
      "<class 'pandas.core.frame.DataFrame'>\n",
      "RangeIndex: 600000 entries, 0 to 599999\n",
      "Columns: 102 entries, id to target\n",
      "dtypes: float64(100), int64(2)\n",
      "memory usage: 466.9 MB\n"
     ]
    }
   ],
   "source": [
    "df_train.info() "
   ]
  },
  {
   "cell_type": "code",
   "execution_count": 4,
   "id": "487d60f1",
   "metadata": {
    "execution": {
     "iopub.execute_input": "2021-11-23T04:40:02.479722Z",
     "iopub.status.busy": "2021-11-23T04:40:02.478870Z",
     "iopub.status.idle": "2021-11-23T04:40:23.548284Z",
     "shell.execute_reply": "2021-11-23T04:40:23.549169Z",
     "shell.execute_reply.started": "2021-11-23T04:27:58.872886Z"
    },
    "papermill": {
     "duration": 21.171868,
     "end_time": "2021-11-23T04:40:23.549384",
     "exception": false,
     "start_time": "2021-11-23T04:40:02.377516",
     "status": "completed"
    },
    "tags": []
   },
   "outputs": [
    {
     "name": "stdout",
     "output_type": "stream",
     "text": [
      "Mem. usage decreased to 231.74 Mb (50.4% reduction)\n",
      "Mem. usage decreased to 231.74 Mb (50.4% reduction)\n",
      "Mem. usage decreased to 208.05 Mb (50.0% reduction)\n"
     ]
    }
   ],
   "source": [
    "def reduce_mem_usage(df, verbose=True):\n",
    "    numerics = ['int16', 'int32', 'int64', 'float16', 'float32', 'float64']\n",
    "    start_mem = df.memory_usage().sum() / 1024**2    \n",
    "    for col in df.columns:\n",
    "        col_type = df[col].dtypes\n",
    "        if col_type in numerics:\n",
    "            c_min = df[col].min()\n",
    "            c_max = df[col].max()\n",
    "            if str(col_type)[:3] == 'int':\n",
    "                if c_min > np.iinfo(np.int8).min and c_max < np.iinfo(np.int8).max:\n",
    "                    df[col] = df[col].astype(np.int8)\n",
    "                elif c_min > np.iinfo(np.int16).min and c_max < np.iinfo(np.int16).max:\n",
    "                    df[col] = df[col].astype(np.int16)\n",
    "                elif c_min > np.iinfo(np.int32).min and c_max < np.iinfo(np.int32).max:\n",
    "                    df[col] = df[col].astype(np.int32)\n",
    "                elif c_min > np.iinfo(np.int64).min and c_max < np.iinfo(np.int64).max:\n",
    "                    df[col] = df[col].astype(np.int64)  \n",
    "            else:\n",
    "                if c_min > np.finfo(np.float32).min and c_max < np.finfo(np.float32).max:\n",
    "                    df[col] = df[col].astype(np.float32)\n",
    "                else:\n",
    "                    df[col] = df[col].astype(np.float64)    \n",
    "    end_mem = df.memory_usage().sum() / 1024**2\n",
    "    if verbose: print('Mem. usage decreased to {:5.2f} Mb ({:.1f}% reduction)'.format(end_mem, 100 * (start_mem - end_mem) / start_mem))\n",
    "    return df\n",
    "df_train = reduce_mem_usage(df_train)\n",
    "df_MissL = reduce_mem_usage(df_MissL)\n",
    "df_test = reduce_mem_usage(df_test)"
   ]
  },
  {
   "cell_type": "code",
   "execution_count": 5,
   "id": "05a1bffb",
   "metadata": {
    "execution": {
     "iopub.execute_input": "2021-11-23T04:40:23.638274Z",
     "iopub.status.busy": "2021-11-23T04:40:23.637297Z",
     "iopub.status.idle": "2021-11-23T04:40:23.743173Z",
     "shell.execute_reply": "2021-11-23T04:40:23.743567Z",
     "shell.execute_reply.started": "2021-11-23T04:28:20.008994Z"
    },
    "papermill": {
     "duration": 0.15121,
     "end_time": "2021-11-23T04:40:23.743709",
     "exception": false,
     "start_time": "2021-11-23T04:40:23.592499",
     "status": "completed"
    },
    "tags": []
   },
   "outputs": [
    {
     "data": {
      "text/plain": [
       "0"
      ]
     },
     "execution_count": 5,
     "metadata": {},
     "output_type": "execute_result"
    }
   ],
   "source": [
    "df_train.isnull().sum().sum() #No null values"
   ]
  },
  {
   "cell_type": "code",
   "execution_count": 6,
   "id": "099982ba",
   "metadata": {
    "execution": {
     "iopub.execute_input": "2021-11-23T04:40:23.833239Z",
     "iopub.status.busy": "2021-11-23T04:40:23.832501Z",
     "iopub.status.idle": "2021-11-23T04:40:28.722590Z",
     "shell.execute_reply": "2021-11-23T04:40:28.723105Z",
     "shell.execute_reply.started": "2021-11-23T04:28:20.125199Z"
    },
    "papermill": {
     "duration": 4.937688,
     "end_time": "2021-11-23T04:40:28.723299",
     "exception": false,
     "start_time": "2021-11-23T04:40:23.785611",
     "status": "completed"
    },
    "tags": []
   },
   "outputs": [
    {
     "data": {
      "text/html": [
       "<div>\n",
       "<style scoped>\n",
       "    .dataframe tbody tr th:only-of-type {\n",
       "        vertical-align: middle;\n",
       "    }\n",
       "\n",
       "    .dataframe tbody tr th {\n",
       "        vertical-align: top;\n",
       "    }\n",
       "\n",
       "    .dataframe thead th {\n",
       "        text-align: right;\n",
       "    }\n",
       "</style>\n",
       "<table border=\"1\" class=\"dataframe\">\n",
       "  <thead>\n",
       "    <tr style=\"text-align: right;\">\n",
       "      <th></th>\n",
       "      <th>id</th>\n",
       "      <th>f0</th>\n",
       "      <th>f1</th>\n",
       "      <th>f2</th>\n",
       "      <th>f3</th>\n",
       "      <th>f4</th>\n",
       "      <th>f5</th>\n",
       "      <th>f6</th>\n",
       "      <th>f7</th>\n",
       "      <th>f8</th>\n",
       "      <th>...</th>\n",
       "      <th>f91</th>\n",
       "      <th>f92</th>\n",
       "      <th>f93</th>\n",
       "      <th>f94</th>\n",
       "      <th>f95</th>\n",
       "      <th>f96</th>\n",
       "      <th>f97</th>\n",
       "      <th>f98</th>\n",
       "      <th>f99</th>\n",
       "      <th>target</th>\n",
       "    </tr>\n",
       "  </thead>\n",
       "  <tbody>\n",
       "  </tbody>\n",
       "</table>\n",
       "<p>0 rows × 102 columns</p>\n",
       "</div>"
      ],
      "text/plain": [
       "Empty DataFrame\n",
       "Columns: [id, f0, f1, f2, f3, f4, f5, f6, f7, f8, f9, f10, f11, f12, f13, f14, f15, f16, f17, f18, f19, f20, f21, f22, f23, f24, f25, f26, f27, f28, f29, f30, f31, f32, f33, f34, f35, f36, f37, f38, f39, f40, f41, f42, f43, f44, f45, f46, f47, f48, f49, f50, f51, f52, f53, f54, f55, f56, f57, f58, f59, f60, f61, f62, f63, f64, f65, f66, f67, f68, f69, f70, f71, f72, f73, f74, f75, f76, f77, f78, f79, f80, f81, f82, f83, f84, f85, f86, f87, f88, f89, f90, f91, f92, f93, f94, f95, f96, f97, f98, ...]\n",
       "Index: []\n",
       "\n",
       "[0 rows x 102 columns]"
      ]
     },
     "execution_count": 6,
     "metadata": {},
     "output_type": "execute_result"
    }
   ],
   "source": [
    "#checking for duplicated rows \n",
    "check = pd.DataFrame(df_train,columns=df_train.columns)\n",
    "duplicate = check[check.duplicated(keep='last')]  \n",
    "duplicate"
   ]
  },
  {
   "cell_type": "code",
   "execution_count": 7,
   "id": "e92108ad",
   "metadata": {
    "execution": {
     "iopub.execute_input": "2021-11-23T04:40:28.820267Z",
     "iopub.status.busy": "2021-11-23T04:40:28.819527Z",
     "iopub.status.idle": "2021-11-23T04:40:30.562058Z",
     "shell.execute_reply": "2021-11-23T04:40:30.562513Z",
     "shell.execute_reply.started": "2021-11-23T04:28:25.284169Z"
    },
    "papermill": {
     "duration": 1.793296,
     "end_time": "2021-11-23T04:40:30.562675",
     "exception": false,
     "start_time": "2021-11-23T04:40:28.769379",
     "status": "completed"
    },
    "tags": []
   },
   "outputs": [
    {
     "name": "stdout",
     "output_type": "stream",
     "text": [
      " \n",
      "id is cont\n",
      " \n",
      "f0 is cont\n",
      " \n",
      "f1 is cont\n",
      " \n",
      "f2 is cont\n",
      " \n",
      "f3 is cont\n",
      " \n",
      "f4 is cont\n",
      " \n",
      "f5 is cont\n",
      " \n",
      "f6 is cont\n",
      " \n",
      "f7 is cont\n",
      " \n",
      "f8 is cont\n",
      " \n",
      "f9 is cont\n",
      " \n",
      "f10 is cont\n",
      " \n",
      "f11 is cont\n",
      " \n",
      "f12 is cont\n",
      " \n",
      "f13 is cont\n",
      " \n",
      "f14 is cont\n",
      " \n",
      "f15 is cont\n",
      " \n",
      "f16 is cont\n",
      " \n",
      "f17 is cont\n",
      " \n",
      "f18 is cont\n",
      " \n",
      "f19 is cont\n",
      " \n",
      "f20 is cont\n",
      " \n",
      "f21 is cont\n",
      " \n",
      "f22 is cont\n",
      " \n",
      "f23 is cont\n",
      " \n",
      "f24 is cont\n",
      " \n",
      "f25 is cont\n",
      " \n",
      "f26 is cont\n",
      " \n",
      "f27 is cont\n",
      " \n",
      "f28 is cont\n",
      " \n",
      "f29 is cont\n",
      " \n",
      "f30 is cont\n",
      " \n",
      "f31 is cont\n",
      " \n",
      "f32 is cont\n",
      " \n",
      "f33 is cont\n",
      " \n",
      "f34 is cont\n",
      " \n",
      "f35 is cont\n",
      " \n",
      "f36 is cont\n",
      " \n",
      "f37 is cont\n",
      " \n",
      "f38 is cont\n",
      " \n",
      "f39 is cont\n",
      " \n",
      "f40 is cont\n",
      " \n",
      "f41 is cont\n",
      " \n",
      "f42 is cont\n",
      " \n",
      "f43 is cont\n",
      " \n",
      "f44 is cont\n",
      " \n",
      "f45 is cont\n",
      " \n",
      "f46 is cont\n",
      " \n",
      "f47 is cont\n",
      " \n",
      "f48 is cont\n",
      " \n",
      "f49 is cont\n",
      " \n",
      "f50 is cont\n",
      " \n",
      "f51 is cont\n",
      " \n",
      "f52 is cont\n",
      " \n",
      "f53 is cont\n",
      " \n",
      "f54 is cont\n",
      " \n",
      "f55 is cont\n",
      " \n",
      "f56 is cont\n",
      " \n",
      "f57 is cont\n",
      " \n",
      "f58 is cont\n",
      " \n",
      "f59 is cont\n",
      " \n",
      "f60 is cont\n",
      " \n",
      "f61 is cont\n",
      " \n",
      "f62 is cont\n",
      " \n",
      "f63 is cont\n",
      " \n",
      "f64 is cont\n",
      " \n",
      "f65 is cont\n",
      " \n",
      "f66 is cont\n",
      " \n",
      "f67 is cont\n",
      " \n",
      "f68 is cont\n",
      " \n",
      "f69 is cont\n",
      " \n",
      "f70 is cont\n",
      " \n",
      "f71 is cont\n",
      " \n",
      "f72 is cont\n",
      " \n",
      "f73 is cont\n",
      " \n",
      "f74 is cont\n",
      " \n",
      "f75 is cont\n",
      " \n",
      "f76 is cont\n",
      " \n",
      "f77 is cont\n",
      " \n",
      "f78 is cont\n",
      " \n",
      "f79 is cont\n",
      " \n",
      "f80 is cont\n",
      " \n",
      "f81 is cont\n",
      " \n",
      "f82 is cont\n",
      " \n",
      "f83 is cont\n",
      " \n",
      "f84 is cont\n",
      " \n",
      "f85 is cont\n",
      " \n",
      "f86 is cont\n",
      " \n",
      "f87 is cont\n",
      " \n",
      "f88 is cont\n",
      " \n",
      "f89 is cont\n",
      " \n",
      "f90 is cont\n",
      " \n",
      "f91 is cont\n",
      " \n",
      "f92 is cont\n",
      " \n",
      "f93 is cont\n",
      " \n",
      "f94 is cont\n",
      " \n",
      "f95 is cont\n",
      " \n",
      "f96 is cont\n",
      " \n",
      "f97 is cont\n",
      " \n",
      "f98 is cont\n",
      " \n",
      "f99 is cont\n",
      " \n",
      "target:2\n",
      "[0 1]\n"
     ]
    }
   ],
   "source": [
    "#Checking for discreate and cont values\n",
    "def Unique_features(df):\n",
    "    Columns = df.columns\n",
    "    for c in Columns:\n",
    "        Uni = df[c].unique()\n",
    "        if len(Uni) <= round(df.shape[0]*0.5):\n",
    "            print(' ')\n",
    "            print (c +':' +str(len(df[c].unique())))\n",
    "            print (Uni)\n",
    "        else:\n",
    "            print(' ')\n",
    "            print(str(c) + ' is cont')\n",
    "Unique_features(df_train)  "
   ]
  },
  {
   "cell_type": "code",
   "execution_count": 8,
   "id": "f1ea2bf1",
   "metadata": {
    "execution": {
     "iopub.execute_input": "2021-11-23T04:40:30.676594Z",
     "iopub.status.busy": "2021-11-23T04:40:30.675292Z",
     "iopub.status.idle": "2021-11-23T04:40:32.973791Z",
     "shell.execute_reply": "2021-11-23T04:40:32.974419Z",
     "shell.execute_reply.started": "2021-11-23T04:28:27.063191Z"
    },
    "papermill": {
     "duration": 2.366174,
     "end_time": "2021-11-23T04:40:32.974593",
     "exception": false,
     "start_time": "2021-11-23T04:40:30.608419",
     "status": "completed"
    },
    "tags": []
   },
   "outputs": [
    {
     "data": {
      "text/html": [
       "<div>\n",
       "<style scoped>\n",
       "    .dataframe tbody tr th:only-of-type {\n",
       "        vertical-align: middle;\n",
       "    }\n",
       "\n",
       "    .dataframe tbody tr th {\n",
       "        vertical-align: top;\n",
       "    }\n",
       "\n",
       "    .dataframe thead th {\n",
       "        text-align: right;\n",
       "    }\n",
       "</style>\n",
       "<table border=\"1\" class=\"dataframe\">\n",
       "  <thead>\n",
       "    <tr style=\"text-align: right;\">\n",
       "      <th></th>\n",
       "      <th>id</th>\n",
       "      <th>f0</th>\n",
       "      <th>f1</th>\n",
       "      <th>f2</th>\n",
       "      <th>f3</th>\n",
       "      <th>f4</th>\n",
       "      <th>f5</th>\n",
       "      <th>f6</th>\n",
       "      <th>f7</th>\n",
       "      <th>f8</th>\n",
       "      <th>...</th>\n",
       "      <th>f91</th>\n",
       "      <th>f92</th>\n",
       "      <th>f93</th>\n",
       "      <th>f94</th>\n",
       "      <th>f95</th>\n",
       "      <th>f96</th>\n",
       "      <th>f97</th>\n",
       "      <th>f98</th>\n",
       "      <th>f99</th>\n",
       "      <th>target</th>\n",
       "    </tr>\n",
       "  </thead>\n",
       "  <tbody>\n",
       "    <tr>\n",
       "      <th>count</th>\n",
       "      <td>600000.000000</td>\n",
       "      <td>600000.000000</td>\n",
       "      <td>600000.000000</td>\n",
       "      <td>600000.000000</td>\n",
       "      <td>600000.000000</td>\n",
       "      <td>600000.000000</td>\n",
       "      <td>600000.000000</td>\n",
       "      <td>600000.000000</td>\n",
       "      <td>600000.000000</td>\n",
       "      <td>600000.000000</td>\n",
       "      <td>...</td>\n",
       "      <td>600000.000000</td>\n",
       "      <td>600000.000000</td>\n",
       "      <td>600000.000000</td>\n",
       "      <td>600000.000000</td>\n",
       "      <td>600000.000000</td>\n",
       "      <td>600000.000000</td>\n",
       "      <td>600000.000000</td>\n",
       "      <td>600000.000000</td>\n",
       "      <td>600000.000000</td>\n",
       "      <td>600000.000000</td>\n",
       "    </tr>\n",
       "    <tr>\n",
       "      <th>mean</th>\n",
       "      <td>299999.500000</td>\n",
       "      <td>0.306512</td>\n",
       "      <td>2.497594</td>\n",
       "      <td>306.640411</td>\n",
       "      <td>2.647901</td>\n",
       "      <td>0.177850</td>\n",
       "      <td>2.556831</td>\n",
       "      <td>2.699653</td>\n",
       "      <td>2.571597</td>\n",
       "      <td>2.538332</td>\n",
       "      <td>...</td>\n",
       "      <td>2.444480</td>\n",
       "      <td>0.155260</td>\n",
       "      <td>0.059406</td>\n",
       "      <td>0.144932</td>\n",
       "      <td>0.106420</td>\n",
       "      <td>2.547832</td>\n",
       "      <td>2.590189</td>\n",
       "      <td>0.158881</td>\n",
       "      <td>0.123050</td>\n",
       "      <td>0.512903</td>\n",
       "    </tr>\n",
       "    <tr>\n",
       "      <th>std</th>\n",
       "      <td>173205.225094</td>\n",
       "      <td>0.522419</td>\n",
       "      <td>1.553887</td>\n",
       "      <td>551.701843</td>\n",
       "      <td>1.544408</td>\n",
       "      <td>0.417466</td>\n",
       "      <td>1.562393</td>\n",
       "      <td>1.563862</td>\n",
       "      <td>1.549217</td>\n",
       "      <td>1.532848</td>\n",
       "      <td>...</td>\n",
       "      <td>1.542386</td>\n",
       "      <td>0.548227</td>\n",
       "      <td>0.119386</td>\n",
       "      <td>0.461895</td>\n",
       "      <td>0.209071</td>\n",
       "      <td>1.558289</td>\n",
       "      <td>1.524971</td>\n",
       "      <td>0.436124</td>\n",
       "      <td>0.264834</td>\n",
       "      <td>0.499834</td>\n",
       "    </tr>\n",
       "    <tr>\n",
       "      <th>min</th>\n",
       "      <td>0.000000</td>\n",
       "      <td>-3.797450</td>\n",
       "      <td>-1.223960</td>\n",
       "      <td>-1842.530029</td>\n",
       "      <td>-1.368560</td>\n",
       "      <td>-3.206210</td>\n",
       "      <td>-1.169770</td>\n",
       "      <td>-1.059310</td>\n",
       "      <td>-1.281970</td>\n",
       "      <td>-1.242020</td>\n",
       "      <td>...</td>\n",
       "      <td>-1.217700</td>\n",
       "      <td>-9.761770</td>\n",
       "      <td>-4.666240</td>\n",
       "      <td>-3.101500</td>\n",
       "      <td>-1.276540</td>\n",
       "      <td>-1.584740</td>\n",
       "      <td>-1.254730</td>\n",
       "      <td>-3.993500</td>\n",
       "      <td>-2.783380</td>\n",
       "      <td>0.000000</td>\n",
       "    </tr>\n",
       "    <tr>\n",
       "      <th>25%</th>\n",
       "      <td>149999.750000</td>\n",
       "      <td>0.026222</td>\n",
       "      <td>1.186237</td>\n",
       "      <td>43.573400</td>\n",
       "      <td>1.442027</td>\n",
       "      <td>0.019709</td>\n",
       "      <td>1.261037</td>\n",
       "      <td>1.385820</td>\n",
       "      <td>1.333848</td>\n",
       "      <td>1.292163</td>\n",
       "      <td>...</td>\n",
       "      <td>1.214177</td>\n",
       "      <td>0.018904</td>\n",
       "      <td>0.024483</td>\n",
       "      <td>0.017055</td>\n",
       "      <td>0.025461</td>\n",
       "      <td>1.247887</td>\n",
       "      <td>1.348078</td>\n",
       "      <td>0.013536</td>\n",
       "      <td>0.018105</td>\n",
       "      <td>0.000000</td>\n",
       "    </tr>\n",
       "    <tr>\n",
       "      <th>50%</th>\n",
       "      <td>299999.500000</td>\n",
       "      <td>0.097788</td>\n",
       "      <td>2.516500</td>\n",
       "      <td>133.626007</td>\n",
       "      <td>2.634130</td>\n",
       "      <td>0.061586</td>\n",
       "      <td>2.590425</td>\n",
       "      <td>2.801255</td>\n",
       "      <td>2.557985</td>\n",
       "      <td>2.475880</td>\n",
       "      <td>...</td>\n",
       "      <td>2.386845</td>\n",
       "      <td>0.068906</td>\n",
       "      <td>0.056649</td>\n",
       "      <td>0.063439</td>\n",
       "      <td>0.062151</td>\n",
       "      <td>2.601940</td>\n",
       "      <td>2.682090</td>\n",
       "      <td>0.058058</td>\n",
       "      <td>0.058471</td>\n",
       "      <td>1.000000</td>\n",
       "    </tr>\n",
       "    <tr>\n",
       "      <th>75%</th>\n",
       "      <td>449999.250000</td>\n",
       "      <td>0.397184</td>\n",
       "      <td>3.787630</td>\n",
       "      <td>302.262238</td>\n",
       "      <td>3.907640</td>\n",
       "      <td>0.112712</td>\n",
       "      <td>3.813662</td>\n",
       "      <td>3.996913</td>\n",
       "      <td>3.823450</td>\n",
       "      <td>3.804360</td>\n",
       "      <td>...</td>\n",
       "      <td>3.693873</td>\n",
       "      <td>0.125165</td>\n",
       "      <td>0.088162</td>\n",
       "      <td>0.113114</td>\n",
       "      <td>0.102016</td>\n",
       "      <td>3.820665</td>\n",
       "      <td>3.839520</td>\n",
       "      <td>0.110718</td>\n",
       "      <td>0.104872</td>\n",
       "      <td>1.000000</td>\n",
       "    </tr>\n",
       "    <tr>\n",
       "      <th>max</th>\n",
       "      <td>599999.000000</td>\n",
       "      <td>8.781500</td>\n",
       "      <td>6.226720</td>\n",
       "      <td>6119.279785</td>\n",
       "      <td>6.521150</td>\n",
       "      <td>8.265470</td>\n",
       "      <td>6.515070</td>\n",
       "      <td>6.586780</td>\n",
       "      <td>6.258770</td>\n",
       "      <td>6.389670</td>\n",
       "      <td>...</td>\n",
       "      <td>6.573890</td>\n",
       "      <td>18.412800</td>\n",
       "      <td>10.211800</td>\n",
       "      <td>8.623270</td>\n",
       "      <td>3.657220</td>\n",
       "      <td>6.254360</td>\n",
       "      <td>6.145300</td>\n",
       "      <td>10.767000</td>\n",
       "      <td>5.988110</td>\n",
       "      <td>1.000000</td>\n",
       "    </tr>\n",
       "  </tbody>\n",
       "</table>\n",
       "<p>8 rows × 102 columns</p>\n",
       "</div>"
      ],
      "text/plain": [
       "                  id             f0             f1             f2  \\\n",
       "count  600000.000000  600000.000000  600000.000000  600000.000000   \n",
       "mean   299999.500000       0.306512       2.497594     306.640411   \n",
       "std    173205.225094       0.522419       1.553887     551.701843   \n",
       "min         0.000000      -3.797450      -1.223960   -1842.530029   \n",
       "25%    149999.750000       0.026222       1.186237      43.573400   \n",
       "50%    299999.500000       0.097788       2.516500     133.626007   \n",
       "75%    449999.250000       0.397184       3.787630     302.262238   \n",
       "max    599999.000000       8.781500       6.226720    6119.279785   \n",
       "\n",
       "                  f3             f4             f5             f6  \\\n",
       "count  600000.000000  600000.000000  600000.000000  600000.000000   \n",
       "mean        2.647901       0.177850       2.556831       2.699653   \n",
       "std         1.544408       0.417466       1.562393       1.563862   \n",
       "min        -1.368560      -3.206210      -1.169770      -1.059310   \n",
       "25%         1.442027       0.019709       1.261037       1.385820   \n",
       "50%         2.634130       0.061586       2.590425       2.801255   \n",
       "75%         3.907640       0.112712       3.813662       3.996913   \n",
       "max         6.521150       8.265470       6.515070       6.586780   \n",
       "\n",
       "                  f7             f8  ...            f91            f92  \\\n",
       "count  600000.000000  600000.000000  ...  600000.000000  600000.000000   \n",
       "mean        2.571597       2.538332  ...       2.444480       0.155260   \n",
       "std         1.549217       1.532848  ...       1.542386       0.548227   \n",
       "min        -1.281970      -1.242020  ...      -1.217700      -9.761770   \n",
       "25%         1.333848       1.292163  ...       1.214177       0.018904   \n",
       "50%         2.557985       2.475880  ...       2.386845       0.068906   \n",
       "75%         3.823450       3.804360  ...       3.693873       0.125165   \n",
       "max         6.258770       6.389670  ...       6.573890      18.412800   \n",
       "\n",
       "                 f93            f94            f95            f96  \\\n",
       "count  600000.000000  600000.000000  600000.000000  600000.000000   \n",
       "mean        0.059406       0.144932       0.106420       2.547832   \n",
       "std         0.119386       0.461895       0.209071       1.558289   \n",
       "min        -4.666240      -3.101500      -1.276540      -1.584740   \n",
       "25%         0.024483       0.017055       0.025461       1.247887   \n",
       "50%         0.056649       0.063439       0.062151       2.601940   \n",
       "75%         0.088162       0.113114       0.102016       3.820665   \n",
       "max        10.211800       8.623270       3.657220       6.254360   \n",
       "\n",
       "                 f97            f98            f99         target  \n",
       "count  600000.000000  600000.000000  600000.000000  600000.000000  \n",
       "mean        2.590189       0.158881       0.123050       0.512903  \n",
       "std         1.524971       0.436124       0.264834       0.499834  \n",
       "min        -1.254730      -3.993500      -2.783380       0.000000  \n",
       "25%         1.348078       0.013536       0.018105       0.000000  \n",
       "50%         2.682090       0.058058       0.058471       1.000000  \n",
       "75%         3.839520       0.110718       0.104872       1.000000  \n",
       "max         6.145300      10.767000       5.988110       1.000000  \n",
       "\n",
       "[8 rows x 102 columns]"
      ]
     },
     "execution_count": 8,
     "metadata": {},
     "output_type": "execute_result"
    }
   ],
   "source": [
    "df_train.describe()"
   ]
  },
  {
   "cell_type": "code",
   "execution_count": 9,
   "id": "7013c93f",
   "metadata": {
    "execution": {
     "iopub.execute_input": "2021-11-23T04:40:33.073022Z",
     "iopub.status.busy": "2021-11-23T04:40:33.072224Z",
     "iopub.status.idle": "2021-11-23T04:40:33.076611Z",
     "shell.execute_reply": "2021-11-23T04:40:33.077023Z",
     "shell.execute_reply.started": "2021-11-23T04:28:29.155241Z"
    },
    "papermill": {
     "duration": 0.055198,
     "end_time": "2021-11-23T04:40:33.077163",
     "exception": false,
     "start_time": "2021-11-23T04:40:33.021965",
     "status": "completed"
    },
    "tags": []
   },
   "outputs": [
    {
     "name": "stdout",
     "output_type": "stream",
     "text": [
      "I gonna use 15% mislabled data as validation set which equals: 22606\n"
     ]
    }
   ],
   "source": [
    "print ('I gonna use 15% mislabled data as validation set which equals: '+str(round(((df_train['target'] != df_MissL['target']).sum()/df_train.shape[0])*df_train.shape[0]*0.15)))"
   ]
  },
  {
   "cell_type": "code",
   "execution_count": 10,
   "id": "bdc9b559",
   "metadata": {
    "execution": {
     "iopub.execute_input": "2021-11-23T04:40:33.172632Z",
     "iopub.status.busy": "2021-11-23T04:40:33.171783Z",
     "iopub.status.idle": "2021-11-23T04:40:33.364937Z",
     "shell.execute_reply": "2021-11-23T04:40:33.364220Z",
     "shell.execute_reply.started": "2021-11-23T04:28:29.165467Z"
    },
    "papermill": {
     "duration": 0.241838,
     "end_time": "2021-11-23T04:40:33.365068",
     "exception": false,
     "start_time": "2021-11-23T04:40:33.123230",
     "status": "completed"
    },
    "tags": []
   },
   "outputs": [],
   "source": [
    "Miss_Labeled = df_MissL[df_train['target'] != df_MissL['target']]"
   ]
  },
  {
   "cell_type": "markdown",
   "id": "d4ecdb90",
   "metadata": {
    "papermill": {
     "duration": 0.046626,
     "end_time": "2021-11-23T04:40:33.458687",
     "exception": false,
     "start_time": "2021-11-23T04:40:33.412061",
     "status": "completed"
    },
    "tags": []
   },
   "source": [
    "> # Miss labeled data are balanced"
   ]
  },
  {
   "cell_type": "code",
   "execution_count": 11,
   "id": "3090a414",
   "metadata": {
    "execution": {
     "iopub.execute_input": "2021-11-23T04:40:33.558787Z",
     "iopub.status.busy": "2021-11-23T04:40:33.553798Z",
     "iopub.status.idle": "2021-11-23T04:40:34.436404Z",
     "shell.execute_reply": "2021-11-23T04:40:34.436943Z",
     "shell.execute_reply.started": "2021-11-23T04:28:29.370453Z"
    },
    "papermill": {
     "duration": 0.932048,
     "end_time": "2021-11-23T04:40:34.437098",
     "exception": false,
     "start_time": "2021-11-23T04:40:33.505050",
     "status": "completed"
    },
    "tags": []
   },
   "outputs": [
    {
     "data": {
      "image/png": "[encoded data removed]",
      "text/plain": [
       "<Figure size 432x288 with 1 Axes>"
      ]
     },
     "metadata": {
      "needs_background": "light"
     },
     "output_type": "display_data"
    }
   ],
   "source": [
    "def bar_chart(df,feature):\n",
    "    #Preparing parameters for plot\n",
    "    type_counts = df[feature].value_counts()\n",
    "    type_order = type_counts.index\n",
    "    base_color = sns.color_palette()[0]\n",
    "    n = df_copy[feature].value_counts().sum()\n",
    "    #Plot\n",
    "    sns.countplot(data=df, x= feature, color=base_color, order=type_order);\n",
    "\n",
    "    type_counts = df[feature].value_counts()\n",
    "    \n",
    "    #Labeling\n",
    "    locs, labels = plt.xticks(rotation=90) \n",
    "    for loc, label in zip(locs, labels):\n",
    "        count = type_counts[label.get_text()]\n",
    "        pct_string = '{:0.1f}%'.format(100*count/n)\n",
    "        plt.text(loc, count+2, pct_string, ha = 'center', color = 'black')\n",
    "df_copy = Miss_Labeled.copy()\n",
    "df_copy['target'] = df_train['target'].astype(bool).astype(str)\n",
    "bar_chart(df_copy,'target')   "
   ]
  },
  {
   "cell_type": "code",
   "execution_count": 12,
   "id": "61273057",
   "metadata": {
    "execution": {
     "iopub.execute_input": "2021-11-23T04:40:34.557984Z",
     "iopub.status.busy": "2021-11-23T04:40:34.536859Z",
     "iopub.status.idle": "2021-11-23T04:40:34.704123Z",
     "shell.execute_reply": "2021-11-23T04:40:34.703605Z",
     "shell.execute_reply.started": "2021-11-23T04:28:30.288344Z"
    },
    "papermill": {
     "duration": 0.219739,
     "end_time": "2021-11-23T04:40:34.704267",
     "exception": false,
     "start_time": "2021-11-23T04:40:34.484528",
     "status": "completed"
    },
    "tags": []
   },
   "outputs": [],
   "source": [
    "X_train1, X_valid1, y_train1, y_valid1 = train_test_split(Miss_Labeled.drop(columns = ['target'] , axis = 1), Miss_Labeled['target'], random_state=0, test_size = 0.15,stratify=Miss_Labeled['target'])"
   ]
  },
  {
   "cell_type": "code",
   "execution_count": 13,
   "id": "e6d3d729",
   "metadata": {
    "execution": {
     "iopub.execute_input": "2021-11-23T04:40:34.803537Z",
     "iopub.status.busy": "2021-11-23T04:40:34.802889Z",
     "iopub.status.idle": "2021-11-23T04:40:34.805647Z",
     "shell.execute_reply": "2021-11-23T04:40:34.806078Z",
     "shell.execute_reply.started": "2021-11-23T04:28:30.475461Z"
    },
    "papermill": {
     "duration": 0.055139,
     "end_time": "2021-11-23T04:40:34.806209",
     "exception": false,
     "start_time": "2021-11-23T04:40:34.751070",
     "status": "completed"
    },
    "tags": []
   },
   "outputs": [
    {
     "data": {
      "text/plain": [
       "183257    0\n",
       "162935    0\n",
       "454497    1\n",
       "324405    0\n",
       "556261    0\n",
       "         ..\n",
       "333439    1\n",
       "314405    1\n",
       "242476    0\n",
       "351619    0\n",
       "522141    0\n",
       "Name: target, Length: 128098, dtype: int8"
      ]
     },
     "execution_count": 13,
     "metadata": {},
     "output_type": "execute_result"
    }
   ],
   "source": [
    "y_train1"
   ]
  },
  {
   "cell_type": "code",
   "execution_count": 14,
   "id": "91f4b738",
   "metadata": {
    "execution": {
     "iopub.execute_input": "2021-11-23T04:40:34.904357Z",
     "iopub.status.busy": "2021-11-23T04:40:34.903584Z",
     "iopub.status.idle": "2021-11-23T04:40:34.995175Z",
     "shell.execute_reply": "2021-11-23T04:40:34.994656Z",
     "shell.execute_reply.started": "2021-11-23T04:28:30.487010Z"
    },
    "papermill": {
     "duration": 0.142232,
     "end_time": "2021-11-23T04:40:34.995317",
     "exception": false,
     "start_time": "2021-11-23T04:40:34.853085",
     "status": "completed"
    },
    "tags": []
   },
   "outputs": [],
   "source": [
    "Correct_Labeled = df_train[df_train['target'] == df_MissL['target']]"
   ]
  },
  {
   "cell_type": "code",
   "execution_count": 15,
   "id": "511163c5",
   "metadata": {
    "execution": {
     "iopub.execute_input": "2021-11-23T04:40:35.092462Z",
     "iopub.status.busy": "2021-11-23T04:40:35.091632Z",
     "iopub.status.idle": "2021-11-23T04:40:36.289953Z",
     "shell.execute_reply": "2021-11-23T04:40:36.291072Z",
     "shell.execute_reply.started": "2021-11-23T04:28:30.588177Z"
    },
    "papermill": {
     "duration": 1.248833,
     "end_time": "2021-11-23T04:40:36.291308",
     "exception": false,
     "start_time": "2021-11-23T04:40:35.042475",
     "status": "completed"
    },
    "tags": []
   },
   "outputs": [
    {
     "data": {
      "image/png": "[encoded data removed]",
      "text/plain": [
       "<Figure size 432x288 with 1 Axes>"
      ]
     },
     "metadata": {
      "needs_background": "light"
     },
     "output_type": "display_data"
    }
   ],
   "source": [
    "def bar_chart(df,feature):\n",
    "    #Preparing parameters for plot\n",
    "    type_counts = df[feature].value_counts()\n",
    "    type_order = type_counts.index\n",
    "    base_color = sns.color_palette()[0]\n",
    "    n = df_copy[feature].value_counts().sum()\n",
    "    #Plot\n",
    "    sns.countplot(data=df, x= feature, color=base_color, order=type_order);\n",
    "\n",
    "    type_counts = df[feature].value_counts()\n",
    "    \n",
    "    #Labeling\n",
    "    locs, labels = plt.xticks(rotation=90) \n",
    "    for loc, label in zip(locs, labels):\n",
    "        count = type_counts[label.get_text()]\n",
    "        pct_string = '{:0.1f}%'.format(100*count/n)\n",
    "        plt.text(loc, count+2, pct_string, ha = 'center', color = 'black')\n",
    "df_copy = Correct_Labeled.copy()\n",
    "df_copy['target'] = df_train['target'].astype(bool).astype(str)\n",
    "bar_chart(df_copy,'target')   "
   ]
  },
  {
   "cell_type": "code",
   "execution_count": 16,
   "id": "b14d0e3d",
   "metadata": {
    "execution": {
     "iopub.execute_input": "2021-11-23T04:40:36.459318Z",
     "iopub.status.busy": "2021-11-23T04:40:36.457789Z",
     "iopub.status.idle": "2021-11-23T04:40:36.928885Z",
     "shell.execute_reply": "2021-11-23T04:40:36.927919Z",
     "shell.execute_reply.started": "2021-11-23T04:28:31.801395Z"
    },
    "papermill": {
     "duration": 0.581398,
     "end_time": "2021-11-23T04:40:36.929069",
     "exception": false,
     "start_time": "2021-11-23T04:40:36.347671",
     "status": "completed"
    },
    "tags": []
   },
   "outputs": [],
   "source": [
    "X_train2, X_valid2, y_train2, y_valid2 = train_test_split(Correct_Labeled.drop(columns = ['target'] , axis = 1), Correct_Labeled['target'], random_state=0, test_size = 0.050314269434849186,stratify=Correct_Labeled['target'])"
   ]
  },
  {
   "cell_type": "code",
   "execution_count": 17,
   "id": "bb590983",
   "metadata": {
    "execution": {
     "iopub.execute_input": "2021-11-23T04:40:37.035293Z",
     "iopub.status.busy": "2021-11-23T04:40:37.034158Z",
     "iopub.status.idle": "2021-11-23T04:40:38.106300Z",
     "shell.execute_reply": "2021-11-23T04:40:38.105744Z",
     "shell.execute_reply.started": "2021-11-23T04:28:32.331883Z"
    },
    "papermill": {
     "duration": 1.128854,
     "end_time": "2021-11-23T04:40:38.106449",
     "exception": false,
     "start_time": "2021-11-23T04:40:36.977595",
     "status": "completed"
    },
    "tags": []
   },
   "outputs": [],
   "source": [
    "X_train = pd.concat([X_train1, X_train2], axis=0).sort_index(ascending=True)\n",
    "y_train = pd.concat([y_train1, y_train2], axis=0).sort_index(ascending=True)\n",
    "X_valid= pd.concat([X_valid1, X_valid2], axis=0).sort_index(ascending=True)\n",
    "y_valid = pd.concat([y_valid1, y_valid2], axis=0).sort_index(ascending=True)\n",
    "X_train = pd.merge(X_train, df_train['target'], left_index=True, right_index=True)\n",
    "X_valid = pd.merge(X_valid, df_train['target'], left_index=True, right_index=True)\n",
    "X = pd.concat([X_train, X_valid], axis=0).sort_index(ascending=True)\n",
    "y = pd.concat([y_train, y_valid], axis=0).sort_index(ascending=True)"
   ]
  },
  {
   "cell_type": "code",
   "execution_count": 18,
   "id": "0b0ea4b8",
   "metadata": {
    "execution": {
     "iopub.execute_input": "2021-11-23T04:40:38.209516Z",
     "iopub.status.busy": "2021-11-23T04:40:38.208842Z",
     "iopub.status.idle": "2021-11-23T04:40:38.211588Z",
     "shell.execute_reply": "2021-11-23T04:40:38.212009Z",
     "shell.execute_reply.started": "2021-11-23T04:28:33.185161Z"
    },
    "papermill": {
     "duration": 0.05773,
     "end_time": "2021-11-23T04:40:38.212142",
     "exception": false,
     "start_time": "2021-11-23T04:40:38.154412",
     "status": "completed"
    },
    "tags": []
   },
   "outputs": [
    {
     "data": {
      "text/plain": [
       "\"modelx = XGBClassifier(base_score=0.5, booster='gbtree' ,colsample_bylevel=1,\\n              colsample_bynode=1, colsample_bytree=1, eval_metric='mlogloss',\\n              gamma=0, gpu_id=-1, importance_type='gain',\\n              interaction_constraints='', learning_rate= 0.01,\\n              max_delta_step=0, max_depth= 2 , min_child_weight=0,\\n              monotone_constraints='()', n_estimators= 50 , n_jobs=-1,\\n              num_parallel_tree=1, random_state=42,\\n              reg_alpha= 0.1, reg_lambda= 0.5, scale_pos_weight=None, subsample=1,\\n              tree_method='gpu_hist', use_label_encoder=False,\\n              validate_parameters=10, verbosity=None)\\nmodelx.fit(X_train, y_train)\\ny_pred = modelx.predict(X_valid)\\naccuracy = accuracy_score(y_valid, y_pred)*100\\nprint ('model accuracy on predicting valid is: '+str(accuracy)+'%')\\ny_pred = modelx.predict(X_train)\\naccuracy = accuracy_score(y_train, y_pred)*100\\nprint ('model accuracy on predicting train is: '+str(accuracy)+'%')\""
      ]
     },
     "execution_count": 18,
     "metadata": {},
     "output_type": "execute_result"
    }
   ],
   "source": [
    "'''modelx = XGBClassifier(base_score=0.5, booster='gbtree' ,colsample_bylevel=1,\n",
    "              colsample_bynode=1, colsample_bytree=1, eval_metric='mlogloss',\n",
    "              gamma=0, gpu_id=-1, importance_type='gain',\n",
    "              interaction_constraints='', learning_rate= 0.01,\n",
    "              max_delta_step=0, max_depth= 2 , min_child_weight=0,\n",
    "              monotone_constraints='()', n_estimators= 50 , n_jobs=-1,\n",
    "              num_parallel_tree=1, random_state=42,\n",
    "              reg_alpha= 0.1, reg_lambda= 0.5, scale_pos_weight=None, subsample=1,\n",
    "              tree_method='gpu_hist', use_label_encoder=False,\n",
    "              validate_parameters=10, verbosity=None)\n",
    "modelx.fit(X_train, y_train)\n",
    "y_pred = modelx.predict(X_valid)\n",
    "accuracy = accuracy_score(y_valid, y_pred)*100\n",
    "print ('model accuracy on predicting valid is: '+str(accuracy)+'%')\n",
    "y_pred = modelx.predict(X_train)\n",
    "accuracy = accuracy_score(y_train, y_pred)*100\n",
    "print ('model accuracy on predicting train is: '+str(accuracy)+'%')'''"
   ]
  },
  {
   "cell_type": "markdown",
   "id": "bdbddff0",
   "metadata": {
    "papermill": {
     "duration": 0.047326,
     "end_time": "2021-11-23T04:40:38.306808",
     "exception": false,
     "start_time": "2021-11-23T04:40:38.259482",
     "status": "completed"
    },
    "tags": []
   },
   "source": [
    "> # Miss labeled data is flipped randomly independently from any feature so it's a better approach to train on pure data set to avoid flipping bias which won't be productive on test set"
   ]
  },
  {
   "cell_type": "markdown",
   "id": "3c75402b",
   "metadata": {
    "papermill": {
     "duration": 0.048214,
     "end_time": "2021-11-23T04:40:38.411214",
     "exception": false,
     "start_time": "2021-11-23T04:40:38.363000",
     "status": "completed"
    },
    "tags": []
   },
   "source": [
    "# Modeling"
   ]
  },
  {
   "cell_type": "code",
   "execution_count": 19,
   "id": "6be7bf88",
   "metadata": {
    "execution": {
     "iopub.execute_input": "2021-11-23T04:40:38.586202Z",
     "iopub.status.busy": "2021-11-23T04:40:38.585229Z",
     "iopub.status.idle": "2021-11-23T04:40:38.587604Z",
     "shell.execute_reply": "2021-11-23T04:40:38.588046Z",
     "shell.execute_reply.started": "2021-11-23T04:28:33.195556Z"
    },
    "papermill": {
     "duration": 0.124642,
     "end_time": "2021-11-23T04:40:38.588197",
     "exception": false,
     "start_time": "2021-11-23T04:40:38.463555",
     "status": "completed"
    },
    "tags": []
   },
   "outputs": [],
   "source": [
    "X = df_train.drop(['id','target'], axis=1)\n",
    "y = df_train['target']"
   ]
  },
  {
   "cell_type": "code",
   "execution_count": 20,
   "id": "effb6693",
   "metadata": {
    "execution": {
     "iopub.execute_input": "2021-11-23T04:40:38.693006Z",
     "iopub.status.busy": "2021-11-23T04:40:38.691874Z",
     "iopub.status.idle": "2021-11-23T04:40:39.938403Z",
     "shell.execute_reply": "2021-11-23T04:40:39.937543Z",
     "shell.execute_reply.started": "2021-11-23T04:28:33.279266Z"
    },
    "papermill": {
     "duration": 1.30142,
     "end_time": "2021-11-23T04:40:39.938551",
     "exception": false,
     "start_time": "2021-11-23T04:40:38.637131",
     "status": "completed"
    },
    "tags": []
   },
   "outputs": [],
   "source": [
    "#feature scaling to obtain 0 mean and 1 variance \n",
    "def feature_scaling(X):\n",
    "    X_copy = X.copy()\n",
    "    mean = np.sum(X,0)/X.shape[0]\n",
    "    X-=mean\n",
    "    p = [2] * X.shape[1]\n",
    "    X = X.pow( p, axis = 'columns')\n",
    "    standard_deviation = np.sqrt(np.sum(X,0)/X.shape[0])\n",
    "    X_copy = (X_copy-mean)/standard_deviation\n",
    "    return (X_copy,mean , standard_deviation)\n",
    "#X , mean , std  = feature_scaling(X)\n",
    "X , mean , std  = feature_scaling(X)"
   ]
  },
  {
   "cell_type": "code",
   "execution_count": 21,
   "id": "5c036195",
   "metadata": {
    "execution": {
     "iopub.execute_input": "2021-11-23T04:40:40.044477Z",
     "iopub.status.busy": "2021-11-23T04:40:40.043257Z",
     "iopub.status.idle": "2021-11-23T04:40:40.759864Z",
     "shell.execute_reply": "2021-11-23T04:40:40.759322Z",
     "shell.execute_reply.started": "2021-11-23T04:28:34.567483Z"
    },
    "papermill": {
     "duration": 0.773042,
     "end_time": "2021-11-23T04:40:40.760005",
     "exception": false,
     "start_time": "2021-11-23T04:40:39.986963",
     "status": "completed"
    },
    "tags": []
   },
   "outputs": [],
   "source": [
    "#X_hold_out = (X_hold_out - mean)/std\n",
    "ID = df_test['id']\n",
    "df_test.drop(columns = ['id'] , axis = 1 , inplace = True)\n",
    "df_test = (df_test-mean)/std\n",
    "X_miss = df_MissL.drop(columns=['id','target'] , axis = 1)\n",
    "y_miss = df_MissL['target']\n",
    "X_miss = (X_miss-mean)/std"
   ]
  },
  {
   "cell_type": "code",
   "execution_count": 22,
   "id": "a6f1f5c2",
   "metadata": {
    "execution": {
     "iopub.execute_input": "2021-11-23T04:40:40.860226Z",
     "iopub.status.busy": "2021-11-23T04:40:40.859192Z",
     "iopub.status.idle": "2021-11-23T04:40:41.621749Z",
     "shell.execute_reply": "2021-11-23T04:40:41.620729Z",
     "shell.execute_reply.started": "2021-11-23T04:28:35.321055Z"
    },
    "papermill": {
     "duration": 0.813199,
     "end_time": "2021-11-23T04:40:41.621947",
     "exception": false,
     "start_time": "2021-11-23T04:40:40.808748",
     "status": "completed"
    },
    "tags": []
   },
   "outputs": [],
   "source": [
    "X_train, X_valid, y_train, y_valid = train_test_split(X, y, random_state=0, test_size = 0.0297,stratify=y)"
   ]
  },
  {
   "cell_type": "code",
   "execution_count": 23,
   "id": "ccfde1f7",
   "metadata": {
    "execution": {
     "iopub.execute_input": "2021-11-23T04:40:44.792528Z",
     "iopub.status.busy": "2021-11-23T04:40:44.791366Z",
     "iopub.status.idle": "2021-11-23T04:40:47.518040Z",
     "shell.execute_reply": "2021-11-23T04:40:47.517451Z",
     "shell.execute_reply.started": "2021-11-23T04:28:36.264310Z"
    },
    "papermill": {
     "duration": 5.84763,
     "end_time": "2021-11-23T04:40:47.518175",
     "exception": false,
     "start_time": "2021-11-23T04:40:41.670545",
     "status": "completed"
    },
    "tags": []
   },
   "outputs": [
    {
     "data": {
      "text/plain": [
       "KNeighborsClassifier()"
      ]
     },
     "execution_count": 23,
     "metadata": {},
     "output_type": "execute_result"
    }
   ],
   "source": [
    "knn = KNeighborsClassifier(n_neighbors= 410)\n",
    "knn.fit(X_train, y_train)"
   ]
  },
  {
   "cell_type": "code",
   "execution_count": 24,
   "id": "79a38eb2",
   "metadata": {
    "execution": {
     "iopub.execute_input": "2021-11-23T04:40:47.627352Z",
     "iopub.status.busy": "2021-11-23T04:40:47.626301Z",
     "iopub.status.idle": "2021-11-23T04:41:32.760853Z",
     "shell.execute_reply": "2021-11-23T04:41:32.761594Z",
     "shell.execute_reply.started": "2021-11-23T04:28:40.056310Z"
    },
    "papermill": {
     "duration": 45.194335,
     "end_time": "2021-11-23T04:41:32.761803",
     "exception": false,
     "start_time": "2021-11-23T04:40:47.567468",
     "status": "completed"
    },
    "tags": []
   },
   "outputs": [
    {
     "name": "stdout",
     "output_type": "stream",
     "text": [
      "AUC valid: 0.726241\n"
     ]
    }
   ],
   "source": [
    "y3 = knn.predict_proba(X_miss)\n",
    "y00 = knn.predict_proba(df_test)\n",
    "auc = roc_auc_score(y_miss, y3[:,1])\n",
    "print('AUC valid: %f' % auc)\n",
    "#y_pred = knn.predict_proba(X_hold_out)\n",
    "#auc = roc_auc_score(y_hold_out, y_pred[:,1])\n",
    "#print('AUC test: %.3f' % auc)"
   ]
  },
  {
   "cell_type": "markdown",
   "id": "2eafd33f",
   "metadata": {
    "papermill": {
     "duration": 0.080248,
     "end_time": "2021-11-23T04:41:32.921511",
     "exception": false,
     "start_time": "2021-11-23T04:41:32.841263",
     "status": "completed"
    },
    "tags": []
   },
   "source": [
    "### XGB"
   ]
  },
  {
   "cell_type": "code",
   "execution_count": 25,
   "id": "49c50d47",
   "metadata": {
    "execution": {
     "iopub.execute_input": "2021-11-23T04:41:33.038792Z",
     "iopub.status.busy": "2021-11-23T04:41:33.038042Z",
     "iopub.status.idle": "2021-11-23T04:42:31.029361Z",
     "shell.execute_reply": "2021-11-23T04:42:31.030011Z",
     "shell.execute_reply.started": "2021-11-23T04:29:24.055040Z"
    },
    "papermill": {
     "duration": 58.048944,
     "end_time": "2021-11-23T04:42:31.030215",
     "exception": false,
     "start_time": "2021-11-23T04:41:32.981271",
     "status": "completed"
    },
    "tags": []
   },
   "outputs": [
    {
     "name": "stdout",
     "output_type": "stream",
     "text": [
      "model accuracy on predicting valid is: 98.35016835016836%\n",
      "model accuracy on predicting train is: 98.79934041018241%\n"
     ]
    }
   ],
   "source": [
    "modelx = XGBClassifier(base_score=0.5, booster='gbtree' ,colsample_bylevel=1,\n",
    "              colsample_bynode=1, colsample_bytree=1, eval_metric='mlogloss',\n",
    "              gamma=0, gpu_id=-1, importance_type='gain',\n",
    "              interaction_constraints='', learning_rate= 1,\n",
    "              max_delta_step=0, max_depth=1 , min_child_weight=0,\n",
    "              monotone_constraints='()', n_estimators=10000 , n_jobs=-1,\n",
    "              num_parallel_tree=1, random_state=42,\n",
    "              reg_alpha= 0.1, reg_lambda= 0.5, scale_pos_weight=None, subsample=1,\n",
    "              tree_method='gpu_hist', use_label_encoder=False,\n",
    "              validate_parameters=10, verbosity=None)\n",
    "modelx.fit(X_train, y_train)\n",
    "y_pred = modelx.predict(X_valid)\n",
    "accuracy = accuracy_score(y_valid, y_pred)*100\n",
    "print ('model accuracy on predicting valid is: '+str(accuracy)+'%')\n",
    "y_pred = modelx.predict(X_train)\n",
    "accuracy = accuracy_score(y_train, y_pred)*100\n",
    "print ('model accuracy on predicting train is: '+str(accuracy)+'%')"
   ]
  },
  {
   "cell_type": "markdown",
   "id": "989b9020",
   "metadata": {
    "papermill": {
     "duration": 0.048321,
     "end_time": "2021-11-23T04:42:31.128527",
     "exception": false,
     "start_time": "2021-11-23T04:42:31.080206",
     "status": "completed"
    },
    "tags": []
   },
   "source": [
    "> # XGB AUC Score on miss-labeled data"
   ]
  },
  {
   "cell_type": "code",
   "execution_count": 26,
   "id": "6f2c6599",
   "metadata": {
    "execution": {
     "iopub.execute_input": "2021-11-23T04:42:31.239737Z",
     "iopub.status.busy": "2021-11-23T04:42:31.238943Z",
     "iopub.status.idle": "2021-11-23T04:43:05.602053Z",
     "shell.execute_reply": "2021-11-23T04:43:05.603009Z",
     "shell.execute_reply.started": "2021-11-23T04:30:21.825585Z"
    },
    "papermill": {
     "duration": 34.42522,
     "end_time": "2021-11-23T04:43:05.603216",
     "exception": false,
     "start_time": "2021-11-23T04:42:31.177996",
     "status": "completed"
    },
    "tags": []
   },
   "outputs": [
    {
     "name": "stdout",
     "output_type": "stream",
     "text": [
      "AUC valid: 0.748063\n"
     ]
    }
   ],
   "source": [
    "y1 = modelx.predict_proba(X_miss)\n",
    "auc = roc_auc_score(y_miss, y1[:,1])\n",
    "print('AUC valid: %f' % auc)\n",
    "y01 = modelx.predict_proba(df_test)\n",
    "#y_XGB_hold = modelx.predict_proba(X_hold_out)\n",
    "#auc = roc_auc_score(y_hold_out, y_XGB_hold[:,1])\n",
    "#print('AUC valid: %.3f' % auc)"
   ]
  },
  {
   "cell_type": "markdown",
   "id": "ee26ba7d",
   "metadata": {
    "papermill": {
     "duration": 0.049933,
     "end_time": "2021-11-23T04:43:05.704295",
     "exception": false,
     "start_time": "2021-11-23T04:43:05.654362",
     "status": "completed"
    },
    "tags": []
   },
   "source": [
    "# Logistic regression "
   ]
  },
  {
   "cell_type": "code",
   "execution_count": 27,
   "id": "147383cc",
   "metadata": {
    "execution": {
     "iopub.execute_input": "2021-11-23T04:43:05.810256Z",
     "iopub.status.busy": "2021-11-23T04:43:05.808960Z",
     "iopub.status.idle": "2021-11-23T04:43:05.812758Z",
     "shell.execute_reply": "2021-11-23T04:43:05.812306Z",
     "shell.execute_reply.started": "2021-11-23T04:30:56.058480Z"
    },
    "papermill": {
     "duration": 0.059689,
     "end_time": "2021-11-23T04:43:05.812869",
     "exception": false,
     "start_time": "2021-11-23T04:43:05.753180",
     "status": "completed"
    },
    "tags": []
   },
   "outputs": [
    {
     "data": {
      "text/plain": [
       "'from sklearn.metrics import classification_report, confusion_matrix\\nfrom sklearn.model_selection import GridSearchCV\\nsns.set(style=\"white\")\\n\\n# Setup the hyperparameter grid\\nc_space = np.logspace(-5, 8, 15)\\nparam_grid = {\\'C\\': c_space }\\n\\n# Instantiate a logistic regression classifier: logreg\\nlogreg = LogisticRegression(fit_intercept=True , n_jobs = -1 ,solver=\\'saga\\', penalty=\\'l1\\')\\n\\n# Instantiate the GridSearchCV object: logreg_cv\\nlogreg_cv = GridSearchCV(logreg, param_grid, cv=5)\\n\\n# Fit it to the data\\nlogreg_cv.fit(X,y)\\n\\n# Print the tuned parameters and score\\nprint(\"Tuned Logistic Regression Parameters: {}\".format(logreg_cv.best_params_)) \\nprint(\"Best score is {}\".format(logreg_cv.best_score_*100)+\\'%\\')'"
      ]
     },
     "execution_count": 27,
     "metadata": {},
     "output_type": "execute_result"
    }
   ],
   "source": [
    "'''from sklearn.metrics import classification_report, confusion_matrix\n",
    "from sklearn.model_selection import GridSearchCV\n",
    "sns.set(style=\"white\")\n",
    "\n",
    "# Setup the hyperparameter grid\n",
    "c_space = np.logspace(-5, 8, 15)\n",
    "param_grid = {'C': c_space }\n",
    "\n",
    "# Instantiate a logistic regression classifier: logreg\n",
    "logreg = LogisticRegression(fit_intercept=True , n_jobs = -1 ,solver='saga', penalty='l1')\n",
    "\n",
    "# Instantiate the GridSearchCV object: logreg_cv\n",
    "logreg_cv = GridSearchCV(logreg, param_grid, cv=5)\n",
    "\n",
    "# Fit it to the data\n",
    "logreg_cv.fit(X,y)\n",
    "\n",
    "# Print the tuned parameters and score\n",
    "print(\"Tuned Logistic Regression Parameters: {}\".format(logreg_cv.best_params_)) \n",
    "print(\"Best score is {}\".format(logreg_cv.best_score_*100)+'%')'''"
   ]
  },
  {
   "cell_type": "code",
   "execution_count": 28,
   "id": "377d3926",
   "metadata": {
    "execution": {
     "iopub.execute_input": "2021-11-23T04:43:05.922655Z",
     "iopub.status.busy": "2021-11-23T04:43:05.921409Z",
     "iopub.status.idle": "2021-11-23T04:43:05.924656Z",
     "shell.execute_reply": "2021-11-23T04:43:05.925100Z",
     "shell.execute_reply.started": "2021-11-23T04:30:56.071016Z"
    },
    "papermill": {
     "duration": 0.060402,
     "end_time": "2021-11-23T04:43:05.925257",
     "exception": false,
     "start_time": "2021-11-23T04:43:05.864855",
     "status": "completed"
    },
    "tags": []
   },
   "outputs": [
    {
     "data": {
      "text/plain": [
       "\"y_pred = logreg_cv.predict(X_valid)\\naccuracy = accuracy_score(y_valid, y_pred)*100\\nprint ('model accuracy on predicting train is: '+str(accuracy)+'%')\""
      ]
     },
     "execution_count": 28,
     "metadata": {},
     "output_type": "execute_result"
    }
   ],
   "source": [
    "'''y_pred = logreg_cv.predict(X_valid)\n",
    "accuracy = accuracy_score(y_valid, y_pred)*100\n",
    "print ('model accuracy on predicting train is: '+str(accuracy)+'%')'''"
   ]
  },
  {
   "cell_type": "code",
   "execution_count": 29,
   "id": "92a64f02",
   "metadata": {
    "execution": {
     "iopub.execute_input": "2021-11-23T04:43:06.040756Z",
     "iopub.status.busy": "2021-11-23T04:43:06.039814Z",
     "iopub.status.idle": "2021-11-23T04:44:51.184197Z",
     "shell.execute_reply": "2021-11-23T04:44:51.182286Z",
     "shell.execute_reply.started": "2021-11-23T04:30:56.081842Z"
    },
    "papermill": {
     "duration": 105.208407,
     "end_time": "2021-11-23T04:44:51.184386",
     "exception": false,
     "start_time": "2021-11-23T04:43:05.975979",
     "status": "completed"
    },
    "tags": []
   },
   "outputs": [
    {
     "name": "stderr",
     "output_type": "stream",
     "text": [
      "/opt/conda/lib/python3.7/site-packages/sklearn/linear_model/_sag.py:330: ConvergenceWarning: The max_iter was reached which means the coef_ did not converge\n",
      "  \"the coef_ did not converge\", ConvergenceWarning)\n"
     ]
    },
    {
     "name": "stdout",
     "output_type": "stream",
     "text": [
      "model accuracy on predicting valid is: 99.9270482603816%\n",
      "model accuracy on predicting train is: 99.94039644096327%\n"
     ]
    }
   ],
   "source": [
    "logreg = LogisticRegression(solver='saga', penalty='l1',fit_intercept=True , n_jobs = -1 , C = 163789.3706954068)\n",
    "logreg.fit(X_train,y_train)\n",
    "y_pred = logreg.predict(X_valid)\n",
    "accuracy = accuracy_score(y_valid, y_pred)*100\n",
    "print ('model accuracy on predicting valid is: '+str(accuracy)+'%')\n",
    "y_pred = logreg.predict(X_train)\n",
    "accuracy = accuracy_score(y_train, y_pred)*100\n",
    "print ('model accuracy on predicting train is: '+str(accuracy)+'%')"
   ]
  },
  {
   "cell_type": "markdown",
   "id": "13a54486",
   "metadata": {
    "papermill": {
     "duration": 0.079465,
     "end_time": "2021-11-23T04:44:51.349731",
     "exception": false,
     "start_time": "2021-11-23T04:44:51.270266",
     "status": "completed"
    },
    "tags": []
   },
   "source": [
    "> # Logistic regression AUC Score"
   ]
  },
  {
   "cell_type": "code",
   "execution_count": 30,
   "id": "b69b46a7",
   "metadata": {
    "execution": {
     "iopub.execute_input": "2021-11-23T04:44:51.519807Z",
     "iopub.status.busy": "2021-11-23T04:44:51.519014Z",
     "iopub.status.idle": "2021-11-23T04:44:52.109432Z",
     "shell.execute_reply": "2021-11-23T04:44:52.110194Z",
     "shell.execute_reply.started": "2021-11-23T04:32:36.979508Z"
    },
    "papermill": {
     "duration": 0.683083,
     "end_time": "2021-11-23T04:44:52.110477",
     "exception": false,
     "start_time": "2021-11-23T04:44:51.427394",
     "status": "completed"
    },
    "tags": []
   },
   "outputs": [
    {
     "name": "stdout",
     "output_type": "stream",
     "text": [
      "AUC valid: 0.748794\n"
     ]
    }
   ],
   "source": [
    "y2 = logreg.predict_proba(X_miss)\n",
    "auc = roc_auc_score(y_miss, y2[:,1])\n",
    "print('AUC valid: %f' % auc)\n",
    "y10 = logreg.predict_proba(df_test)\n",
    "#cm = confusion_matrix(logreg.predict(X_miss),y_miss)\n",
    "#cm_display = ConfusionMatrixDisplay(cm).plot()"
   ]
  },
  {
   "cell_type": "markdown",
   "id": "46c90190",
   "metadata": {
    "papermill": {
     "duration": 0.092172,
     "end_time": "2021-11-23T04:44:52.347491",
     "exception": false,
     "start_time": "2021-11-23T04:44:52.255319",
     "status": "completed"
    },
    "tags": []
   },
   "source": [
    "# KNN"
   ]
  },
  {
   "cell_type": "code",
   "execution_count": 31,
   "id": "a2af18a2",
   "metadata": {
    "execution": {
     "iopub.execute_input": "2021-11-23T04:44:52.481524Z",
     "iopub.status.busy": "2021-11-23T04:44:52.480860Z",
     "iopub.status.idle": "2021-11-23T04:44:52.483609Z",
     "shell.execute_reply": "2021-11-23T04:44:52.484089Z",
     "shell.execute_reply.started": "2021-11-23T04:32:37.426881Z"
    },
    "papermill": {
     "duration": 0.067057,
     "end_time": "2021-11-23T04:44:52.484260",
     "exception": false,
     "start_time": "2021-11-23T04:44:52.417203",
     "status": "completed"
    },
    "tags": []
   },
   "outputs": [
    {
     "data": {
      "text/plain": [
       "\"accs = []\\nfor k in range(10,500):\\n    knn = KNeighborsClassifier(n_neighbors=k)\\n    knn.fit(X_train, y_train)\\n    # Better to use knn.predict() but cuML v0.11.0 has bug\\n    # y_hat = knn.predict(X_test)\\n    y_hat_p = knn.predict_proba(X_valid)\\n    acc = (pd.DataFrame(y_hat_p,index=y_hat_p[:,0]).values.argmax(axis=1)==y_valid.to_numpy() ).sum()/y_valid.shape[0]\\n    #print(k,acc)\\n    print(k,', ',end='')\\n    accs.append(acc)\""
      ]
     },
     "execution_count": 31,
     "metadata": {},
     "output_type": "execute_result"
    }
   ],
   "source": [
    "'''accs = []\n",
    "for k in range(10,500):\n",
    "    knn = KNeighborsClassifier(n_neighbors=k)\n",
    "    knn.fit(X_train, y_train)\n",
    "    # Better to use knn.predict() but cuML v0.11.0 has bug\n",
    "    # y_hat = knn.predict(X_test)\n",
    "    y_hat_p = knn.predict_proba(X_valid)\n",
    "    acc = (pd.DataFrame(y_hat_p,index=y_hat_p[:,0]).values.argmax(axis=1)==y_valid.to_numpy() ).sum()/y_valid.shape[0]\n",
    "    #print(k,acc)\n",
    "    print(k,', ',end='')\n",
    "    accs.append(acc)'''"
   ]
  },
  {
   "cell_type": "code",
   "execution_count": 32,
   "id": "f67e0391",
   "metadata": {
    "execution": {
     "iopub.execute_input": "2021-11-23T04:44:52.596237Z",
     "iopub.status.busy": "2021-11-23T04:44:52.595474Z",
     "iopub.status.idle": "2021-11-23T04:44:52.598270Z",
     "shell.execute_reply": "2021-11-23T04:44:52.598676Z",
     "shell.execute_reply.started": "2021-11-23T04:32:37.446734Z"
    },
    "papermill": {
     "duration": 0.057952,
     "end_time": "2021-11-23T04:44:52.598800",
     "exception": false,
     "start_time": "2021-11-23T04:44:52.540848",
     "status": "completed"
    },
    "tags": []
   },
   "outputs": [
    {
     "data": {
      "text/plain": [
       "\"plt.figure(figsize=(15,5))\\nplt.plot(range(10,500),accs)\\nplt.title('MNIST kNN k value versus validation acc')\\nplt.show()\""
      ]
     },
     "execution_count": 32,
     "metadata": {},
     "output_type": "execute_result"
    }
   ],
   "source": [
    "'''plt.figure(figsize=(15,5))\n",
    "plt.plot(range(10,500),accs)\n",
    "plt.title('MNIST kNN k value versus validation acc')\n",
    "plt.show()'''"
   ]
  },
  {
   "cell_type": "code",
   "execution_count": null,
   "id": "d6c86213",
   "metadata": {
    "papermill": {
     "duration": 0.051589,
     "end_time": "2021-11-23T04:44:52.701537",
     "exception": false,
     "start_time": "2021-11-23T04:44:52.649948",
     "status": "completed"
    },
    "tags": []
   },
   "outputs": [],
   "source": []
  },
  {
   "cell_type": "markdown",
   "id": "86bb789c",
   "metadata": {
    "papermill": {
     "duration": 0.051274,
     "end_time": "2021-11-23T04:44:52.804252",
     "exception": false,
     "start_time": "2021-11-23T04:44:52.752978",
     "status": "completed"
    },
    "tags": []
   },
   "source": [
    "> # KNN AUC Score"
   ]
  },
  {
   "cell_type": "code",
   "execution_count": null,
   "id": "bb594243",
   "metadata": {
    "papermill": {
     "duration": 0.052134,
     "end_time": "2021-11-23T04:44:52.907860",
     "exception": false,
     "start_time": "2021-11-23T04:44:52.855726",
     "status": "completed"
    },
    "tags": []
   },
   "outputs": [],
   "source": []
  },
  {
   "cell_type": "markdown",
   "id": "3c8fa54f",
   "metadata": {
    "papermill": {
     "duration": 0.05303,
     "end_time": "2021-11-23T04:44:53.012412",
     "exception": false,
     "start_time": "2021-11-23T04:44:52.959382",
     "status": "completed"
    },
    "tags": []
   },
   "source": [
    "# Bernoulli Naive Bayes"
   ]
  },
  {
   "cell_type": "code",
   "execution_count": 33,
   "id": "90e622c6",
   "metadata": {
    "execution": {
     "iopub.execute_input": "2021-11-23T04:44:53.124297Z",
     "iopub.status.busy": "2021-11-23T04:44:53.123656Z",
     "iopub.status.idle": "2021-11-23T04:44:54.439277Z",
     "shell.execute_reply": "2021-11-23T04:44:54.440621Z",
     "shell.execute_reply.started": "2021-11-23T04:32:37.474253Z"
    },
    "papermill": {
     "duration": 1.375108,
     "end_time": "2021-11-23T04:44:54.440861",
     "exception": false,
     "start_time": "2021-11-23T04:44:53.065753",
     "status": "completed"
    },
    "tags": []
   },
   "outputs": [
    {
     "data": {
      "text/plain": [
       "BernoulliNB(alpha=100, binarize=0, fit_prior=False)"
      ]
     },
     "execution_count": 33,
     "metadata": {},
     "output_type": "execute_result"
    }
   ],
   "source": [
    "from sklearn.naive_bayes import BernoulliNB\n",
    "gnb = BernoulliNB(alpha= 100, binarize= 0, fit_prior=False, class_prior=None)\n",
    "gnb.fit(X_train, y_train)"
   ]
  },
  {
   "cell_type": "markdown",
   "id": "e6c384e4",
   "metadata": {
    "papermill": {
     "duration": 0.056026,
     "end_time": "2021-11-23T04:44:54.591972",
     "exception": false,
     "start_time": "2021-11-23T04:44:54.535946",
     "status": "completed"
    },
    "tags": []
   },
   "source": [
    "> # Bernoulli Naive Baye"
   ]
  },
  {
   "cell_type": "code",
   "execution_count": 34,
   "id": "b45edf96",
   "metadata": {
    "execution": {
     "iopub.execute_input": "2021-11-23T04:44:54.703345Z",
     "iopub.status.busy": "2021-11-23T04:44:54.702448Z",
     "iopub.status.idle": "2021-11-23T04:44:56.491794Z",
     "shell.execute_reply": "2021-11-23T04:44:56.490228Z",
     "shell.execute_reply.started": "2021-11-23T04:32:38.941201Z"
    },
    "papermill": {
     "duration": 1.848203,
     "end_time": "2021-11-23T04:44:56.492027",
     "exception": false,
     "start_time": "2021-11-23T04:44:54.643824",
     "status": "completed"
    },
    "tags": []
   },
   "outputs": [
    {
     "name": "stdout",
     "output_type": "stream",
     "text": [
      "AUC valid: 0.703167\n"
     ]
    }
   ],
   "source": [
    "y4 = gnb.predict_proba(X_miss)\n",
    "auc = roc_auc_score(y_miss, y4[:,1])\n",
    "print('AUC valid: %f' % auc)\n",
    "y11 = logreg.predict_proba(df_test)\n",
    "#y_pred = gnb.predict_proba(X_hold_out)\n",
    "#auc = roc_auc_score(y_hold_out, y_pred[:,1])\n",
    "#print('AUC test: %.3f' % auc)"
   ]
  },
  {
   "cell_type": "code",
   "execution_count": 35,
   "id": "314be1b0",
   "metadata": {
    "execution": {
     "iopub.execute_input": "2021-11-23T04:44:56.650686Z",
     "iopub.status.busy": "2021-11-23T04:44:56.649864Z",
     "iopub.status.idle": "2021-11-23T04:44:56.652481Z",
     "shell.execute_reply": "2021-11-23T04:44:56.652019Z",
     "shell.execute_reply.started": "2021-11-23T04:32:40.732722Z"
    },
    "papermill": {
     "duration": 0.064895,
     "end_time": "2021-11-23T04:44:56.652591",
     "exception": false,
     "start_time": "2021-11-23T04:44:56.587696",
     "status": "completed"
    },
    "tags": []
   },
   "outputs": [],
   "source": [
    "col1 = pd.DataFrame(y1,index=X.index)\n",
    "col1.columns = ['XGBT', 'XGBF']\n",
    "col2 = pd.DataFrame(y2,index=X.index)\n",
    "col2.columns = ['logregT', 'logregF']\n",
    "col3 = pd.DataFrame(y3,index=X.index)\n",
    "col3.columns = ['KNNT', 'KNNF']\n",
    "col4 = pd.DataFrame(y4,index=X.index)\n",
    "col4.columns = ['GNBT', 'GNBF']"
   ]
  },
  {
   "cell_type": "code",
   "execution_count": 36,
   "id": "bd6a7f9f",
   "metadata": {
    "execution": {
     "iopub.execute_input": "2021-11-23T04:44:56.763138Z",
     "iopub.status.busy": "2021-11-23T04:44:56.762057Z",
     "iopub.status.idle": "2021-11-23T04:44:56.944074Z",
     "shell.execute_reply": "2021-11-23T04:44:56.943510Z",
     "shell.execute_reply.started": "2021-11-23T04:32:40.745043Z"
    },
    "papermill": {
     "duration": 0.239129,
     "end_time": "2021-11-23T04:44:56.944210",
     "exception": false,
     "start_time": "2021-11-23T04:44:56.705081",
     "status": "completed"
    },
    "tags": []
   },
   "outputs": [],
   "source": [
    "X = pd.concat([X,col1,col2,col3,col4], axis=1)"
   ]
  },
  {
   "cell_type": "code",
   "execution_count": 37,
   "id": "1bd4113d",
   "metadata": {
    "execution": {
     "iopub.execute_input": "2021-11-23T04:44:57.059027Z",
     "iopub.status.busy": "2021-11-23T04:44:57.057360Z",
     "iopub.status.idle": "2021-11-23T04:44:57.059617Z",
     "shell.execute_reply": "2021-11-23T04:44:57.060053Z",
     "shell.execute_reply.started": "2021-11-23T04:34:41.046609Z"
    },
    "papermill": {
     "duration": 0.062849,
     "end_time": "2021-11-23T04:44:57.060195",
     "exception": false,
     "start_time": "2021-11-23T04:44:56.997346",
     "status": "completed"
    },
    "tags": []
   },
   "outputs": [],
   "source": [
    "col1 = pd.DataFrame(y00,index=df_test.index)\n",
    "col1.columns = ['XGBT', 'XGBF']\n",
    "col2 = pd.DataFrame(y01,index=df_test.index)\n",
    "col2.columns = ['logregT', 'logregF']\n",
    "col3 = pd.DataFrame(y10,index=df_test.index)\n",
    "col3.columns = ['KNNT', 'KNNF']\n",
    "col4 = pd.DataFrame(y11,index=df_test.index)\n",
    "col4.columns = ['GNBT', 'GNBF']"
   ]
  },
  {
   "cell_type": "code",
   "execution_count": 38,
   "id": "a685d70a",
   "metadata": {
    "execution": {
     "iopub.execute_input": "2021-11-23T04:44:57.170144Z",
     "iopub.status.busy": "2021-11-23T04:44:57.169023Z",
     "iopub.status.idle": "2021-11-23T04:44:57.335271Z",
     "shell.execute_reply": "2021-11-23T04:44:57.334695Z",
     "shell.execute_reply.started": "2021-11-23T04:34:42.646188Z"
    },
    "papermill": {
     "duration": 0.222888,
     "end_time": "2021-11-23T04:44:57.335420",
     "exception": false,
     "start_time": "2021-11-23T04:44:57.112532",
     "status": "completed"
    },
    "tags": []
   },
   "outputs": [],
   "source": [
    "df_test = pd.concat([df_test,col1,col2,col3,col4], axis=1)"
   ]
  },
  {
   "cell_type": "code",
   "execution_count": 39,
   "id": "7b25fdfd",
   "metadata": {
    "execution": {
     "iopub.execute_input": "2021-11-23T04:44:57.447712Z",
     "iopub.status.busy": "2021-11-23T04:44:57.446894Z",
     "iopub.status.idle": "2021-11-23T04:44:57.449403Z",
     "shell.execute_reply": "2021-11-23T04:44:57.448959Z",
     "shell.execute_reply.started": "2021-11-23T04:34:43.421366Z"
    },
    "papermill": {
     "duration": 0.061464,
     "end_time": "2021-11-23T04:44:57.449510",
     "exception": false,
     "start_time": "2021-11-23T04:44:57.388046",
     "status": "completed"
    },
    "tags": []
   },
   "outputs": [],
   "source": [
    "col1 = pd.DataFrame(y1,index=X.index)\n",
    "col1.columns = ['XGBT', 'XGBF']\n",
    "col2 = pd.DataFrame(y2,index=X.index)\n",
    "col2.columns = ['logregT', 'logregF']\n",
    "col3 = pd.DataFrame(y3,index=X.index)\n",
    "col3.columns = ['KNNT', 'KNNF']\n",
    "col4 = pd.DataFrame(y4,index=X.index)\n",
    "col4.columns = ['GNBT', 'GNBF']"
   ]
  },
  {
   "cell_type": "code",
   "execution_count": 40,
   "id": "3d686f6e",
   "metadata": {
    "execution": {
     "iopub.execute_input": "2021-11-23T04:44:57.559598Z",
     "iopub.status.busy": "2021-11-23T04:44:57.558448Z",
     "iopub.status.idle": "2021-11-23T04:44:57.749327Z",
     "shell.execute_reply": "2021-11-23T04:44:57.748688Z",
     "shell.execute_reply.started": "2021-11-23T04:34:43.431701Z"
    },
    "papermill": {
     "duration": 0.247172,
     "end_time": "2021-11-23T04:44:57.749471",
     "exception": false,
     "start_time": "2021-11-23T04:44:57.502299",
     "status": "completed"
    },
    "tags": []
   },
   "outputs": [],
   "source": [
    "X_miss = pd.concat([X_miss,col1,col2,col3,col4], axis=1)"
   ]
  },
  {
   "cell_type": "code",
   "execution_count": 41,
   "id": "a39861bf",
   "metadata": {
    "execution": {
     "iopub.execute_input": "2021-11-23T04:44:57.861627Z",
     "iopub.status.busy": "2021-11-23T04:44:57.860781Z",
     "iopub.status.idle": "2021-11-23T04:44:58.996146Z",
     "shell.execute_reply": "2021-11-23T04:44:58.995603Z",
     "shell.execute_reply.started": "2021-11-23T04:34:43.626736Z"
    },
    "papermill": {
     "duration": 1.193319,
     "end_time": "2021-11-23T04:44:58.996297",
     "exception": false,
     "start_time": "2021-11-23T04:44:57.802978",
     "status": "completed"
    },
    "tags": []
   },
   "outputs": [],
   "source": [
    "X_train, X_valid, y_train, y_valid = train_test_split(X, y, random_state=0, test_size = 0.0297,stratify=y)\n"
   ]
  },
  {
   "cell_type": "markdown",
   "id": "8061e71b",
   "metadata": {
    "papermill": {
     "duration": 0.051868,
     "end_time": "2021-11-23T04:44:59.101516",
     "exception": false,
     "start_time": "2021-11-23T04:44:59.049648",
     "status": "completed"
    },
    "tags": []
   },
   "source": [
    "# Neural Net"
   ]
  },
  {
   "cell_type": "code",
   "execution_count": 42,
   "id": "799ab4c9",
   "metadata": {
    "execution": {
     "iopub.execute_input": "2021-11-23T04:44:59.212214Z",
     "iopub.status.busy": "2021-11-23T04:44:59.211651Z",
     "iopub.status.idle": "2021-11-23T04:45:06.134092Z",
     "shell.execute_reply": "2021-11-23T04:45:06.134764Z",
     "shell.execute_reply.started": "2021-11-23T04:34:44.755880Z"
    },
    "papermill": {
     "duration": 6.981041,
     "end_time": "2021-11-23T04:45:06.134997",
     "exception": false,
     "start_time": "2021-11-23T04:44:59.153956",
     "status": "completed"
    },
    "tags": []
   },
   "outputs": [
    {
     "name": "stderr",
     "output_type": "stream",
     "text": [
      "2021-11-23 04:45:05.758670: I tensorflow/stream_executor/cuda/cuda_gpu_executor.cc:937] successful NUMA node read from SysFS had negative value (-1), but there must be at least one NUMA node, so returning NUMA node zero\n",
      "2021-11-23 04:45:05.760308: I tensorflow/stream_executor/cuda/cuda_gpu_executor.cc:937] successful NUMA node read from SysFS had negative value (-1), but there must be at least one NUMA node, so returning NUMA node zero\n",
      "2021-11-23 04:45:05.760954: I tensorflow/stream_executor/cuda/cuda_gpu_executor.cc:937] successful NUMA node read from SysFS had negative value (-1), but there must be at least one NUMA node, so returning NUMA node zero\n",
      "2021-11-23 04:45:05.761713: I tensorflow/core/platform/cpu_feature_guard.cc:142] This TensorFlow binary is optimized with oneAPI Deep Neural Network Library (oneDNN) to use the following CPU instructions in performance-critical operations:  AVX2 AVX512F FMA\n",
      "To enable them in other operations, rebuild TensorFlow with the appropriate compiler flags.\n",
      "2021-11-23 04:45:05.762850: I tensorflow/stream_executor/cuda/cuda_gpu_executor.cc:937] successful NUMA node read from SysFS had negative value (-1), but there must be at least one NUMA node, so returning NUMA node zero\n",
      "2021-11-23 04:45:05.763486: I tensorflow/stream_executor/cuda/cuda_gpu_executor.cc:937] successful NUMA node read from SysFS had negative value (-1), but there must be at least one NUMA node, so returning NUMA node zero\n",
      "2021-11-23 04:45:05.764066: I tensorflow/stream_executor/cuda/cuda_gpu_executor.cc:937] successful NUMA node read from SysFS had negative value (-1), but there must be at least one NUMA node, so returning NUMA node zero\n",
      "2021-11-23 04:45:05.767798: I tensorflow/stream_executor/cuda/cuda_gpu_executor.cc:937] successful NUMA node read from SysFS had negative value (-1), but there must be at least one NUMA node, so returning NUMA node zero\n",
      "2021-11-23 04:45:05.768497: I tensorflow/stream_executor/cuda/cuda_gpu_executor.cc:937] successful NUMA node read from SysFS had negative value (-1), but there must be at least one NUMA node, so returning NUMA node zero\n",
      "2021-11-23 04:45:05.769128: I tensorflow/stream_executor/cuda/cuda_gpu_executor.cc:937] successful NUMA node read from SysFS had negative value (-1), but there must be at least one NUMA node, so returning NUMA node zero\n",
      "2021-11-23 04:45:05.769720: I tensorflow/core/common_runtime/gpu/gpu_device.cc:1510] Created device /job:localhost/replica:0/task:0/device:GPU:0 with 14209 MB memory:  -> device: 0, name: Tesla P100-PCIE-16GB, pci bus id: 0000:00:04.0, compute capability: 6.0\n"
     ]
    }
   ],
   "source": [
    "import tensorflow as tf\n",
    "from tensorflow import keras\n",
    "from tensorflow.keras import layers, callbacks\n",
    "\n",
    "# we still need to clear a graph though\n",
    "\n",
    "tf.keras.backend.clear_session()\n",
    "model = keras.Sequential([\n",
    "    layers.Dense(100, activation='tanh', input_shape=[X.shape[1]]),\n",
    "    layers.Dropout(0.3),\n",
    "    layers.Dense(64, activation='tanh'),\n",
    "    layers.Dropout(0.3),\n",
    "    layers.Dense(32, activation='tanh'),\n",
    "    layers.Dropout(0.3),\n",
    "    # For a binary classification function use sigmoid\n",
    "    layers.Dense(1, activation='sigmoid')])"
   ]
  },
  {
   "cell_type": "code",
   "execution_count": 43,
   "id": "789b3c66",
   "metadata": {
    "execution": {
     "iopub.execute_input": "2021-11-23T04:45:06.251722Z",
     "iopub.status.busy": "2021-11-23T04:45:06.250558Z",
     "iopub.status.idle": "2021-11-23T04:45:06.255958Z",
     "shell.execute_reply": "2021-11-23T04:45:06.256440Z",
     "shell.execute_reply.started": "2021-11-23T04:34:52.195029Z"
    },
    "papermill": {
     "duration": 0.066846,
     "end_time": "2021-11-23T04:45:06.256587",
     "exception": false,
     "start_time": "2021-11-23T04:45:06.189741",
     "status": "completed"
    },
    "tags": []
   },
   "outputs": [
    {
     "name": "stdout",
     "output_type": "stream",
     "text": [
      "Model: \"sequential\"\n",
      "_________________________________________________________________\n",
      "Layer (type)                 Output Shape              Param #   \n",
      "=================================================================\n",
      "dense (Dense)                (None, 100)               10900     \n",
      "_________________________________________________________________\n",
      "dropout (Dropout)            (None, 100)               0         \n",
      "_________________________________________________________________\n",
      "dense_1 (Dense)              (None, 64)                6464      \n",
      "_________________________________________________________________\n",
      "dropout_1 (Dropout)          (None, 64)                0         \n",
      "_________________________________________________________________\n",
      "dense_2 (Dense)              (None, 32)                2080      \n",
      "_________________________________________________________________\n",
      "dropout_2 (Dropout)          (None, 32)                0         \n",
      "_________________________________________________________________\n",
      "dense_3 (Dense)              (None, 1)                 33        \n",
      "=================================================================\n",
      "Total params: 19,477\n",
      "Trainable params: 19,477\n",
      "Non-trainable params: 0\n",
      "_________________________________________________________________\n"
     ]
    }
   ],
   "source": [
    "model.summary()"
   ]
  },
  {
   "cell_type": "code",
   "execution_count": 44,
   "id": "c446abbf",
   "metadata": {
    "execution": {
     "iopub.execute_input": "2021-11-23T04:45:06.370720Z",
     "iopub.status.busy": "2021-11-23T04:45:06.367246Z",
     "iopub.status.idle": "2021-11-23T04:45:06.376695Z",
     "shell.execute_reply": "2021-11-23T04:45:06.376238Z",
     "shell.execute_reply.started": "2021-11-23T04:34:52.209669Z"
    },
    "papermill": {
     "duration": 0.066603,
     "end_time": "2021-11-23T04:45:06.376803",
     "exception": false,
     "start_time": "2021-11-23T04:45:06.310200",
     "status": "completed"
    },
    "tags": []
   },
   "outputs": [],
   "source": [
    "model.compile(\n",
    "    optimizer='rmsprop',\n",
    "    loss='binary_crossentropy',\n",
    "    metrics=['AUC'])"
   ]
  },
  {
   "cell_type": "code",
   "execution_count": 45,
   "id": "21d69d7d",
   "metadata": {
    "execution": {
     "iopub.execute_input": "2021-11-23T04:45:06.491441Z",
     "iopub.status.busy": "2021-11-23T04:45:06.490784Z",
     "iopub.status.idle": "2021-11-23T04:48:31.017155Z",
     "shell.execute_reply": "2021-11-23T04:48:31.017625Z",
     "shell.execute_reply.started": "2021-11-23T04:34:52.237798Z"
    },
    "papermill": {
     "duration": 204.585602,
     "end_time": "2021-11-23T04:48:31.017805",
     "exception": false,
     "start_time": "2021-11-23T04:45:06.432203",
     "status": "completed"
    },
    "tags": []
   },
   "outputs": [
    {
     "name": "stderr",
     "output_type": "stream",
     "text": [
      "2021-11-23 04:45:07.158233: W tensorflow/core/framework/cpu_allocator_impl.cc:80] Allocation of 503003520 exceeds 10% of free system memory.\n",
      "2021-11-23 04:45:07.676649: W tensorflow/core/framework/cpu_allocator_impl.cc:80] Allocation of 503003520 exceeds 10% of free system memory.\n",
      "2021-11-23 04:45:08.073425: I tensorflow/compiler/mlir/mlir_graph_optimization_pass.cc:185] None of the MLIR Optimization Passes are enabled (registered 2)\n"
     ]
    },
    {
     "data": {
      "text/plain": [
       "<keras.callbacks.History at 0x7f30685c4790>"
      ]
     },
     "execution_count": 45,
     "metadata": {},
     "output_type": "execute_result"
    }
   ],
   "source": [
    "model.fit(\n",
    "    X_train, \n",
    "    y_train,\n",
    "    batch_size=4096, \n",
    "    epochs=200,\n",
    "    validation_data=(X_valid, y_valid)\n",
    "    ,\n",
    "    verbose=0\n",
    ")"
   ]
  },
  {
   "cell_type": "code",
   "execution_count": 46,
   "id": "58ec77a3",
   "metadata": {
    "execution": {
     "iopub.execute_input": "2021-11-23T04:48:31.134047Z",
     "iopub.status.busy": "2021-11-23T04:48:31.133171Z",
     "iopub.status.idle": "2021-11-23T04:48:31.939520Z",
     "shell.execute_reply": "2021-11-23T04:48:31.940220Z",
     "shell.execute_reply.started": "2021-11-23T04:37:30.512390Z"
    },
    "papermill": {
     "duration": 0.866908,
     "end_time": "2021-11-23T04:48:31.940374",
     "exception": false,
     "start_time": "2021-11-23T04:48:31.073466",
     "status": "completed"
    },
    "tags": []
   },
   "outputs": [
    {
     "name": "stdout",
     "output_type": "stream",
     "text": [
      "model accuracy on predicting valid is: 99.93265993265993%\n"
     ]
    }
   ],
   "source": [
    "y_pred = model.predict(X_valid)\n",
    "for el in range(len(y_pred)):\n",
    "    if y_pred[el] >= 0.5:\n",
    "        y_pred[el] = 1 \n",
    "    else:\n",
    "        y_pred[el] = 0\n",
    "y_pred = y_pred.astype(int)\n",
    "accuracy = accuracy_score(y_valid, y_pred)*100\n",
    "print ('model accuracy on predicting valid is: '+str(accuracy)+'%')"
   ]
  },
  {
   "cell_type": "code",
   "execution_count": 47,
   "id": "6eb20c80",
   "metadata": {
    "execution": {
     "iopub.execute_input": "2021-11-23T04:48:32.053142Z",
     "iopub.status.busy": "2021-11-23T04:48:32.052332Z",
     "iopub.status.idle": "2021-11-23T04:49:15.261131Z",
     "shell.execute_reply": "2021-11-23T04:49:15.261775Z",
     "shell.execute_reply.started": "2021-11-23T04:37:31.203377Z"
    },
    "papermill": {
     "duration": 43.267811,
     "end_time": "2021-11-23T04:49:15.262004",
     "exception": false,
     "start_time": "2021-11-23T04:48:31.994193",
     "status": "completed"
    },
    "tags": []
   },
   "outputs": [
    {
     "name": "stderr",
     "output_type": "stream",
     "text": [
      "2021-11-23 04:48:33.161663: W tensorflow/core/framework/cpu_allocator_impl.cc:80] Allocation of 518400000 exceeds 10% of free system memory.\n",
      "2021-11-23 04:48:33.705632: W tensorflow/core/framework/cpu_allocator_impl.cc:80] Allocation of 518400000 exceeds 10% of free system memory.\n"
     ]
    },
    {
     "name": "stdout",
     "output_type": "stream",
     "text": [
      "AUC valid: 0.748735\n"
     ]
    }
   ],
   "source": [
    "y5= model.predict(X_miss)\n",
    "auc = roc_auc_score(y_miss, y5)\n",
    "print('AUC valid: %f' % auc)\n",
    "#y_pred = model.predict(X_hold_out)\n",
    "#auc = roc_auc_score(y_hold_out, y_pred)\n",
    "#print('AUC test: %.3f' % auc)"
   ]
  },
  {
   "cell_type": "code",
   "execution_count": 48,
   "id": "eeef1677",
   "metadata": {
    "execution": {
     "iopub.execute_input": "2021-11-23T04:49:15.376634Z",
     "iopub.status.busy": "2021-11-23T04:49:15.375925Z",
     "iopub.status.idle": "2021-11-23T04:49:15.474074Z",
     "shell.execute_reply": "2021-11-23T04:49:15.474512Z",
     "shell.execute_reply.started": "2021-11-23T04:38:14.064378Z"
    },
    "papermill": {
     "duration": 0.156828,
     "end_time": "2021-11-23T04:49:15.474679",
     "exception": false,
     "start_time": "2021-11-23T04:49:15.317851",
     "status": "completed"
    },
    "tags": []
   },
   "outputs": [
    {
     "name": "stdout",
     "output_type": "stream",
     "text": [
      "AUC valid: 0.748837\n"
     ]
    }
   ],
   "source": [
    "auc = roc_auc_score(df_train['target'], df_MissL['target'])\n",
    "print('AUC valid: %f' % auc)"
   ]
  },
  {
   "cell_type": "code",
   "execution_count": 49,
   "id": "cb0d365b",
   "metadata": {
    "execution": {
     "iopub.execute_input": "2021-11-23T04:49:15.589679Z",
     "iopub.status.busy": "2021-11-23T04:49:15.589166Z",
     "iopub.status.idle": "2021-11-23T04:49:37.583203Z",
     "shell.execute_reply": "2021-11-23T04:49:37.583644Z",
     "shell.execute_reply.started": "2021-11-23T04:38:14.166527Z"
    },
    "papermill": {
     "duration": 22.053503,
     "end_time": "2021-11-23T04:49:37.583814",
     "exception": false,
     "start_time": "2021-11-23T04:49:15.530311",
     "status": "completed"
    },
    "tags": []
   },
   "outputs": [
    {
     "name": "stderr",
     "output_type": "stream",
     "text": [
      "2021-11-23 04:49:16.287072: W tensorflow/core/framework/cpu_allocator_impl.cc:80] Allocation of 466560000 exceeds 10% of free system memory.\n"
     ]
    }
   ],
   "source": [
    "y_pred = model.predict(df_test)"
   ]
  },
  {
   "cell_type": "code",
   "execution_count": 50,
   "id": "b0b5bc31",
   "metadata": {
    "execution": {
     "iopub.execute_input": "2021-11-23T04:49:37.701124Z",
     "iopub.status.busy": "2021-11-23T04:49:37.700490Z",
     "iopub.status.idle": "2021-11-23T04:49:39.269471Z",
     "shell.execute_reply": "2021-11-23T04:49:39.268740Z",
     "shell.execute_reply.started": "2021-11-23T04:38:35.543103Z"
    },
    "papermill": {
     "duration": 1.628648,
     "end_time": "2021-11-23T04:49:39.269603",
     "exception": false,
     "start_time": "2021-11-23T04:49:37.640955",
     "status": "completed"
    },
    "tags": []
   },
   "outputs": [
    {
     "data": {
      "text/html": [
       "<div>\n",
       "<style scoped>\n",
       "    .dataframe tbody tr th:only-of-type {\n",
       "        vertical-align: middle;\n",
       "    }\n",
       "\n",
       "    .dataframe tbody tr th {\n",
       "        vertical-align: top;\n",
       "    }\n",
       "\n",
       "    .dataframe thead th {\n",
       "        text-align: right;\n",
       "    }\n",
       "</style>\n",
       "<table border=\"1\" class=\"dataframe\">\n",
       "  <thead>\n",
       "    <tr style=\"text-align: right;\">\n",
       "      <th></th>\n",
       "      <th>id</th>\n",
       "      <th>target</th>\n",
       "    </tr>\n",
       "  </thead>\n",
       "  <tbody>\n",
       "    <tr>\n",
       "      <th>0</th>\n",
       "      <td>600000</td>\n",
       "      <td>0.999997</td>\n",
       "    </tr>\n",
       "    <tr>\n",
       "      <th>1</th>\n",
       "      <td>600001</td>\n",
       "      <td>0.999997</td>\n",
       "    </tr>\n",
       "    <tr>\n",
       "      <th>2</th>\n",
       "      <td>600002</td>\n",
       "      <td>0.999997</td>\n",
       "    </tr>\n",
       "    <tr>\n",
       "      <th>3</th>\n",
       "      <td>600003</td>\n",
       "      <td>0.000003</td>\n",
       "    </tr>\n",
       "    <tr>\n",
       "      <th>4</th>\n",
       "      <td>600004</td>\n",
       "      <td>0.999997</td>\n",
       "    </tr>\n",
       "  </tbody>\n",
       "</table>\n",
       "</div>"
      ],
      "text/plain": [
       "       id    target\n",
       "0  600000  0.999997\n",
       "1  600001  0.999997\n",
       "2  600002  0.999997\n",
       "3  600003  0.000003\n",
       "4  600004  0.999997"
      ]
     },
     "execution_count": 50,
     "metadata": {},
     "output_type": "execute_result"
    }
   ],
   "source": [
    "sub_df = pd.read_csv(\"../input/tabular-playground-series-nov-2021/sample_submission.csv\")\n",
    "sub_df['target'] = y_pred\n",
    "sub_df.to_csv(\"submission.csv\", index=False)\n",
    "sub_df.head()"
   ]
  },
  {
   "cell_type": "code",
   "execution_count": null,
   "id": "46898fb3",
   "metadata": {
    "papermill": {
     "duration": 0.055939,
     "end_time": "2021-11-23T04:49:39.384767",
     "exception": false,
     "start_time": "2021-11-23T04:49:39.328828",
     "status": "completed"
    },
    "tags": []
   },
   "outputs": [],
   "source": []
  }
 ],
 "metadata": {
  "kernelspec": {
   "display_name": "Python 3",
   "language": "python",
   "name": "python3"
  },
  "language_info": {
   "codemirror_mode": {
    "name": "ipython",
    "version": 3
   },
   "file_extension": ".py",
   "mimetype": "text/x-python",
   "name": "python",
   "nbconvert_exporter": "python",
   "pygments_lexer": "ipython3",
   "version": "3.7.10"
  },
  "papermill": {
   "default_parameters": {},
   "duration": 632.626742,
   "end_time": "2021-11-23T04:49:42.841859",
   "environment_variables": {},
   "exception": null,
   "input_path": "__notebook__.ipynb",
   "output_path": "__notebook__.ipynb",
   "parameters": {},
   "start_time": "2021-11-23T04:39:10.215117",
   "version": "2.3.3"
  }
 },
 "nbformat": 4,
 "nbformat_minor": 5
}
